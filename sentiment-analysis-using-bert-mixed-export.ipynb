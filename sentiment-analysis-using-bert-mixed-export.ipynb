{
 "cells": [
  {
   "cell_type": "markdown",
   "metadata": {
    "id": "QbM7x-5UEzUR",
    "papermill": {
     "duration": 0.059736,
     "end_time": "2020-12-24T10:40:55.541863",
     "exception": false,
     "start_time": "2020-12-24T10:40:55.482127",
     "status": "completed"
    },
    "tags": []
   },
   "source": [
    "# Sentiment Analysis using BERT\n",
    "\n",
    "BERT (Bidirectionnal Encoder Representations for Transformers) is a “new method of pre-training language representations” developed by Google and released in late 2018."
   ]
  },
  {
   "cell_type": "markdown",
   "metadata": {
    "id": "Q6hKNfAlEzUS",
    "papermill": {
     "duration": 0.054847,
     "end_time": "2020-12-24T10:40:55.654119",
     "exception": false,
     "start_time": "2020-12-24T10:40:55.599272",
     "status": "completed"
    },
    "tags": []
   },
   "source": [
    "### Import Libraries and Set the intial variables"
   ]
  },
  {
   "cell_type": "code",
   "execution_count": 1,
   "metadata": {
    "execution": {
     "iopub.execute_input": "2020-12-24T10:40:55.763658Z",
     "iopub.status.busy": "2020-12-24T10:40:55.762789Z",
     "iopub.status.idle": "2020-12-24T10:41:05.911843Z",
     "shell.execute_reply": "2020-12-24T10:41:05.910641Z"
    },
    "id": "vezpsX-7GphM",
    "outputId": "a7164402-8a7b-4e4c-e118-ce6498ba4f2e",
    "papermill": {
     "duration": 10.201828,
     "end_time": "2020-12-24T10:41:05.912009",
     "exception": false,
     "start_time": "2020-12-24T10:40:55.710181",
     "status": "completed"
    },
    "tags": []
   },
   "outputs": [
    {
     "name": "stdout",
     "output_type": "stream",
     "text": [
      "Requirement already satisfied: transformers in /home/muaz/anaconda3/envs/hf/lib/python3.6/site-packages (4.5.0)\n",
      "Requirement already satisfied: requests in /home/muaz/anaconda3/envs/hf/lib/python3.6/site-packages (from transformers) (2.27.1)\n",
      "Requirement already satisfied: importlib-metadata in /home/muaz/anaconda3/envs/hf/lib/python3.6/site-packages (from transformers) (4.8.3)\n",
      "Requirement already satisfied: numpy>=1.17 in /home/muaz/anaconda3/envs/hf/lib/python3.6/site-packages (from transformers) (1.19.2)\n",
      "Requirement already satisfied: dataclasses in /home/muaz/anaconda3/envs/hf/lib/python3.6/site-packages (from transformers) (0.8)\n",
      "Requirement already satisfied: regex!=2019.12.17 in /home/muaz/anaconda3/envs/hf/lib/python3.6/site-packages (from transformers) (2022.9.13)\n",
      "Requirement already satisfied: tqdm>=4.27 in /home/muaz/anaconda3/envs/hf/lib/python3.6/site-packages (from transformers) (4.64.1)\n",
      "Requirement already satisfied: filelock in /home/muaz/anaconda3/envs/hf/lib/python3.6/site-packages (from transformers) (3.4.1)\n",
      "Requirement already satisfied: tokenizers<0.11,>=0.10.1 in /home/muaz/anaconda3/envs/hf/lib/python3.6/site-packages (from transformers) (0.10.3)\n",
      "Requirement already satisfied: sacremoses in /home/muaz/anaconda3/envs/hf/lib/python3.6/site-packages (from transformers) (0.0.53)\n",
      "Requirement already satisfied: packaging in /home/muaz/anaconda3/envs/hf/lib/python3.6/site-packages (from transformers) (21.3)\n",
      "Requirement already satisfied: importlib-resources in /home/muaz/anaconda3/envs/hf/lib/python3.6/site-packages (from tqdm>=4.27->transformers) (5.4.0)\n",
      "Requirement already satisfied: zipp>=0.5 in /home/muaz/anaconda3/envs/hf/lib/python3.6/site-packages (from importlib-metadata->transformers) (3.6.0)\n",
      "Requirement already satisfied: typing-extensions>=3.6.4 in /home/muaz/anaconda3/envs/hf/lib/python3.6/site-packages (from importlib-metadata->transformers) (4.1.1)\n",
      "Requirement already satisfied: pyparsing!=3.0.5,>=2.0.2 in /home/muaz/anaconda3/envs/hf/lib/python3.6/site-packages (from packaging->transformers) (3.0.9)\n",
      "Requirement already satisfied: urllib3<1.27,>=1.21.1 in /home/muaz/anaconda3/envs/hf/lib/python3.6/site-packages (from requests->transformers) (1.26.12)\n",
      "Requirement already satisfied: charset-normalizer~=2.0.0 in /home/muaz/anaconda3/envs/hf/lib/python3.6/site-packages (from requests->transformers) (2.0.12)\n",
      "Requirement already satisfied: certifi>=2017.4.17 in /home/muaz/anaconda3/envs/hf/lib/python3.6/site-packages (from requests->transformers) (2021.5.30)\n",
      "Requirement already satisfied: idna<4,>=2.5 in /home/muaz/anaconda3/envs/hf/lib/python3.6/site-packages (from requests->transformers) (3.4)\n",
      "Requirement already satisfied: click in /home/muaz/anaconda3/envs/hf/lib/python3.6/site-packages (from sacremoses->transformers) (8.0.4)\n",
      "Requirement already satisfied: joblib in /home/muaz/anaconda3/envs/hf/lib/python3.6/site-packages (from sacremoses->transformers) (1.1.1)\n",
      "Requirement already satisfied: six in /home/muaz/anaconda3/envs/hf/lib/python3.6/site-packages (from sacremoses->transformers) (1.16.0)\n"
     ]
    }
   ],
   "source": [
    "!pip install transformers"
   ]
  },
  {
   "cell_type": "code",
   "execution_count": 2,
   "metadata": {
    "execution": {
     "iopub.execute_input": "2020-12-24T10:41:06.032496Z",
     "iopub.status.busy": "2020-12-24T10:41:06.031346Z",
     "iopub.status.idle": "2020-12-24T10:41:15.711746Z",
     "shell.execute_reply": "2020-12-24T10:41:15.711007Z"
    },
    "id": "WtQykqrfEzUT",
    "papermill": {
     "duration": 9.726207,
     "end_time": "2020-12-24T10:41:15.711956",
     "exception": false,
     "start_time": "2020-12-24T10:41:05.985749",
     "status": "completed"
    },
    "tags": []
   },
   "outputs": [],
   "source": [
    "# Import necessary libraries\n",
    "import numpy as np\n",
    "import pandas as pd\n",
    "import seaborn as sns\n",
    "from pylab import rcParams\n",
    "import matplotlib.pyplot as plt\n",
    "from matplotlib import rc\n",
    "from sklearn.model_selection import train_test_split\n",
    "from sklearn.metrics import confusion_matrix, classification_report\n",
    "from collections import defaultdict\n",
    "from textwrap import wrap\n",
    "\n",
    "# Torch ML libraries\n",
    "import transformers\n",
    "from transformers import BertModel, BertTokenizer, AdamW, get_linear_schedule_with_warmup\n",
    "import torch\n",
    "from torch import nn, optim\n",
    "from torch.utils.data import Dataset, DataLoader\n",
    "\n",
    "# Misc.\n",
    "import warnings\n",
    "warnings.filterwarnings('ignore')"
   ]
  },
  {
   "cell_type": "code",
   "execution_count": 3,
   "metadata": {
    "execution": {
     "iopub.execute_input": "2020-12-24T10:41:15.808786Z",
     "iopub.status.busy": "2020-12-24T10:41:15.807937Z",
     "iopub.status.idle": "2020-12-24T10:41:15.819901Z",
     "shell.execute_reply": "2020-12-24T10:41:15.819301Z"
    },
    "id": "gRINjFWWEzUb",
    "papermill": {
     "duration": 0.069774,
     "end_time": "2020-12-24T10:41:15.820032",
     "exception": false,
     "start_time": "2020-12-24T10:41:15.750258",
     "status": "completed"
    },
    "tags": []
   },
   "outputs": [],
   "source": [
    "# Set intial variables and constants\n",
    "%config InlineBackend.figure_format='retina'\n",
    "\n",
    "# Graph Designs\n",
    "sns.set(style='whitegrid', palette='muted', font_scale=1.2)\n",
    "HAPPY_COLORS_PALETTE = [\"#01BEFE\", \"#FFDD00\", \"#FF7D00\", \"#FF006D\", \"#ADFF02\", \"#8F00FF\"]\n",
    "sns.set_palette(sns.color_palette(HAPPY_COLORS_PALETTE))\n",
    "rcParams['figure.figsize'] = 12, 8\n",
    "\n",
    "# Random seed for reproducibilty\n",
    "RANDOM_SEED = 42\n",
    "np.random.seed(RANDOM_SEED)\n",
    "torch.manual_seed(RANDOM_SEED)\n",
    "\n",
    "# Set GPU\n",
    "device = torch.device(\"cuda\" if torch.cuda.is_available() else \"cpu\")\n"
   ]
  },
  {
   "cell_type": "code",
   "execution_count": null,
   "metadata": {},
   "outputs": [],
   "source": []
  },
  {
   "cell_type": "markdown",
   "metadata": {
    "id": "LQOFO5MSEzUf",
    "papermill": {
     "duration": 0.043307,
     "end_time": "2020-12-24T10:41:15.903190",
     "exception": false,
     "start_time": "2020-12-24T10:41:15.859883",
     "status": "completed"
    },
    "tags": []
   },
   "source": [
    "### Load the data"
   ]
  },
  {
   "cell_type": "code",
   "execution_count": 4,
   "metadata": {
    "execution": {
     "iopub.execute_input": "2020-12-24T10:41:15.999903Z",
     "iopub.status.busy": "2020-12-24T10:41:15.999121Z",
     "iopub.status.idle": "2020-12-24T10:41:16.196291Z",
     "shell.execute_reply": "2020-12-24T10:41:16.195493Z"
    },
    "id": "g6b5ajqzEzUg",
    "outputId": "a7888891-5d69-42b7-a1e0-ccdbe75f04e4",
    "papermill": {
     "duration": 0.251685,
     "end_time": "2020-12-24T10:41:16.196420",
     "exception": false,
     "start_time": "2020-12-24T10:41:15.944735",
     "status": "completed"
    },
    "tags": []
   },
   "outputs": [
    {
     "data": {
      "text/plain": [
       "(7199, 15)"
      ]
     },
     "execution_count": 4,
     "metadata": {},
     "output_type": "execute_result"
    }
   ],
   "source": [
    "df = pd.read_csv('./mixedexport.csv')\n",
    "df.shape"
   ]
  },
  {
   "cell_type": "code",
   "execution_count": 5,
   "metadata": {
    "execution": {
     "iopub.execute_input": "2020-12-24T10:41:16.293895Z",
     "iopub.status.busy": "2020-12-24T10:41:16.292929Z",
     "iopub.status.idle": "2020-12-24T10:41:16.304760Z",
     "shell.execute_reply": "2020-12-24T10:41:16.305248Z"
    },
    "id": "eQ5Uwg8xEzUk",
    "outputId": "2b23324b-d208-462f-d011-95c2f7847390",
    "papermill": {
     "duration": 0.069877,
     "end_time": "2020-12-24T10:41:16.305369",
     "exception": false,
     "start_time": "2020-12-24T10:41:16.235492",
     "status": "completed"
    },
    "tags": []
   },
   "outputs": [
    {
     "data": {
      "text/html": [
       "<div>\n",
       "<style scoped>\n",
       "    .dataframe tbody tr th:only-of-type {\n",
       "        vertical-align: middle;\n",
       "    }\n",
       "\n",
       "    .dataframe tbody tr th {\n",
       "        vertical-align: top;\n",
       "    }\n",
       "\n",
       "    .dataframe thead th {\n",
       "        text-align: right;\n",
       "    }\n",
       "</style>\n",
       "<table border=\"1\" class=\"dataframe\">\n",
       "  <thead>\n",
       "    <tr style=\"text-align: right;\">\n",
       "      <th></th>\n",
       "      <th>id</th>\n",
       "      <th>link</th>\n",
       "      <th>author_id</th>\n",
       "      <th>created_at</th>\n",
       "      <th>text</th>\n",
       "      <th>sentiment</th>\n",
       "      <th>contains_mentions</th>\n",
       "      <th>referenced_replied_to</th>\n",
       "      <th>referenced_retweeted</th>\n",
       "      <th>referenced_quoted</th>\n",
       "      <th>likes</th>\n",
       "      <th>replies</th>\n",
       "      <th>retweets</th>\n",
       "      <th>quotes</th>\n",
       "      <th>bio</th>\n",
       "    </tr>\n",
       "  </thead>\n",
       "  <tbody>\n",
       "    <tr>\n",
       "      <th>0</th>\n",
       "      <td>1.575629e+18</td>\n",
       "      <td>https://twitter.com/twitter/status/15756287833...</td>\n",
       "      <td>2.695222e+09</td>\n",
       "      <td>2022-09-29T23:29:10.000Z</td>\n",
       "      <td>u wanna butt in line for the bathroom bc ur ki...</td>\n",
       "      <td>negative</td>\n",
       "      <td>0</td>\n",
       "      <td>0</td>\n",
       "      <td>0</td>\n",
       "      <td>0</td>\n",
       "      <td>0</td>\n",
       "      <td>0</td>\n",
       "      <td>0</td>\n",
       "      <td>0</td>\n",
       "      <td>Jesus Christ is King</td>\n",
       "    </tr>\n",
       "    <tr>\n",
       "      <th>1</th>\n",
       "      <td>1.575628e+18</td>\n",
       "      <td>https://twitter.com/twitter/status/15756282504...</td>\n",
       "      <td>1.567603e+18</td>\n",
       "      <td>2022-09-29T23:27:03.000Z</td>\n",
       "      <td>@AriankaMarande2 She’s like this homophobic ma...</td>\n",
       "      <td>negative</td>\n",
       "      <td>1</td>\n",
       "      <td>1</td>\n",
       "      <td>0</td>\n",
       "      <td>0</td>\n",
       "      <td>0</td>\n",
       "      <td>1</td>\n",
       "      <td>0</td>\n",
       "      <td>0</td>\n",
       "      <td>🇺🇲🇳🇮 I watch alot of MMA/BOXING and Anime I 🙌💎</td>\n",
       "    </tr>\n",
       "    <tr>\n",
       "      <th>2</th>\n",
       "      <td>1.575628e+18</td>\n",
       "      <td>https://twitter.com/twitter/status/15756275297...</td>\n",
       "      <td>1.052126e+18</td>\n",
       "      <td>2022-09-29T23:24:11.000Z</td>\n",
       "      <td>If Andrew Tate catches me working a 9-5 but I'...</td>\n",
       "      <td>negative</td>\n",
       "      <td>0</td>\n",
       "      <td>0</td>\n",
       "      <td>0</td>\n",
       "      <td>0</td>\n",
       "      <td>1</td>\n",
       "      <td>0</td>\n",
       "      <td>0</td>\n",
       "      <td>0</td>\n",
       "      <td>🐐🐏🐐</td>\n",
       "    </tr>\n",
       "    <tr>\n",
       "      <th>3</th>\n",
       "      <td>1.575627e+18</td>\n",
       "      <td>https://twitter.com/twitter/status/15756271698...</td>\n",
       "      <td>4.136330e+07</td>\n",
       "      <td>2022-09-29T23:22:45.000Z</td>\n",
       "      <td>most of these dudes who quote andrew tate don’...</td>\n",
       "      <td>positive</td>\n",
       "      <td>0</td>\n",
       "      <td>0</td>\n",
       "      <td>0</td>\n",
       "      <td>0</td>\n",
       "      <td>0</td>\n",
       "      <td>1</td>\n",
       "      <td>0</td>\n",
       "      <td>0</td>\n",
       "      <td>dreamers dive in headfirst</td>\n",
       "    </tr>\n",
       "    <tr>\n",
       "      <th>4</th>\n",
       "      <td>1.575627e+18</td>\n",
       "      <td>https://twitter.com/twitter/status/15756268902...</td>\n",
       "      <td>1.487694e+18</td>\n",
       "      <td>2022-09-29T23:21:39.000Z</td>\n",
       "      <td>Soldier boy and Andrew tate wud make great fri...</td>\n",
       "      <td>negative</td>\n",
       "      <td>0</td>\n",
       "      <td>0</td>\n",
       "      <td>0</td>\n",
       "      <td>0</td>\n",
       "      <td>0</td>\n",
       "      <td>0</td>\n",
       "      <td>0</td>\n",
       "      <td>0</td>\n",
       "      <td>I’m an ass man 🍑</td>\n",
       "    </tr>\n",
       "  </tbody>\n",
       "</table>\n",
       "</div>"
      ],
      "text/plain": [
       "             id                                               link  \\\n",
       "0  1.575629e+18  https://twitter.com/twitter/status/15756287833...   \n",
       "1  1.575628e+18  https://twitter.com/twitter/status/15756282504...   \n",
       "2  1.575628e+18  https://twitter.com/twitter/status/15756275297...   \n",
       "3  1.575627e+18  https://twitter.com/twitter/status/15756271698...   \n",
       "4  1.575627e+18  https://twitter.com/twitter/status/15756268902...   \n",
       "\n",
       "      author_id                created_at  \\\n",
       "0  2.695222e+09  2022-09-29T23:29:10.000Z   \n",
       "1  1.567603e+18  2022-09-29T23:27:03.000Z   \n",
       "2  1.052126e+18  2022-09-29T23:24:11.000Z   \n",
       "3  4.136330e+07  2022-09-29T23:22:45.000Z   \n",
       "4  1.487694e+18  2022-09-29T23:21:39.000Z   \n",
       "\n",
       "                                                text sentiment  \\\n",
       "0  u wanna butt in line for the bathroom bc ur ki...  negative   \n",
       "1  @AriankaMarande2 She’s like this homophobic ma...  negative   \n",
       "2  If Andrew Tate catches me working a 9-5 but I'...  negative   \n",
       "3  most of these dudes who quote andrew tate don’...  positive   \n",
       "4  Soldier boy and Andrew tate wud make great fri...  negative   \n",
       "\n",
       "   contains_mentions  referenced_replied_to  referenced_retweeted  \\\n",
       "0                  0                      0                     0   \n",
       "1                  1                      1                     0   \n",
       "2                  0                      0                     0   \n",
       "3                  0                      0                     0   \n",
       "4                  0                      0                     0   \n",
       "\n",
       "   referenced_quoted  likes  replies  retweets  quotes  \\\n",
       "0                  0      0        0         0       0   \n",
       "1                  0      0        1         0       0   \n",
       "2                  0      1        0         0       0   \n",
       "3                  0      0        1         0       0   \n",
       "4                  0      0        0         0       0   \n",
       "\n",
       "                                              bio  \n",
       "0                            Jesus Christ is King  \n",
       "1  🇺🇲🇳🇮 I watch alot of MMA/BOXING and Anime I 🙌💎  \n",
       "2                                             🐐🐏🐐  \n",
       "3                      dreamers dive in headfirst  \n",
       "4                                I’m an ass man 🍑  "
      ]
     },
     "execution_count": 5,
     "metadata": {},
     "output_type": "execute_result"
    }
   ],
   "source": [
    "# Let's have a look at the data \n",
    "df.head()"
   ]
  },
  {
   "cell_type": "markdown",
   "metadata": {
    "id": "7zqGIlGIEzUo",
    "papermill": {
     "duration": 0.041799,
     "end_time": "2020-12-24T10:41:16.385313",
     "exception": false,
     "start_time": "2020-12-24T10:41:16.343514",
     "status": "completed"
    },
    "tags": []
   },
   "source": [
    "We can see that the most relevant column for us is content and replyContent and the score as well."
   ]
  },
  {
   "cell_type": "code",
   "execution_count": 21,
   "metadata": {
    "execution": {
     "iopub.execute_input": "2020-12-24T10:41:16.479576Z",
     "iopub.status.busy": "2020-12-24T10:41:16.478724Z",
     "iopub.status.idle": "2020-12-24T10:41:16.486050Z",
     "shell.execute_reply": "2020-12-24T10:41:16.485379Z"
    },
    "id": "24xNLIJlEzUo",
    "outputId": "eae6af5f-068a-480e-acdd-3c78b3e8a81b",
    "papermill": {
     "duration": 0.061493,
     "end_time": "2020-12-24T10:41:16.486170",
     "exception": false,
     "start_time": "2020-12-24T10:41:16.424677",
     "status": "completed"
    },
    "tags": []
   },
   "outputs": [
    {
     "data": {
      "text/plain": [
       "id                         0\n",
       "link                       0\n",
       "author_id                  0\n",
       "created_at                 0\n",
       "text                       0\n",
       "sentiment                  0\n",
       "contains_mentions          0\n",
       "referenced_replied_to      0\n",
       "referenced_retweeted       0\n",
       "referenced_quoted          0\n",
       "likes                      0\n",
       "replies                    0\n",
       "retweets                   0\n",
       "quotes                     0\n",
       "bio                      812\n",
       "dtype: int64"
      ]
     },
     "execution_count": 21,
     "metadata": {},
     "output_type": "execute_result"
    }
   ],
   "source": [
    "# Let's check for missing values \n",
    "df = df.dropna(subset=['sentiment'])\n",
    "\n",
    "df.isnull().sum()\n",
    "\n"
   ]
  },
  {
   "cell_type": "code",
   "execution_count": 22,
   "metadata": {
    "execution": {
     "iopub.execute_input": "2020-12-24T10:41:16.646609Z",
     "iopub.status.busy": "2020-12-24T10:41:16.645729Z",
     "iopub.status.idle": "2020-12-24T10:41:16.926033Z",
     "shell.execute_reply": "2020-12-24T10:41:16.926609Z"
    },
    "id": "lWJJv8q7EzUu",
    "outputId": "0a5797e5-60e6-4f35-d37a-50014f8bdb98",
    "papermill": {
     "duration": 0.323912,
     "end_time": "2020-12-24T10:41:16.926756",
     "exception": false,
     "start_time": "2020-12-24T10:41:16.602844",
     "status": "completed"
    },
    "tags": []
   },
   "outputs": [
    {
     "data": {
      "image/png": "[encoded data removed]",
      "text/plain": [
       "<Figure size 864x576 with 1 Axes>"
      ]
     },
     "metadata": {
      "image/png": {
       "height": 489,
       "width": 745
      }
     },
     "output_type": "display_data"
    }
   ],
   "source": [
    "# Let's have a look at the class balance.\n",
    "sns.countplot(df.sentiment)\n",
    "plt.xlabel('review score');"
   ]
  },
  {
   "cell_type": "code",
   "execution_count": 38,
   "metadata": {},
   "outputs": [
    {
     "data": {
      "text/plain": [
       "0       0\n",
       "1       0\n",
       "2       0\n",
       "3       1\n",
       "4       0\n",
       "       ..\n",
       "7194    0\n",
       "7195    1\n",
       "7196    0\n",
       "7197    1\n",
       "7198    1\n",
       "Name: sentiment, Length: 7192, dtype: int64"
      ]
     },
     "execution_count": 38,
     "metadata": {},
     "output_type": "execute_result"
    }
   ],
   "source": [
    "df['sentiment']"
   ]
  },
  {
   "cell_type": "code",
   "execution_count": 37,
   "metadata": {
    "execution": {
     "iopub.execute_input": "2020-12-24T10:41:17.129871Z",
     "iopub.status.busy": "2020-12-24T10:41:17.129138Z",
     "iopub.status.idle": "2020-12-24T10:41:17.133107Z",
     "shell.execute_reply": "2020-12-24T10:41:17.132574Z"
    },
    "id": "MyK4bEuhEzUy",
    "papermill": {
     "duration": 0.062942,
     "end_time": "2020-12-24T10:41:17.133225",
     "exception": false,
     "start_time": "2020-12-24T10:41:17.070283",
     "status": "completed"
    },
    "tags": []
   },
   "outputs": [],
   "source": [
    "# Function to convert score to sentiment\n",
    "def to_sentiment(rating):\n",
    "    \n",
    "#     rating = int(rating)\n",
    "    \n",
    "    # Convert to class\n",
    "    if rating == 'negative':\n",
    "        return 0\n",
    "    elif rating == \"positive\":\n",
    "        return 1\n",
    "\n",
    "    else:\n",
    "        print(rating)\n",
    "\n",
    "# Apply to the dataset \n",
    "df['sentiment'] = df.sentiment.apply(to_sentiment)"
   ]
  },
  {
   "cell_type": "code",
   "execution_count": null,
   "metadata": {},
   "outputs": [],
   "source": []
  },
  {
   "cell_type": "code",
   "execution_count": 24,
   "metadata": {
    "execution": {
     "iopub.execute_input": "2020-12-24T10:41:17.223064Z",
     "iopub.status.busy": "2020-12-24T10:41:17.222191Z",
     "iopub.status.idle": "2020-12-24T10:41:17.454463Z",
     "shell.execute_reply": "2020-12-24T10:41:17.455021Z"
    },
    "id": "VzaRGLGDEzU2",
    "outputId": "df731374-977a-4f04-ba82-ab60c0c5ffa8",
    "papermill": {
     "duration": 0.279445,
     "end_time": "2020-12-24T10:41:17.455185",
     "exception": false,
     "start_time": "2020-12-24T10:41:17.175740",
     "status": "completed"
    },
    "tags": []
   },
   "outputs": [],
   "source": [
    "# # Plot the distribution\n",
    "# class_names = ['negative', 'neutral', 'positive']\n",
    "# ax = sns.countplot(df.sentiment)\n",
    "# plt.xlabel('review sentiment')\n",
    "# ax.set_xticklabels(class_names)"
   ]
  },
  {
   "cell_type": "markdown",
   "metadata": {
    "id": "JeJSe1hIEzU5",
    "papermill": {
     "duration": 0.046531,
     "end_time": "2020-12-24T10:41:17.548560",
     "exception": false,
     "start_time": "2020-12-24T10:41:17.502029",
     "status": "completed"
    },
    "tags": []
   },
   "source": [
    "## Data Preprocessing\n",
    "\n",
    "Machine Learning models don’t work with raw text. You need to convert text to numerical representation. BERT requires even more attention when it comes to this representation. \n",
    "\n",
    "Here are the requirements:\n",
    "\n",
    "* Add special tokens to separate sentences and do classification\n",
    "* Pass sequences of constant length (introduce padding)\n",
    "* Create array of 0s (pad token) and 1s (real token) called attention mask\n",
    "\n",
    "BERT offers a few model architectures and I will be using one of them combined with manual preprocessing. I am using the cased version which considers GREAT and great to be to different entities and BAD might be given more focus than bad.  \n",
    "\n",
    "The tokenizer will break the sentence into words and give numerical values to each word. "
   ]
  },
  {
   "cell_type": "code",
   "execution_count": 39,
   "metadata": {
    "execution": {
     "iopub.execute_input": "2020-12-24T10:41:17.650414Z",
     "iopub.status.busy": "2020-12-24T10:41:17.649643Z",
     "iopub.status.idle": "2020-12-24T10:41:18.012458Z",
     "shell.execute_reply": "2020-12-24T10:41:18.013323Z"
    },
    "id": "Uj5eXyqYEzU6",
    "outputId": "4a6b71ec-7503-4884-c669-08383d60225e",
    "papermill": {
     "duration": 0.416211,
     "end_time": "2020-12-24T10:41:18.013507",
     "exception": false,
     "start_time": "2020-12-24T10:41:17.597296",
     "status": "completed"
    },
    "tags": []
   },
   "outputs": [],
   "source": [
    "# Set the model name\n",
    "MODEL_NAME = 'bert-base-cased'\n",
    "\n",
    "# Build a BERT based tokenizer\n",
    "tokenizer = BertTokenizer.from_pretrained(MODEL_NAME)"
   ]
  },
  {
   "cell_type": "code",
   "execution_count": 40,
   "metadata": {
    "execution": {
     "iopub.execute_input": "2020-12-24T10:41:18.108462Z",
     "iopub.status.busy": "2020-12-24T10:41:18.107459Z",
     "iopub.status.idle": "2020-12-24T10:41:18.112252Z",
     "shell.execute_reply": "2020-12-24T10:41:18.112730Z"
    },
    "id": "5XqmI4AZEzU9",
    "outputId": "773ac222-7aa8-48d6-eeab-2239646a805a",
    "papermill": {
     "duration": 0.054842,
     "end_time": "2020-12-24T10:41:18.112852",
     "exception": false,
     "start_time": "2020-12-24T10:41:18.058010",
     "status": "completed"
    },
    "tags": []
   },
   "outputs": [
    {
     "name": "stdout",
     "output_type": "stream",
     "text": [
      "[SEP] 102\n",
      "[CLS] 101\n",
      "[PAD] 0\n",
      "[UNK] 100\n"
     ]
    }
   ],
   "source": [
    "# Some of the common BERT tokens\n",
    "print(tokenizer.sep_token, tokenizer.sep_token_id) # marker for ending of a sentence\n",
    "print(tokenizer.cls_token, tokenizer.cls_token_id) # start of each sentence, so BERT knows we’re doing classification\n",
    "print(tokenizer.pad_token, tokenizer.pad_token_id) # special token for padding\n",
    "print(tokenizer.unk_token, tokenizer.unk_token_id) # tokens not found in training set "
   ]
  },
  {
   "cell_type": "markdown",
   "metadata": {
    "id": "r-ridSzLEzVA",
    "papermill": {
     "duration": 0.05214,
     "end_time": "2020-12-24T10:41:18.210048",
     "exception": false,
     "start_time": "2020-12-24T10:41:18.157908",
     "status": "completed"
    },
    "tags": []
   },
   "source": [
    "BERT works with fixed-length sequences. We’ll use a simple strategy to choose the max length. Let’s store the token length of each review."
   ]
  },
  {
   "cell_type": "code",
   "execution_count": 41,
   "metadata": {
    "execution": {
     "iopub.execute_input": "2020-12-24T10:41:18.303902Z",
     "iopub.status.busy": "2020-12-24T10:41:18.303283Z",
     "iopub.status.idle": "2020-12-24T10:41:30.634812Z",
     "shell.execute_reply": "2020-12-24T10:41:30.633839Z"
    },
    "id": "oBIUYNVoEzVB",
    "outputId": "fbdb58c8-ea3b-44b7-a77f-950c5c18564a",
    "papermill": {
     "duration": 12.38078,
     "end_time": "2020-12-24T10:41:30.634937",
     "exception": false,
     "start_time": "2020-12-24T10:41:18.254157",
     "status": "completed"
    },
    "tags": []
   },
   "outputs": [
    {
     "name": "stderr",
     "output_type": "stream",
     "text": [
      "Truncation was not explicitly activated but `max_length` is provided a specific value, please use `truncation=True` to explicitly truncate examples to max length. Defaulting to 'longest_first' truncation strategy. If you encode pairs of sequences (GLUE-style) with the tokenizer you can select this strategy more precisely by providing a specific strategy to `truncation`.\n"
     ]
    }
   ],
   "source": [
    "# Store length of each review \n",
    "token_lens = []\n",
    "\n",
    "# Iterate through the content slide\n",
    "for txt in df.text:\n",
    "    tokens = tokenizer.encode(txt, max_length=512)\n",
    "    token_lens.append(len(tokens))"
   ]
  },
  {
   "cell_type": "code",
   "execution_count": 42,
   "metadata": {
    "execution": {
     "iopub.execute_input": "2020-12-24T10:41:30.738145Z",
     "iopub.status.busy": "2020-12-24T10:41:30.736954Z",
     "iopub.status.idle": "2020-12-24T10:41:31.174710Z",
     "shell.execute_reply": "2020-12-24T10:41:31.175269Z"
    },
    "id": "bpVn-ndyEzVE",
    "outputId": "70db118d-4736-4b61-db2d-bc9de8e0d977",
    "papermill": {
     "duration": 0.494561,
     "end_time": "2020-12-24T10:41:31.175429",
     "exception": false,
     "start_time": "2020-12-24T10:41:30.680868",
     "status": "completed"
    },
    "tags": []
   },
   "outputs": [
    {
     "data": {
      "text/plain": [
       "Text(0.5, 0, 'Token count')"
      ]
     },
     "execution_count": 42,
     "metadata": {},
     "output_type": "execute_result"
    },
    {
     "data": {
      "image/png": "[encoded data removed]",
      "text/plain": [
       "<Figure size 864x576 with 1 Axes>"
      ]
     },
     "metadata": {
      "image/png": {
       "height": 489,
       "width": 749
      }
     },
     "output_type": "display_data"
    }
   ],
   "source": [
    "# plot the distribution of review lengths \n",
    "sns.distplot(token_lens)\n",
    "plt.xlim([0, 256]);\n",
    "plt.xlabel('Token count')"
   ]
  },
  {
   "cell_type": "markdown",
   "metadata": {
    "id": "QMj924FHEzVI",
    "papermill": {
     "duration": 0.046157,
     "end_time": "2020-12-24T10:41:31.270741",
     "exception": false,
     "start_time": "2020-12-24T10:41:31.224584",
     "status": "completed"
    },
    "tags": []
   },
   "source": [
    "Most of the reviews seem to contain less than 120 tokens, but we’ll be on the safe side and choose a maximum length of 160. "
   ]
  },
  {
   "cell_type": "code",
   "execution_count": 43,
   "metadata": {
    "execution": {
     "iopub.execute_input": "2020-12-24T10:41:31.369565Z",
     "iopub.status.busy": "2020-12-24T10:41:31.368714Z",
     "iopub.status.idle": "2020-12-24T10:41:31.371640Z",
     "shell.execute_reply": "2020-12-24T10:41:31.371105Z"
    },
    "id": "blPAZJOPEzVJ",
    "papermill": {
     "duration": 0.053793,
     "end_time": "2020-12-24T10:41:31.371748",
     "exception": false,
     "start_time": "2020-12-24T10:41:31.317955",
     "status": "completed"
    },
    "tags": []
   },
   "outputs": [],
   "source": [
    "MAX_LEN = 110"
   ]
  },
  {
   "cell_type": "markdown",
   "metadata": {
    "id": "5owK7q5hEzVL",
    "papermill": {
     "duration": 0.045713,
     "end_time": "2020-12-24T10:41:31.464438",
     "exception": false,
     "start_time": "2020-12-24T10:41:31.418725",
     "status": "completed"
    },
    "tags": []
   },
   "source": [
    "### Preparing Torch Dataset\n",
    "\n",
    "To enter data into a PyTorch, we need a more robust data generator class. We will return the review text as well to validate our predictions easily. "
   ]
  },
  {
   "cell_type": "code",
   "execution_count": 44,
   "metadata": {
    "execution": {
     "iopub.execute_input": "2020-12-24T10:41:31.568644Z",
     "iopub.status.busy": "2020-12-24T10:41:31.567775Z",
     "iopub.status.idle": "2020-12-24T10:41:31.570989Z",
     "shell.execute_reply": "2020-12-24T10:41:31.570459Z"
    },
    "id": "Sbakw3KIEzVM",
    "papermill": {
     "duration": 0.060402,
     "end_time": "2020-12-24T10:41:31.571088",
     "exception": false,
     "start_time": "2020-12-24T10:41:31.510686",
     "status": "completed"
    },
    "tags": []
   },
   "outputs": [],
   "source": [
    "class GPReviewDataset(Dataset):\n",
    "    # Constructor Function \n",
    "    def __init__(self, reviews, targets, tokenizer, max_len):\n",
    "        self.reviews = reviews\n",
    "        self.targets = targets\n",
    "        self.tokenizer = tokenizer\n",
    "        self.max_len = max_len\n",
    "    \n",
    "    # Length magic method\n",
    "    def __len__(self):\n",
    "        return len(self.reviews)\n",
    "    \n",
    "    # get item magic method\n",
    "    def __getitem__(self, item):\n",
    "        review = str(self.reviews[item])\n",
    "        target = self.targets[item]\n",
    "        \n",
    "        # Encoded format to be returned \n",
    "        encoding = self.tokenizer.encode_plus(\n",
    "            review,\n",
    "            add_special_tokens=True,\n",
    "            max_length=self.max_len,\n",
    "            return_token_type_ids=False,\n",
    "            pad_to_max_length=True,\n",
    "            return_attention_mask=True,\n",
    "            return_tensors='pt',\n",
    "        )\n",
    "        \n",
    "        return {\n",
    "            'review_text': review,\n",
    "            'input_ids': encoding['input_ids'].flatten(),\n",
    "            'attention_mask': encoding['attention_mask'].flatten(),\n",
    "            'targets': torch.tensor(target, dtype=torch.long)\n",
    "        }"
   ]
  },
  {
   "cell_type": "markdown",
   "metadata": {
    "id": "Q4_AxWjuEzVP",
    "papermill": {
     "duration": 0.048421,
     "end_time": "2020-12-24T10:41:31.666280",
     "exception": false,
     "start_time": "2020-12-24T10:41:31.617859",
     "status": "completed"
    },
    "tags": []
   },
   "source": [
    "Create a 80% train data and 10% test and 10% validation data"
   ]
  },
  {
   "cell_type": "code",
   "execution_count": 45,
   "metadata": {
    "execution": {
     "iopub.execute_input": "2020-12-24T10:41:31.767347Z",
     "iopub.status.busy": "2020-12-24T10:41:31.766622Z",
     "iopub.status.idle": "2020-12-24T10:41:31.779725Z",
     "shell.execute_reply": "2020-12-24T10:41:31.780320Z"
    },
    "id": "qIXH-Y-gEzVQ",
    "outputId": "162ea24f-7bc4-4631-bdc7-8a795334934d",
    "papermill": {
     "duration": 0.066803,
     "end_time": "2020-12-24T10:41:31.780437",
     "exception": false,
     "start_time": "2020-12-24T10:41:31.713634",
     "status": "completed"
    },
    "tags": []
   },
   "outputs": [
    {
     "name": "stdout",
     "output_type": "stream",
     "text": [
      "(5753, 15) (1295, 15) (144, 15)\n"
     ]
    }
   ],
   "source": [
    "df_train, df_test = train_test_split(df, test_size=0.2, random_state=RANDOM_SEED)\n",
    "df_val, df_test = train_test_split(df_test, test_size=0.1, random_state=RANDOM_SEED)\n",
    "\n",
    "print(df_train.shape, df_val.shape, df_test.shape)"
   ]
  },
  {
   "cell_type": "markdown",
   "metadata": {
    "id": "SQeS3OqGEzVS",
    "papermill": {
     "duration": 0.04786,
     "end_time": "2020-12-24T10:41:31.875781",
     "exception": false,
     "start_time": "2020-12-24T10:41:31.827921",
     "status": "completed"
    },
    "tags": []
   },
   "source": [
    "Create a dataloader to release data in batches."
   ]
  },
  {
   "cell_type": "code",
   "execution_count": 46,
   "metadata": {
    "execution": {
     "iopub.execute_input": "2020-12-24T10:41:31.979571Z",
     "iopub.status.busy": "2020-12-24T10:41:31.978811Z",
     "iopub.status.idle": "2020-12-24T10:41:31.981390Z",
     "shell.execute_reply": "2020-12-24T10:41:31.981829Z"
    },
    "id": "c7SCbUlmEzVT",
    "papermill": {
     "duration": 0.05686,
     "end_time": "2020-12-24T10:41:31.981949",
     "exception": false,
     "start_time": "2020-12-24T10:41:31.925089",
     "status": "completed"
    },
    "tags": []
   },
   "outputs": [],
   "source": [
    "def create_data_loader(df, tokenizer, max_len, batch_size):\n",
    "    ds = GPReviewDataset(\n",
    "        reviews=df.text.to_numpy(),\n",
    "        targets=df.sentiment.to_numpy(),\n",
    "        tokenizer=tokenizer,\n",
    "        max_len=max_len\n",
    "    )\n",
    "    \n",
    "    return DataLoader(\n",
    "        ds,\n",
    "        batch_size=batch_size,\n",
    "        num_workers=0\n",
    "    )"
   ]
  },
  {
   "cell_type": "code",
   "execution_count": 47,
   "metadata": {
    "execution": {
     "iopub.execute_input": "2020-12-24T10:41:32.082837Z",
     "iopub.status.busy": "2020-12-24T10:41:32.082102Z",
     "iopub.status.idle": "2020-12-24T10:41:32.085210Z",
     "shell.execute_reply": "2020-12-24T10:41:32.084611Z"
    },
    "id": "31-GApKIEzVW",
    "papermill": {
     "duration": 0.056072,
     "end_time": "2020-12-24T10:41:32.085330",
     "exception": false,
     "start_time": "2020-12-24T10:41:32.029258",
     "status": "completed"
    },
    "tags": []
   },
   "outputs": [],
   "source": [
    "# Create train, test and val data loaders\n",
    "BATCH_SIZE = 64\n",
    "train_data_loader = create_data_loader(df_train, tokenizer, MAX_LEN, BATCH_SIZE)\n",
    "val_data_loader = create_data_loader(df_val, tokenizer, MAX_LEN, BATCH_SIZE)\n",
    "test_data_loader = create_data_loader(df_test, tokenizer, MAX_LEN, BATCH_SIZE)"
   ]
  },
  {
   "cell_type": "code",
   "execution_count": 48,
   "metadata": {
    "execution": {
     "iopub.execute_input": "2020-12-24T10:41:32.190215Z",
     "iopub.status.busy": "2020-12-24T10:41:32.189523Z",
     "iopub.status.idle": "2020-12-24T10:41:32.253363Z",
     "shell.execute_reply": "2020-12-24T10:41:32.252522Z"
    },
    "id": "6ZPtu0jjEzVc",
    "outputId": "dd0bb267-6d3d-4ce1-8c81-76b8e4d1beca",
    "papermill": {
     "duration": 0.120723,
     "end_time": "2020-12-24T10:41:32.253507",
     "exception": false,
     "start_time": "2020-12-24T10:41:32.132784",
     "status": "completed"
    },
    "tags": []
   },
   "outputs": [
    {
     "name": "stdout",
     "output_type": "stream",
     "text": [
      "dict_keys(['review_text', 'input_ids', 'attention_mask', 'targets'])\n",
      "torch.Size([64, 110])\n",
      "torch.Size([64, 110])\n",
      "torch.Size([64])\n"
     ]
    }
   ],
   "source": [
    "# Examples \n",
    "data = next(iter(train_data_loader))\n",
    "print(data.keys())\n",
    "\n",
    "print(data['input_ids'].shape)\n",
    "print(data['attention_mask'].shape)\n",
    "print(data['targets'].shape)"
   ]
  },
  {
   "cell_type": "markdown",
   "metadata": {
    "id": "bnRQaNQ0EzVf",
    "papermill": {
     "duration": 0.048441,
     "end_time": "2020-12-24T10:41:32.351223",
     "exception": false,
     "start_time": "2020-12-24T10:41:32.302782",
     "status": "completed"
    },
    "tags": []
   },
   "source": [
    "## Sentiment Classification with BERT and Hugging Face\n",
    "\n",
    "We’ll use the basic BertModel and build our sentiment classifier on top of it. Let’s load the model"
   ]
  },
  {
   "cell_type": "code",
   "execution_count": 49,
   "metadata": {
    "execution": {
     "iopub.execute_input": "2020-12-24T10:41:32.457733Z",
     "iopub.status.busy": "2020-12-24T10:41:32.456781Z",
     "iopub.status.idle": "2020-12-24T10:41:50.267491Z",
     "shell.execute_reply": "2020-12-24T10:41:50.266932Z"
    },
    "id": "1oVuK0UUEzVg",
    "outputId": "354aaaea-b336-41cc-a1de-8a5583545f17",
    "papermill": {
     "duration": 17.866026,
     "end_time": "2020-12-24T10:41:50.267604",
     "exception": false,
     "start_time": "2020-12-24T10:41:32.401578",
     "status": "completed"
    },
    "tags": []
   },
   "outputs": [],
   "source": [
    "# Load the basic BERT model \n",
    "bert_model = BertModel.from_pretrained(MODEL_NAME)"
   ]
  },
  {
   "cell_type": "code",
   "execution_count": 50,
   "metadata": {
    "execution": {
     "iopub.execute_input": "2020-12-24T10:41:50.376842Z",
     "iopub.status.busy": "2020-12-24T10:41:50.375908Z",
     "iopub.status.idle": "2020-12-24T10:41:50.378922Z",
     "shell.execute_reply": "2020-12-24T10:41:50.378458Z"
    },
    "id": "v98I1vshEzVi",
    "papermill": {
     "duration": 0.060877,
     "end_time": "2020-12-24T10:41:50.379037",
     "exception": false,
     "start_time": "2020-12-24T10:41:50.318160",
     "status": "completed"
    },
    "tags": []
   },
   "outputs": [],
   "source": [
    "# Build the Sentiment Classifier class \n",
    "class SentimentClassifier(nn.Module):\n",
    "    \n",
    "    # Constructor class \n",
    "    def __init__(self, n_classes):\n",
    "        super(SentimentClassifier, self).__init__()\n",
    "        self.bert = BertModel.from_pretrained(MODEL_NAME)\n",
    "        self.drop = nn.Dropout(p=0.3)\n",
    "        self.out = nn.Linear(self.bert.config.hidden_size, n_classes)\n",
    "    \n",
    "    # Forward propagaion class\n",
    "    def forward(self, input_ids, attention_mask):\n",
    "        pooled_output = self.bert(\n",
    "          input_ids=input_ids,\n",
    "          attention_mask=attention_mask\n",
    "        )\n",
    "        \n",
    "#         import pdb; pdb.set_trace()\n",
    "        #  Add a dropout layer \n",
    "        output = self.drop(pooled_output['pooler_output'])\n",
    "        return self.out(output)"
   ]
  },
  {
   "cell_type": "markdown",
   "metadata": {
    "id": "MXyrki17EzVl",
    "papermill": {
     "duration": 0.049023,
     "end_time": "2020-12-24T10:41:50.477794",
     "exception": false,
     "start_time": "2020-12-24T10:41:50.428771",
     "status": "completed"
    },
    "tags": []
   },
   "source": [
    "We use a dropout layer for some regularization and a fully-connected layer for our output. We are returning the raw output of the last layer since that is required for the cross-entropy loss function in PyTorch to work. Create an instance and move it to the GPU"
   ]
  },
  {
   "cell_type": "code",
   "execution_count": 52,
   "metadata": {
    "execution": {
     "iopub.execute_input": "2020-12-24T10:41:50.583037Z",
     "iopub.status.busy": "2020-12-24T10:41:50.582302Z",
     "iopub.status.idle": "2020-12-24T10:41:59.306892Z",
     "shell.execute_reply": "2020-12-24T10:41:59.305748Z"
    },
    "id": "5eh4ytjBEzVm",
    "papermill": {
     "duration": 8.77967,
     "end_time": "2020-12-24T10:41:59.307056",
     "exception": false,
     "start_time": "2020-12-24T10:41:50.527386",
     "status": "completed"
    },
    "tags": []
   },
   "outputs": [],
   "source": [
    "# Instantiate the model and move to classifier\n",
    "class_names = ['negative', 'positive']\n",
    "\n",
    "model = SentimentClassifier(len(class_names))\n",
    "model = model.to(device)"
   ]
  },
  {
   "cell_type": "markdown",
   "metadata": {
    "id": "wqNrk3laEzVr",
    "papermill": {
     "duration": 0.060036,
     "end_time": "2020-12-24T10:41:59.423396",
     "exception": false,
     "start_time": "2020-12-24T10:41:59.363360",
     "status": "completed"
    },
    "tags": []
   },
   "source": [
    "#### Model Characterstics"
   ]
  },
  {
   "cell_type": "code",
   "execution_count": 53,
   "metadata": {
    "execution": {
     "iopub.execute_input": "2020-12-24T10:41:59.528843Z",
     "iopub.status.busy": "2020-12-24T10:41:59.528127Z",
     "iopub.status.idle": "2020-12-24T10:41:59.532610Z",
     "shell.execute_reply": "2020-12-24T10:41:59.531947Z"
    },
    "id": "iFkXhnrLEzVr",
    "outputId": "f065e9d5-9ca5-4a7e-9c20-e953d5da05f1",
    "papermill": {
     "duration": 0.059323,
     "end_time": "2020-12-24T10:41:59.532712",
     "exception": false,
     "start_time": "2020-12-24T10:41:59.473389",
     "status": "completed"
    },
    "tags": []
   },
   "outputs": [
    {
     "name": "stdout",
     "output_type": "stream",
     "text": [
      "768\n"
     ]
    }
   ],
   "source": [
    "# Number of hidden units\n",
    "print(bert_model.config.hidden_size)"
   ]
  },
  {
   "cell_type": "markdown",
   "metadata": {
    "id": "_TcSxv4NEzVv",
    "papermill": {
     "duration": 0.05052,
     "end_time": "2020-12-24T10:41:59.634585",
     "exception": false,
     "start_time": "2020-12-24T10:41:59.584065",
     "status": "completed"
    },
    "tags": []
   },
   "source": [
    "### Training Phase\n",
    "\n",
    "we’ll use the AdamW optimizer provided by Hugging Face. It corrects weight decay. We’ll also use a linear scheduler with no warmup"
   ]
  },
  {
   "cell_type": "code",
   "execution_count": 54,
   "metadata": {
    "execution": {
     "iopub.execute_input": "2020-12-24T10:41:59.749869Z",
     "iopub.status.busy": "2020-12-24T10:41:59.748840Z",
     "iopub.status.idle": "2020-12-24T10:41:59.751476Z",
     "shell.execute_reply": "2020-12-24T10:41:59.752019Z"
    },
    "id": "CEQfhsdnEzVw",
    "papermill": {
     "duration": 0.065207,
     "end_time": "2020-12-24T10:41:59.752162",
     "exception": false,
     "start_time": "2020-12-24T10:41:59.686955",
     "status": "completed"
    },
    "tags": []
   },
   "outputs": [],
   "source": [
    "# Number of iterations \n",
    "EPOCHS = 10\n",
    "\n",
    "# Optimizer Adam \n",
    "optimizer = AdamW(model.parameters(), lr=2e-5, correct_bias=False)\n",
    "\n",
    "total_steps = len(train_data_loader) * EPOCHS\n",
    "\n",
    "scheduler = get_linear_schedule_with_warmup(\n",
    "    optimizer,\n",
    "    num_warmup_steps=0,\n",
    "    num_training_steps=total_steps\n",
    ")\n",
    "\n",
    "# Set the loss function \n",
    "loss_fn = nn.CrossEntropyLoss().to(device)"
   ]
  },
  {
   "cell_type": "code",
   "execution_count": 55,
   "metadata": {
    "execution": {
     "iopub.execute_input": "2020-12-24T10:41:59.867453Z",
     "iopub.status.busy": "2020-12-24T10:41:59.866610Z",
     "iopub.status.idle": "2020-12-24T10:41:59.869859Z",
     "shell.execute_reply": "2020-12-24T10:41:59.869295Z"
    },
    "id": "jYmCvwhmEzVz",
    "papermill": {
     "duration": 0.065214,
     "end_time": "2020-12-24T10:41:59.870001",
     "exception": false,
     "start_time": "2020-12-24T10:41:59.804787",
     "status": "completed"
    },
    "tags": []
   },
   "outputs": [],
   "source": [
    "# Function for a single training iteration\n",
    "def train_epoch(model, data_loader, loss_fn, optimizer, device, scheduler, n_examples):\n",
    "    model = model.train()\n",
    "    losses = []\n",
    "    correct_predictions = 0\n",
    "    \n",
    "    for d in tqdm(data_loader):\n",
    "\n",
    "        \n",
    "        \n",
    "        input_ids = d[\"input_ids\"].to(device)\n",
    "        attention_mask = d[\"attention_mask\"].to(device)\n",
    "        targets = d[\"targets\"].to(device)\n",
    "        \n",
    "        outputs = model(\n",
    "            input_ids=input_ids,\n",
    "            attention_mask=attention_mask\n",
    "        )\n",
    "        \n",
    "        _, preds = torch.max(outputs, dim=1)\n",
    "        loss = loss_fn(outputs, targets)\n",
    "        correct_predictions += torch.sum(preds == targets)\n",
    "        losses.append(loss.item())\n",
    "        \n",
    "        # Backward prop\n",
    "        loss.backward()\n",
    "        \n",
    "        # Gradient Descent\n",
    "        nn.utils.clip_grad_norm_(model.parameters(), max_norm=1.0)\n",
    "        optimizer.step()\n",
    "        scheduler.step()\n",
    "        optimizer.zero_grad()\n",
    "    \n",
    "    return correct_predictions.double() / n_examples, np.mean(losses)"
   ]
  },
  {
   "cell_type": "markdown",
   "metadata": {
    "id": "qSUZ7gXeEzV2",
    "papermill": {
     "duration": 0.057944,
     "end_time": "2020-12-24T10:41:59.979709",
     "exception": false,
     "start_time": "2020-12-24T10:41:59.921765",
     "status": "completed"
    },
    "tags": []
   },
   "source": [
    "Write a function to evaluate model performance"
   ]
  },
  {
   "cell_type": "code",
   "execution_count": 56,
   "metadata": {
    "execution": {
     "iopub.execute_input": "2020-12-24T10:42:00.148855Z",
     "iopub.status.busy": "2020-12-24T10:42:00.147970Z",
     "iopub.status.idle": "2020-12-24T10:42:00.160244Z",
     "shell.execute_reply": "2020-12-24T10:42:00.161031Z"
    },
    "id": "Yil2jCZfEzV2",
    "papermill": {
     "duration": 0.104335,
     "end_time": "2020-12-24T10:42:00.161195",
     "exception": false,
     "start_time": "2020-12-24T10:42:00.056860",
     "status": "completed"
    },
    "tags": []
   },
   "outputs": [],
   "source": [
    "def eval_model(model, data_loader, loss_fn, device, n_examples):\n",
    "    model = model.eval()\n",
    "    \n",
    "    losses = []\n",
    "    correct_predictions = 0\n",
    "    \n",
    "    with torch.no_grad():\n",
    "        for d in tqdm(data_loader):\n",
    "            input_ids = d[\"input_ids\"].to(device)\n",
    "            attention_mask = d[\"attention_mask\"].to(device)\n",
    "            targets = d[\"targets\"].to(device)\n",
    "            \n",
    "            # Get model ouptuts\n",
    "            outputs = model(\n",
    "                input_ids=input_ids,\n",
    "                attention_mask=attention_mask\n",
    "            )\n",
    "            \n",
    "            _, preds = torch.max(outputs, dim=1)\n",
    "            loss = loss_fn(outputs, targets)\n",
    "            \n",
    "            correct_predictions += torch.sum(preds == targets)\n",
    "            losses.append(loss.item())\n",
    "            \n",
    "    return correct_predictions.double() / n_examples, np.mean(losses)"
   ]
  },
  {
   "cell_type": "markdown",
   "metadata": {
    "id": "vZRB5jbrEzV5",
    "papermill": {
     "duration": 0.087181,
     "end_time": "2020-12-24T10:42:00.362419",
     "exception": false,
     "start_time": "2020-12-24T10:42:00.275238",
     "status": "completed"
    },
    "tags": []
   },
   "source": [
    "Write the training Loop and store the best training state."
   ]
  },
  {
   "cell_type": "code",
   "execution_count": 57,
   "metadata": {},
   "outputs": [],
   "source": [
    "# !pip install tdqm\n",
    "from tqdm import tqdm\n"
   ]
  },
  {
   "cell_type": "code",
   "execution_count": 60,
   "metadata": {
    "execution": {
     "iopub.execute_input": "2020-12-24T10:42:00.536805Z",
     "iopub.status.busy": "2020-12-24T10:42:00.535917Z",
     "iopub.status.idle": "2020-12-24T11:16:59.315127Z",
     "shell.execute_reply": "2020-12-24T11:16:59.316098Z"
    },
    "id": "tz0rylI3EzV5",
    "outputId": "545b8419-84b1-4b11-af85-1c45bdc118d9",
    "papermill": {
     "duration": 2098.864629,
     "end_time": "2020-12-24T11:16:59.316295",
     "exception": false,
     "start_time": "2020-12-24T10:42:00.451666",
     "status": "completed"
    },
    "scrolled": false,
    "tags": []
   },
   "outputs": [
    {
     "name": "stderr",
     "output_type": "stream",
     "text": [
      "\r",
      "  0%|          | 0/10 [00:00<?, ?it/s]"
     ]
    },
    {
     "name": "stdout",
     "output_type": "stream",
     "text": [
      "Epoch 1/10\n",
      "----------\n"
     ]
    },
    {
     "name": "stderr",
     "output_type": "stream",
     "text": [
      "\n",
      "  0%|          | 0/90 [00:00<?, ?it/s]\u001b[A\n",
      "  1%|          | 1/90 [00:00<00:38,  2.29it/s]\u001b[A\n",
      "  2%|▏         | 2/90 [00:00<00:36,  2.42it/s]\u001b[A\n",
      "  3%|▎         | 3/90 [00:01<00:35,  2.43it/s]\u001b[A\n",
      "  4%|▍         | 4/90 [00:01<00:35,  2.43it/s]\u001b[A\n",
      "  6%|▌         | 5/90 [00:02<00:34,  2.45it/s]\u001b[A\n",
      "  7%|▋         | 6/90 [00:02<00:34,  2.45it/s]\u001b[A\n",
      "  8%|▊         | 7/90 [00:02<00:33,  2.45it/s]\u001b[A\n",
      "  9%|▉         | 8/90 [00:03<00:33,  2.45it/s]\u001b[A\n",
      " 10%|█         | 9/90 [00:03<00:33,  2.44it/s]\u001b[A\n",
      " 11%|█         | 10/90 [00:04<00:32,  2.43it/s]\u001b[A\n",
      " 12%|█▏        | 11/90 [00:04<00:32,  2.43it/s]\u001b[A\n",
      " 13%|█▎        | 12/90 [00:04<00:32,  2.41it/s]\u001b[A\n",
      " 14%|█▍        | 13/90 [00:05<00:31,  2.41it/s]\u001b[A\n",
      " 16%|█▌        | 14/90 [00:05<00:31,  2.42it/s]\u001b[A\n",
      " 17%|█▋        | 15/90 [00:06<00:30,  2.43it/s]\u001b[A\n",
      " 18%|█▊        | 16/90 [00:06<00:30,  2.43it/s]\u001b[A\n",
      " 19%|█▉        | 17/90 [00:06<00:29,  2.44it/s]\u001b[A\n",
      " 20%|██        | 18/90 [00:07<00:29,  2.44it/s]\u001b[A\n",
      " 21%|██        | 19/90 [00:07<00:29,  2.44it/s]\u001b[A\n",
      " 22%|██▏       | 20/90 [00:08<00:28,  2.44it/s]\u001b[A\n",
      " 23%|██▎       | 21/90 [00:08<00:28,  2.44it/s]\u001b[A\n",
      " 24%|██▍       | 22/90 [00:09<00:27,  2.44it/s]\u001b[A\n",
      " 26%|██▌       | 23/90 [00:09<00:27,  2.43it/s]\u001b[A\n",
      " 27%|██▋       | 24/90 [00:09<00:27,  2.43it/s]\u001b[A\n",
      " 28%|██▊       | 25/90 [00:10<00:26,  2.43it/s]\u001b[A\n",
      " 29%|██▉       | 26/90 [00:10<00:26,  2.42it/s]\u001b[A\n",
      " 30%|███       | 27/90 [00:11<00:25,  2.42it/s]\u001b[A\n",
      " 31%|███       | 28/90 [00:11<00:25,  2.41it/s]\u001b[A\n",
      " 32%|███▏      | 29/90 [00:11<00:25,  2.42it/s]\u001b[A\n",
      " 33%|███▎      | 30/90 [00:12<00:24,  2.41it/s]\u001b[A\n",
      " 34%|███▍      | 31/90 [00:12<00:24,  2.41it/s]\u001b[A\n",
      " 36%|███▌      | 32/90 [00:13<00:23,  2.42it/s]\u001b[A\n",
      " 37%|███▋      | 33/90 [00:13<00:23,  2.41it/s]\u001b[A\n",
      " 38%|███▊      | 34/90 [00:14<00:23,  2.41it/s]\u001b[A\n",
      " 39%|███▉      | 35/90 [00:14<00:22,  2.41it/s]\u001b[A\n",
      " 40%|████      | 36/90 [00:14<00:22,  2.42it/s]\u001b[A\n",
      " 41%|████      | 37/90 [00:15<00:21,  2.42it/s]\u001b[A\n",
      " 42%|████▏     | 38/90 [00:15<00:21,  2.42it/s]\u001b[A\n",
      " 43%|████▎     | 39/90 [00:16<00:21,  2.42it/s]\u001b[A\n",
      " 44%|████▍     | 40/90 [00:16<00:20,  2.41it/s]\u001b[A\n",
      " 46%|████▌     | 41/90 [00:16<00:20,  2.41it/s]\u001b[A\n",
      " 47%|████▋     | 42/90 [00:17<00:19,  2.40it/s]\u001b[A\n",
      " 48%|████▊     | 43/90 [00:17<00:19,  2.40it/s]\u001b[A\n",
      " 49%|████▉     | 44/90 [00:18<00:19,  2.40it/s]\u001b[A\n",
      " 50%|█████     | 45/90 [00:18<00:18,  2.40it/s]\u001b[A\n",
      " 51%|█████     | 46/90 [00:19<00:18,  2.39it/s]\u001b[A\n",
      " 52%|█████▏    | 47/90 [00:19<00:17,  2.40it/s]\u001b[A\n",
      " 53%|█████▎    | 48/90 [00:19<00:17,  2.39it/s]\u001b[A\n",
      " 54%|█████▍    | 49/90 [00:20<00:17,  2.39it/s]\u001b[A\n",
      " 56%|█████▌    | 50/90 [00:20<00:16,  2.39it/s]\u001b[A\n",
      " 57%|█████▋    | 51/90 [00:21<00:16,  2.39it/s]\u001b[A\n",
      " 58%|█████▊    | 52/90 [00:21<00:15,  2.38it/s]\u001b[A\n",
      " 59%|█████▉    | 53/90 [00:21<00:15,  2.39it/s]\u001b[A\n",
      " 60%|██████    | 54/90 [00:22<00:15,  2.37it/s]\u001b[A\n",
      " 61%|██████    | 55/90 [00:22<00:14,  2.37it/s]\u001b[A\n",
      " 62%|██████▏   | 56/90 [00:23<00:14,  2.38it/s]\u001b[A\n",
      " 63%|██████▎   | 57/90 [00:23<00:13,  2.37it/s]\u001b[A\n",
      " 64%|██████▍   | 58/90 [00:24<00:13,  2.37it/s]\u001b[A\n",
      " 66%|██████▌   | 59/90 [00:24<00:13,  2.38it/s]\u001b[A\n",
      " 67%|██████▋   | 60/90 [00:24<00:12,  2.38it/s]\u001b[A\n",
      " 68%|██████▊   | 61/90 [00:25<00:12,  2.37it/s]\u001b[A\n",
      " 69%|██████▉   | 62/90 [00:25<00:11,  2.37it/s]\u001b[A\n",
      " 70%|███████   | 63/90 [00:26<00:11,  2.37it/s]\u001b[A\n",
      " 71%|███████   | 64/90 [00:26<00:11,  2.36it/s]\u001b[A\n",
      " 72%|███████▏  | 65/90 [00:27<00:10,  2.36it/s]\u001b[A\n",
      " 73%|███████▎  | 66/90 [00:27<00:10,  2.36it/s]\u001b[A\n",
      " 74%|███████▍  | 67/90 [00:27<00:09,  2.34it/s]\u001b[A\n",
      " 76%|███████▌  | 68/90 [00:28<00:09,  2.34it/s]\u001b[A\n",
      " 77%|███████▋  | 69/90 [00:28<00:08,  2.34it/s]\u001b[A\n",
      " 78%|███████▊  | 70/90 [00:29<00:08,  2.34it/s]\u001b[A\n",
      " 79%|███████▉  | 71/90 [00:29<00:08,  2.34it/s]\u001b[A\n",
      " 80%|████████  | 72/90 [00:30<00:07,  2.34it/s]\u001b[A\n",
      " 81%|████████  | 73/90 [00:30<00:07,  2.34it/s]\u001b[A\n",
      " 82%|████████▏ | 74/90 [00:30<00:06,  2.35it/s]\u001b[A\n",
      " 83%|████████▎ | 75/90 [00:31<00:06,  2.35it/s]\u001b[A\n",
      " 84%|████████▍ | 76/90 [00:31<00:05,  2.35it/s]\u001b[A\n",
      " 86%|████████▌ | 77/90 [00:32<00:05,  2.35it/s]\u001b[A\n",
      " 87%|████████▋ | 78/90 [00:32<00:05,  2.34it/s]\u001b[A\n",
      " 88%|████████▊ | 79/90 [00:32<00:04,  2.33it/s]\u001b[A\n",
      " 89%|████████▉ | 80/90 [00:33<00:04,  2.33it/s]\u001b[A\n",
      " 90%|█████████ | 81/90 [00:33<00:03,  2.33it/s]\u001b[A\n",
      " 91%|█████████ | 82/90 [00:34<00:03,  2.33it/s]\u001b[A\n",
      " 92%|█████████▏| 83/90 [00:34<00:02,  2.33it/s]\u001b[A\n",
      " 93%|█████████▎| 84/90 [00:35<00:02,  2.33it/s]\u001b[A\n",
      " 94%|█████████▍| 85/90 [00:35<00:02,  2.33it/s]\u001b[A\n",
      " 96%|█████████▌| 86/90 [00:35<00:01,  2.33it/s]\u001b[A\n",
      " 97%|█████████▋| 87/90 [00:36<00:01,  2.33it/s]\u001b[A\n",
      " 98%|█████████▊| 88/90 [00:36<00:00,  2.31it/s]\u001b[A\n",
      " 99%|█████████▉| 89/90 [00:37<00:00,  2.31it/s]\u001b[A\n",
      "100%|██████████| 90/90 [00:37<00:00,  2.39it/s]\u001b[A\n"
     ]
    },
    {
     "name": "stdout",
     "output_type": "stream",
     "text": [
      "Train loss 0.5781744188732572 accuracy 0.6987658612897619\n"
     ]
    },
    {
     "name": "stderr",
     "output_type": "stream",
     "text": [
      "\n",
      "  0%|          | 0/21 [00:00<?, ?it/s]\u001b[A\n",
      "  5%|▍         | 1/21 [00:00<00:03,  6.15it/s]\u001b[A\n",
      " 10%|▉         | 2/21 [00:00<00:03,  6.11it/s]\u001b[A\n",
      " 14%|█▍        | 3/21 [00:00<00:02,  6.16it/s]\u001b[A\n",
      " 19%|█▉        | 4/21 [00:00<00:02,  6.15it/s]\u001b[A\n",
      " 24%|██▍       | 5/21 [00:00<00:02,  6.16it/s]\u001b[A\n",
      " 29%|██▊       | 6/21 [00:00<00:02,  6.10it/s]\u001b[A\n",
      " 33%|███▎      | 7/21 [00:01<00:02,  6.14it/s]\u001b[A\n",
      " 38%|███▊      | 8/21 [00:01<00:02,  6.18it/s]\u001b[A\n",
      " 43%|████▎     | 9/21 [00:01<00:01,  6.18it/s]\u001b[A\n",
      " 48%|████▊     | 10/21 [00:01<00:01,  6.18it/s]\u001b[A\n",
      " 52%|█████▏    | 11/21 [00:01<00:01,  6.18it/s]\u001b[A\n",
      " 57%|█████▋    | 12/21 [00:01<00:01,  6.22it/s]\u001b[A\n",
      " 62%|██████▏   | 13/21 [00:02<00:01,  6.20it/s]\u001b[A\n",
      " 67%|██████▋   | 14/21 [00:02<00:01,  6.24it/s]\u001b[A\n",
      " 71%|███████▏  | 15/21 [00:02<00:00,  6.29it/s]\u001b[A\n",
      " 76%|███████▌  | 16/21 [00:02<00:00,  6.31it/s]\u001b[A\n",
      " 81%|████████  | 17/21 [00:02<00:00,  6.33it/s]\u001b[A\n",
      " 86%|████████▌ | 18/21 [00:02<00:00,  6.39it/s]\u001b[A\n",
      " 90%|█████████ | 19/21 [00:03<00:00,  6.34it/s]\u001b[A\n",
      "100%|██████████| 21/21 [00:03<00:00,  6.46it/s]\u001b[A\n"
     ]
    },
    {
     "name": "stdout",
     "output_type": "stream",
     "text": [
      "Val   loss 0.4668044831071581 accuracy 0.7791505791505792\n",
      "\n"
     ]
    },
    {
     "name": "stderr",
     "output_type": "stream",
     "text": [
      "\r",
      " 10%|█         | 1/10 [00:41<06:12, 41.44s/it]"
     ]
    },
    {
     "name": "stdout",
     "output_type": "stream",
     "text": [
      "Epoch 2/10\n",
      "----------\n"
     ]
    },
    {
     "name": "stderr",
     "output_type": "stream",
     "text": [
      "\n",
      "  0%|          | 0/90 [00:00<?, ?it/s]\u001b[A\n",
      "  1%|          | 1/90 [00:00<00:36,  2.41it/s]\u001b[A\n",
      "  2%|▏         | 2/90 [00:00<00:36,  2.42it/s]\u001b[A\n",
      "  3%|▎         | 3/90 [00:01<00:37,  2.34it/s]\u001b[A\n",
      "  4%|▍         | 4/90 [00:01<00:36,  2.36it/s]\u001b[A\n",
      "  6%|▌         | 5/90 [00:02<00:36,  2.35it/s]\u001b[A\n",
      "  7%|▋         | 6/90 [00:02<00:35,  2.34it/s]\u001b[A\n",
      "  8%|▊         | 7/90 [00:02<00:35,  2.35it/s]\u001b[A\n",
      "  9%|▉         | 8/90 [00:03<00:35,  2.34it/s]\u001b[A\n",
      " 10%|█         | 9/90 [00:03<00:34,  2.35it/s]\u001b[A\n",
      " 11%|█         | 10/90 [00:04<00:34,  2.35it/s]\u001b[A\n",
      " 12%|█▏        | 11/90 [00:04<00:33,  2.35it/s]\u001b[A\n",
      " 13%|█▎        | 12/90 [00:05<00:33,  2.35it/s]\u001b[A\n",
      " 14%|█▍        | 13/90 [00:05<00:32,  2.34it/s]\u001b[A\n",
      " 16%|█▌        | 14/90 [00:05<00:32,  2.35it/s]\u001b[A\n",
      " 17%|█▋        | 15/90 [00:06<00:31,  2.35it/s]\u001b[A\n",
      " 18%|█▊        | 16/90 [00:06<00:31,  2.34it/s]\u001b[A\n",
      " 19%|█▉        | 17/90 [00:07<00:30,  2.36it/s]\u001b[A\n",
      " 20%|██        | 18/90 [00:07<00:30,  2.35it/s]\u001b[A\n",
      " 21%|██        | 19/90 [00:08<00:30,  2.35it/s]\u001b[A\n",
      " 22%|██▏       | 20/90 [00:08<00:29,  2.35it/s]\u001b[A\n",
      " 23%|██▎       | 21/90 [00:08<00:29,  2.34it/s]\u001b[A\n",
      " 24%|██▍       | 22/90 [00:09<00:28,  2.35it/s]\u001b[A\n",
      " 26%|██▌       | 23/90 [00:09<00:28,  2.34it/s]\u001b[A\n",
      " 27%|██▋       | 24/90 [00:10<00:28,  2.35it/s]\u001b[A\n",
      " 28%|██▊       | 25/90 [00:10<00:27,  2.35it/s]\u001b[A\n",
      " 29%|██▉       | 26/90 [00:11<00:27,  2.34it/s]\u001b[A\n",
      " 30%|███       | 27/90 [00:11<00:26,  2.34it/s]\u001b[A\n",
      " 31%|███       | 28/90 [00:11<00:26,  2.32it/s]\u001b[A\n",
      " 32%|███▏      | 29/90 [00:12<00:26,  2.33it/s]\u001b[A\n",
      " 33%|███▎      | 30/90 [00:12<00:25,  2.32it/s]\u001b[A\n",
      " 34%|███▍      | 31/90 [00:13<00:25,  2.34it/s]\u001b[A\n",
      " 36%|███▌      | 32/90 [00:13<00:24,  2.34it/s]\u001b[A\n",
      " 37%|███▋      | 33/90 [00:14<00:24,  2.33it/s]\u001b[A\n",
      " 38%|███▊      | 34/90 [00:14<00:24,  2.33it/s]\u001b[A\n",
      " 39%|███▉      | 35/90 [00:14<00:23,  2.32it/s]\u001b[A\n",
      " 40%|████      | 36/90 [00:15<00:23,  2.32it/s]\u001b[A\n",
      " 41%|████      | 37/90 [00:15<00:22,  2.33it/s]\u001b[A\n",
      " 42%|████▏     | 38/90 [00:16<00:22,  2.34it/s]\u001b[A\n",
      " 43%|████▎     | 39/90 [00:16<00:21,  2.34it/s]\u001b[A\n",
      " 44%|████▍     | 40/90 [00:17<00:21,  2.33it/s]\u001b[A\n",
      " 46%|████▌     | 41/90 [00:17<00:20,  2.34it/s]\u001b[A\n",
      " 47%|████▋     | 42/90 [00:17<00:20,  2.32it/s]\u001b[A\n",
      " 48%|████▊     | 43/90 [00:18<00:20,  2.31it/s]\u001b[A\n",
      " 49%|████▉     | 44/90 [00:18<00:19,  2.31it/s]\u001b[A\n",
      " 50%|█████     | 45/90 [00:19<00:19,  2.31it/s]\u001b[A\n",
      " 51%|█████     | 46/90 [00:19<00:19,  2.31it/s]\u001b[A\n",
      " 52%|█████▏    | 47/90 [00:20<00:18,  2.30it/s]\u001b[A\n",
      " 53%|█████▎    | 48/90 [00:20<00:18,  2.30it/s]\u001b[A\n",
      " 54%|█████▍    | 49/90 [00:20<00:17,  2.30it/s]\u001b[A\n",
      " 56%|█████▌    | 50/90 [00:21<00:17,  2.32it/s]\u001b[A\n",
      " 57%|█████▋    | 51/90 [00:21<00:16,  2.32it/s]\u001b[A\n",
      " 58%|█████▊    | 52/90 [00:22<00:16,  2.31it/s]\u001b[A\n",
      " 59%|█████▉    | 53/90 [00:22<00:15,  2.32it/s]\u001b[A\n",
      " 60%|██████    | 54/90 [00:23<00:15,  2.32it/s]\u001b[A\n",
      " 61%|██████    | 55/90 [00:23<00:15,  2.30it/s]\u001b[A\n",
      " 62%|██████▏   | 56/90 [00:24<00:14,  2.29it/s]\u001b[A\n",
      " 63%|██████▎   | 57/90 [00:24<00:14,  2.28it/s]\u001b[A\n",
      " 64%|██████▍   | 58/90 [00:24<00:14,  2.28it/s]\u001b[A\n",
      " 66%|██████▌   | 59/90 [00:25<00:13,  2.29it/s]\u001b[A\n",
      " 67%|██████▋   | 60/90 [00:25<00:13,  2.29it/s]\u001b[A\n",
      " 68%|██████▊   | 61/90 [00:26<00:12,  2.29it/s]\u001b[A\n",
      " 69%|██████▉   | 62/90 [00:26<00:12,  2.30it/s]\u001b[A\n",
      " 70%|███████   | 63/90 [00:27<00:11,  2.29it/s]\u001b[A\n",
      " 71%|███████   | 64/90 [00:27<00:11,  2.28it/s]\u001b[A\n",
      " 72%|███████▏  | 65/90 [00:27<00:10,  2.28it/s]\u001b[A\n",
      " 73%|███████▎  | 66/90 [00:28<00:10,  2.28it/s]\u001b[A\n",
      " 74%|███████▍  | 67/90 [00:28<00:10,  2.28it/s]\u001b[A\n",
      " 76%|███████▌  | 68/90 [00:29<00:09,  2.29it/s]\u001b[A\n",
      " 77%|███████▋  | 69/90 [00:29<00:09,  2.28it/s]\u001b[A\n",
      " 78%|███████▊  | 70/90 [00:30<00:08,  2.28it/s]\u001b[A\n",
      " 79%|███████▉  | 71/90 [00:30<00:08,  2.28it/s]\u001b[A\n",
      " 80%|████████  | 72/90 [00:31<00:07,  2.28it/s]\u001b[A\n",
      " 81%|████████  | 73/90 [00:31<00:07,  2.28it/s]\u001b[A\n",
      " 82%|████████▏ | 74/90 [00:31<00:06,  2.29it/s]\u001b[A\n",
      " 83%|████████▎ | 75/90 [00:32<00:06,  2.28it/s]\u001b[A\n",
      " 84%|████████▍ | 76/90 [00:32<00:06,  2.29it/s]\u001b[A\n",
      " 86%|████████▌ | 77/90 [00:33<00:05,  2.29it/s]\u001b[A\n",
      " 87%|████████▋ | 78/90 [00:33<00:05,  2.28it/s]\u001b[A\n",
      " 88%|████████▊ | 79/90 [00:34<00:04,  2.28it/s]\u001b[A\n",
      " 89%|████████▉ | 80/90 [00:34<00:04,  2.28it/s]\u001b[A\n",
      " 90%|█████████ | 81/90 [00:34<00:03,  2.29it/s]\u001b[A\n",
      " 91%|█████████ | 82/90 [00:35<00:03,  2.28it/s]\u001b[A\n",
      " 92%|█████████▏| 83/90 [00:35<00:03,  2.29it/s]\u001b[A\n",
      " 93%|█████████▎| 84/90 [00:36<00:02,  2.28it/s]\u001b[A\n",
      " 94%|█████████▍| 85/90 [00:36<00:02,  2.28it/s]\u001b[A\n",
      " 96%|█████████▌| 86/90 [00:37<00:01,  2.29it/s]\u001b[A\n",
      " 97%|█████████▋| 87/90 [00:37<00:01,  2.27it/s]\u001b[A\n",
      " 98%|█████████▊| 88/90 [00:38<00:00,  2.28it/s]\u001b[A\n",
      " 99%|█████████▉| 89/90 [00:38<00:00,  2.28it/s]\u001b[A\n",
      "100%|██████████| 90/90 [00:38<00:00,  2.31it/s]\u001b[A\n"
     ]
    },
    {
     "name": "stdout",
     "output_type": "stream",
     "text": [
      "Train loss 0.33145002557171716 accuracy 0.8588562489136103\n"
     ]
    },
    {
     "name": "stderr",
     "output_type": "stream",
     "text": [
      "\n",
      "  0%|          | 0/21 [00:00<?, ?it/s]\u001b[A\n",
      "  5%|▍         | 1/21 [00:00<00:03,  6.04it/s]\u001b[A\n",
      " 10%|▉         | 2/21 [00:00<00:03,  6.04it/s]\u001b[A\n",
      " 14%|█▍        | 3/21 [00:00<00:02,  6.03it/s]\u001b[A\n",
      " 19%|█▉        | 4/21 [00:00<00:02,  5.99it/s]\u001b[A\n",
      " 24%|██▍       | 5/21 [00:00<00:02,  6.10it/s]\u001b[A\n",
      " 29%|██▊       | 6/21 [00:00<00:02,  6.05it/s]\u001b[A\n",
      " 33%|███▎      | 7/21 [00:01<00:02,  6.10it/s]\u001b[A\n",
      " 38%|███▊      | 8/21 [00:01<00:02,  6.09it/s]\u001b[A\n",
      " 43%|████▎     | 9/21 [00:01<00:01,  6.05it/s]\u001b[A\n",
      " 48%|████▊     | 10/21 [00:01<00:01,  6.06it/s]\u001b[A\n",
      " 52%|█████▏    | 11/21 [00:01<00:01,  6.05it/s]\u001b[A\n",
      " 57%|█████▋    | 12/21 [00:01<00:01,  6.01it/s]\u001b[A\n",
      " 62%|██████▏   | 13/21 [00:02<00:01,  6.03it/s]\u001b[A\n",
      " 67%|██████▋   | 14/21 [00:02<00:01,  6.03it/s]\u001b[A\n",
      " 71%|███████▏  | 15/21 [00:02<00:00,  6.05it/s]\u001b[A\n",
      " 76%|███████▌  | 16/21 [00:02<00:00,  6.08it/s]\u001b[A\n",
      " 81%|████████  | 17/21 [00:02<00:00,  6.02it/s]\u001b[A\n",
      " 86%|████████▌ | 18/21 [00:02<00:00,  6.05it/s]\u001b[A\n",
      " 90%|█████████ | 19/21 [00:03<00:00,  6.00it/s]\u001b[A\n",
      "100%|██████████| 21/21 [00:03<00:00,  6.25it/s]\u001b[A\n"
     ]
    },
    {
     "name": "stdout",
     "output_type": "stream",
     "text": [
      "Val   loss 0.5962832087562198 accuracy 0.7907335907335907\n",
      "\n"
     ]
    },
    {
     "name": "stderr",
     "output_type": "stream",
     "text": [
      "\r",
      " 20%|██        | 2/10 [01:24<05:37, 42.22s/it]"
     ]
    },
    {
     "name": "stdout",
     "output_type": "stream",
     "text": [
      "Epoch 3/10\n",
      "----------\n"
     ]
    },
    {
     "name": "stderr",
     "output_type": "stream",
     "text": [
      "\n",
      "  0%|          | 0/90 [00:00<?, ?it/s]\u001b[A\n",
      "  1%|          | 1/90 [00:00<00:37,  2.37it/s]\u001b[A\n",
      "  2%|▏         | 2/90 [00:00<00:37,  2.33it/s]\u001b[A\n",
      "  3%|▎         | 3/90 [00:01<00:38,  2.27it/s]\u001b[A\n",
      "  4%|▍         | 4/90 [00:01<00:37,  2.28it/s]\u001b[A\n",
      "  6%|▌         | 5/90 [00:02<00:37,  2.25it/s]\u001b[A\n",
      "  7%|▋         | 6/90 [00:02<00:37,  2.26it/s]\u001b[A\n",
      "  8%|▊         | 7/90 [00:03<00:36,  2.25it/s]\u001b[A\n",
      "  9%|▉         | 8/90 [00:03<00:36,  2.25it/s]\u001b[A\n",
      " 10%|█         | 9/90 [00:03<00:35,  2.26it/s]\u001b[A\n",
      " 11%|█         | 10/90 [00:04<00:35,  2.26it/s]\u001b[A\n",
      " 12%|█▏        | 11/90 [00:04<00:35,  2.26it/s]\u001b[A\n",
      " 13%|█▎        | 12/90 [00:05<00:34,  2.26it/s]\u001b[A\n",
      " 14%|█▍        | 13/90 [00:05<00:33,  2.27it/s]\u001b[A\n",
      " 16%|█▌        | 14/90 [00:06<00:33,  2.27it/s]\u001b[A\n",
      " 17%|█▋        | 15/90 [00:06<00:32,  2.28it/s]\u001b[A\n",
      " 18%|█▊        | 16/90 [00:07<00:32,  2.27it/s]\u001b[A\n",
      " 19%|█▉        | 17/90 [00:07<00:32,  2.27it/s]\u001b[A\n",
      " 20%|██        | 18/90 [00:07<00:31,  2.26it/s]\u001b[A\n",
      " 21%|██        | 19/90 [00:08<00:31,  2.28it/s]\u001b[A\n",
      " 22%|██▏       | 20/90 [00:08<00:30,  2.28it/s]\u001b[A\n",
      " 23%|██▎       | 21/90 [00:09<00:30,  2.28it/s]\u001b[A\n",
      " 24%|██▍       | 22/90 [00:09<00:29,  2.28it/s]\u001b[A\n",
      " 26%|██▌       | 23/90 [00:10<00:29,  2.26it/s]\u001b[A\n",
      " 27%|██▋       | 24/90 [00:10<00:29,  2.26it/s]\u001b[A\n",
      " 28%|██▊       | 25/90 [00:11<00:28,  2.26it/s]\u001b[A\n",
      " 29%|██▉       | 26/90 [00:11<00:28,  2.25it/s]\u001b[A\n",
      " 30%|███       | 27/90 [00:11<00:27,  2.27it/s]\u001b[A\n",
      " 31%|███       | 28/90 [00:12<00:27,  2.26it/s]\u001b[A\n",
      " 32%|███▏      | 29/90 [00:12<00:26,  2.26it/s]\u001b[A\n",
      " 33%|███▎      | 30/90 [00:13<00:26,  2.25it/s]\u001b[A\n",
      " 34%|███▍      | 31/90 [00:13<00:26,  2.25it/s]\u001b[A\n",
      " 36%|███▌      | 32/90 [00:14<00:25,  2.26it/s]\u001b[A\n",
      " 37%|███▋      | 33/90 [00:14<00:25,  2.25it/s]\u001b[A\n",
      " 38%|███▊      | 34/90 [00:15<00:24,  2.26it/s]\u001b[A\n",
      " 39%|███▉      | 35/90 [00:15<00:24,  2.26it/s]\u001b[A\n",
      " 40%|████      | 36/90 [00:15<00:23,  2.26it/s]\u001b[A\n",
      " 41%|████      | 37/90 [00:16<00:23,  2.27it/s]\u001b[A\n",
      " 42%|████▏     | 38/90 [00:16<00:22,  2.27it/s]\u001b[A\n",
      " 43%|████▎     | 39/90 [00:17<00:22,  2.26it/s]\u001b[A\n",
      " 44%|████▍     | 40/90 [00:17<00:22,  2.25it/s]\u001b[A\n",
      " 46%|████▌     | 41/90 [00:18<00:21,  2.26it/s]\u001b[A\n",
      " 47%|████▋     | 42/90 [00:18<00:21,  2.26it/s]\u001b[A\n",
      " 48%|████▊     | 43/90 [00:18<00:20,  2.26it/s]\u001b[A\n",
      " 49%|████▉     | 44/90 [00:19<00:20,  2.25it/s]\u001b[A\n",
      " 50%|█████     | 45/90 [00:19<00:20,  2.24it/s]\u001b[A\n",
      " 51%|█████     | 46/90 [00:20<00:19,  2.24it/s]\u001b[A\n",
      " 52%|█████▏    | 47/90 [00:20<00:19,  2.23it/s]\u001b[A\n",
      " 53%|█████▎    | 48/90 [00:21<00:18,  2.23it/s]\u001b[A\n",
      " 54%|█████▍    | 49/90 [00:21<00:18,  2.23it/s]\u001b[A\n",
      " 56%|█████▌    | 50/90 [00:22<00:17,  2.24it/s]\u001b[A\n",
      " 57%|█████▋    | 51/90 [00:22<00:17,  2.23it/s]\u001b[A\n",
      " 58%|█████▊    | 52/90 [00:23<00:16,  2.24it/s]\u001b[A\n",
      " 59%|█████▉    | 53/90 [00:23<00:16,  2.24it/s]\u001b[A\n",
      " 60%|██████    | 54/90 [00:23<00:16,  2.24it/s]\u001b[A\n",
      " 61%|██████    | 55/90 [00:24<00:15,  2.23it/s]\u001b[A\n",
      " 62%|██████▏   | 56/90 [00:24<00:15,  2.23it/s]\u001b[A\n",
      " 63%|██████▎   | 57/90 [00:25<00:14,  2.23it/s]\u001b[A\n",
      " 64%|██████▍   | 58/90 [00:25<00:14,  2.23it/s]\u001b[A\n",
      " 66%|██████▌   | 59/90 [00:26<00:13,  2.24it/s]\u001b[A\n",
      " 67%|██████▋   | 60/90 [00:26<00:13,  2.23it/s]\u001b[A\n",
      " 68%|██████▊   | 61/90 [00:27<00:13,  2.23it/s]\u001b[A\n",
      " 69%|██████▉   | 62/90 [00:27<00:12,  2.23it/s]\u001b[A\n",
      " 70%|███████   | 63/90 [00:27<00:12,  2.22it/s]\u001b[A\n",
      " 71%|███████   | 64/90 [00:28<00:11,  2.22it/s]\u001b[A\n",
      " 72%|███████▏  | 65/90 [00:28<00:11,  2.23it/s]\u001b[A\n",
      " 73%|███████▎  | 66/90 [00:29<00:10,  2.24it/s]\u001b[A\n",
      " 74%|███████▍  | 67/90 [00:29<00:10,  2.23it/s]\u001b[A\n",
      " 76%|███████▌  | 68/90 [00:30<00:09,  2.22it/s]\u001b[A\n",
      " 77%|███████▋  | 69/90 [00:30<00:09,  2.23it/s]\u001b[A\n",
      " 78%|███████▊  | 70/90 [00:31<00:08,  2.23it/s]\u001b[A\n",
      " 79%|███████▉  | 71/90 [00:31<00:08,  2.23it/s]\u001b[A\n",
      " 80%|████████  | 72/90 [00:32<00:08,  2.22it/s]\u001b[A\n",
      " 81%|████████  | 73/90 [00:32<00:07,  2.23it/s]\u001b[A\n",
      " 82%|████████▏ | 74/90 [00:32<00:07,  2.24it/s]\u001b[A\n",
      " 83%|████████▎ | 75/90 [00:33<00:06,  2.23it/s]\u001b[A\n",
      " 84%|████████▍ | 76/90 [00:33<00:06,  2.22it/s]\u001b[A\n",
      " 86%|████████▌ | 77/90 [00:34<00:05,  2.22it/s]\u001b[A\n",
      " 87%|████████▋ | 78/90 [00:34<00:05,  2.22it/s]\u001b[A\n",
      " 88%|████████▊ | 79/90 [00:35<00:04,  2.22it/s]\u001b[A\n",
      " 89%|████████▉ | 80/90 [00:35<00:04,  2.22it/s]\u001b[A\n",
      " 90%|█████████ | 81/90 [00:36<00:04,  2.23it/s]\u001b[A\n",
      " 91%|█████████ | 82/90 [00:36<00:03,  2.23it/s]\u001b[A\n",
      " 92%|█████████▏| 83/90 [00:36<00:03,  2.22it/s]\u001b[A\n",
      " 93%|█████████▎| 84/90 [00:37<00:02,  2.22it/s]\u001b[A\n",
      " 94%|█████████▍| 85/90 [00:37<00:02,  2.23it/s]\u001b[A\n",
      " 96%|█████████▌| 86/90 [00:38<00:01,  2.23it/s]\u001b[A\n",
      " 97%|█████████▋| 87/90 [00:38<00:01,  2.23it/s]\u001b[A\n",
      " 98%|█████████▊| 88/90 [00:39<00:00,  2.22it/s]\u001b[A\n",
      " 99%|█████████▉| 89/90 [00:39<00:00,  2.23it/s]\u001b[A\n",
      "100%|██████████| 90/90 [00:40<00:00,  2.25it/s]\u001b[A\n"
     ]
    },
    {
     "name": "stdout",
     "output_type": "stream",
     "text": [
      "Train loss 0.1670933880739742 accuracy 0.9379454197809839\n"
     ]
    },
    {
     "name": "stderr",
     "output_type": "stream",
     "text": [
      "\n",
      "  0%|          | 0/21 [00:00<?, ?it/s]\u001b[A\n",
      "  5%|▍         | 1/21 [00:00<00:03,  6.03it/s]\u001b[A\n",
      " 10%|▉         | 2/21 [00:00<00:03,  5.98it/s]\u001b[A\n",
      " 14%|█▍        | 3/21 [00:00<00:03,  5.93it/s]\u001b[A\n",
      " 19%|█▉        | 4/21 [00:00<00:02,  5.95it/s]\u001b[A\n",
      " 24%|██▍       | 5/21 [00:00<00:02,  5.92it/s]\u001b[A\n",
      " 29%|██▊       | 6/21 [00:01<00:02,  5.91it/s]\u001b[A\n",
      " 33%|███▎      | 7/21 [00:01<00:02,  5.88it/s]\u001b[A\n",
      " 38%|███▊      | 8/21 [00:01<00:02,  5.90it/s]\u001b[A\n",
      " 43%|████▎     | 9/21 [00:01<00:02,  5.98it/s]\u001b[A\n",
      " 48%|████▊     | 10/21 [00:01<00:01,  5.94it/s]\u001b[A\n",
      " 52%|█████▏    | 11/21 [00:01<00:01,  5.97it/s]\u001b[A\n",
      " 57%|█████▋    | 12/21 [00:02<00:01,  5.97it/s]\u001b[A\n",
      " 62%|██████▏   | 13/21 [00:02<00:01,  5.95it/s]\u001b[A\n",
      " 67%|██████▋   | 14/21 [00:02<00:01,  5.93it/s]\u001b[A\n",
      " 71%|███████▏  | 15/21 [00:02<00:01,  5.90it/s]\u001b[A\n",
      " 76%|███████▌  | 16/21 [00:02<00:00,  5.99it/s]\u001b[A\n",
      " 81%|████████  | 17/21 [00:02<00:00,  6.00it/s]\u001b[A\n",
      " 86%|████████▌ | 18/21 [00:03<00:00,  5.95it/s]\u001b[A\n",
      " 90%|█████████ | 19/21 [00:03<00:00,  5.94it/s]\u001b[A\n",
      "100%|██████████| 21/21 [00:03<00:00,  6.15it/s]\u001b[A\n"
     ]
    },
    {
     "name": "stdout",
     "output_type": "stream",
     "text": [
      "Val   loss 0.7242367693356105 accuracy 0.8123552123552124\n",
      "\n"
     ]
    },
    {
     "name": "stderr",
     "output_type": "stream",
     "text": [
      "\r",
      " 30%|███       | 3/10 [02:08<05:01, 43.03s/it]"
     ]
    },
    {
     "name": "stdout",
     "output_type": "stream",
     "text": [
      "Epoch 4/10\n",
      "----------\n"
     ]
    },
    {
     "name": "stderr",
     "output_type": "stream",
     "text": [
      "\n",
      "  0%|          | 0/90 [00:00<?, ?it/s]\u001b[A\n",
      "  1%|          | 1/90 [00:00<00:38,  2.31it/s]\u001b[A\n",
      "  2%|▏         | 2/90 [00:00<00:38,  2.29it/s]\u001b[A\n",
      "  3%|▎         | 3/90 [00:01<00:39,  2.23it/s]\u001b[A\n",
      "  4%|▍         | 4/90 [00:01<00:38,  2.24it/s]\u001b[A\n",
      "  6%|▌         | 5/90 [00:02<00:38,  2.22it/s]\u001b[A\n",
      "  7%|▋         | 6/90 [00:02<00:37,  2.23it/s]\u001b[A\n",
      "  8%|▊         | 7/90 [00:03<00:37,  2.22it/s]\u001b[A\n",
      "  9%|▉         | 8/90 [00:03<00:36,  2.23it/s]\u001b[A\n",
      " 10%|█         | 9/90 [00:04<00:36,  2.22it/s]\u001b[A\n",
      " 11%|█         | 10/90 [00:04<00:36,  2.22it/s]\u001b[A\n",
      " 12%|█▏        | 11/90 [00:04<00:35,  2.23it/s]\u001b[A\n",
      " 13%|█▎        | 12/90 [00:05<00:35,  2.21it/s]\u001b[A\n",
      " 14%|█▍        | 13/90 [00:05<00:34,  2.22it/s]\u001b[A\n",
      " 16%|█▌        | 14/90 [00:06<00:34,  2.22it/s]\u001b[A\n",
      " 17%|█▋        | 15/90 [00:06<00:33,  2.23it/s]\u001b[A\n",
      " 18%|█▊        | 16/90 [00:07<00:33,  2.23it/s]\u001b[A\n",
      " 19%|█▉        | 17/90 [00:07<00:32,  2.23it/s]\u001b[A\n",
      " 20%|██        | 18/90 [00:08<00:32,  2.23it/s]\u001b[A\n",
      " 21%|██        | 19/90 [00:08<00:31,  2.23it/s]\u001b[A\n",
      " 22%|██▏       | 20/90 [00:08<00:31,  2.23it/s]\u001b[A\n",
      " 23%|██▎       | 21/90 [00:09<00:31,  2.22it/s]\u001b[A\n",
      " 24%|██▍       | 22/90 [00:09<00:30,  2.22it/s]\u001b[A\n",
      " 26%|██▌       | 23/90 [00:10<00:30,  2.22it/s]\u001b[A\n",
      " 27%|██▋       | 24/90 [00:10<00:29,  2.22it/s]\u001b[A\n",
      " 28%|██▊       | 25/90 [00:11<00:29,  2.23it/s]\u001b[A\n",
      " 29%|██▉       | 26/90 [00:11<00:28,  2.23it/s]\u001b[A\n",
      " 30%|███       | 27/90 [00:12<00:28,  2.22it/s]\u001b[A\n",
      " 31%|███       | 28/90 [00:12<00:27,  2.22it/s]\u001b[A\n",
      " 32%|███▏      | 29/90 [00:13<00:27,  2.24it/s]\u001b[A\n",
      " 33%|███▎      | 30/90 [00:13<00:26,  2.23it/s]\u001b[A\n",
      " 34%|███▍      | 31/90 [00:13<00:26,  2.23it/s]\u001b[A\n",
      " 36%|███▌      | 32/90 [00:14<00:26,  2.23it/s]\u001b[A\n",
      " 37%|███▋      | 33/90 [00:14<00:25,  2.23it/s]\u001b[A\n",
      " 38%|███▊      | 34/90 [00:15<00:25,  2.22it/s]\u001b[A\n",
      " 39%|███▉      | 35/90 [00:15<00:24,  2.23it/s]\u001b[A\n",
      " 40%|████      | 36/90 [00:16<00:24,  2.22it/s]\u001b[A\n",
      " 41%|████      | 37/90 [00:16<00:23,  2.23it/s]\u001b[A\n",
      " 42%|████▏     | 38/90 [00:17<00:23,  2.23it/s]\u001b[A\n",
      " 43%|████▎     | 39/90 [00:17<00:22,  2.22it/s]\u001b[A\n",
      " 44%|████▍     | 40/90 [00:17<00:22,  2.21it/s]\u001b[A\n",
      " 46%|████▌     | 41/90 [00:18<00:21,  2.23it/s]\u001b[A\n",
      " 47%|████▋     | 42/90 [00:18<00:21,  2.22it/s]\u001b[A\n",
      " 48%|████▊     | 43/90 [00:19<00:21,  2.22it/s]\u001b[A\n",
      " 49%|████▉     | 44/90 [00:19<00:20,  2.22it/s]\u001b[A\n",
      " 50%|█████     | 45/90 [00:20<00:20,  2.22it/s]\u001b[A\n",
      " 51%|█████     | 46/90 [00:20<00:19,  2.21it/s]\u001b[A\n",
      " 52%|█████▏    | 47/90 [00:21<00:19,  2.21it/s]\u001b[A\n",
      " 53%|█████▎    | 48/90 [00:21<00:19,  2.21it/s]\u001b[A\n",
      " 54%|█████▍    | 49/90 [00:22<00:18,  2.22it/s]\u001b[A\n",
      " 56%|█████▌    | 50/90 [00:22<00:18,  2.22it/s]\u001b[A\n",
      " 57%|█████▋    | 51/90 [00:22<00:17,  2.21it/s]\u001b[A\n",
      " 58%|█████▊    | 52/90 [00:23<00:17,  2.20it/s]\u001b[A\n",
      " 59%|█████▉    | 53/90 [00:23<00:16,  2.21it/s]\u001b[A\n",
      " 60%|██████    | 54/90 [00:24<00:16,  2.20it/s]\u001b[A\n",
      " 61%|██████    | 55/90 [00:24<00:15,  2.20it/s]\u001b[A\n",
      " 62%|██████▏   | 56/90 [00:25<00:15,  2.21it/s]\u001b[A\n",
      " 63%|██████▎   | 57/90 [00:25<00:14,  2.21it/s]\u001b[A\n",
      " 64%|██████▍   | 58/90 [00:26<00:14,  2.21it/s]\u001b[A\n",
      " 66%|██████▌   | 59/90 [00:26<00:14,  2.21it/s]\u001b[A\n",
      " 67%|██████▋   | 60/90 [00:27<00:13,  2.22it/s]\u001b[A\n",
      " 68%|██████▊   | 61/90 [00:27<00:13,  2.22it/s]\u001b[A\n",
      " 69%|██████▉   | 62/90 [00:27<00:12,  2.22it/s]\u001b[A\n",
      " 70%|███████   | 63/90 [00:28<00:12,  2.21it/s]\u001b[A\n",
      " 71%|███████   | 64/90 [00:28<00:11,  2.22it/s]\u001b[A\n",
      " 72%|███████▏  | 65/90 [00:29<00:11,  2.22it/s]\u001b[A\n",
      " 73%|███████▎  | 66/90 [00:29<00:10,  2.22it/s]\u001b[A\n",
      " 74%|███████▍  | 67/90 [00:30<00:10,  2.20it/s]\u001b[A\n",
      " 76%|███████▌  | 68/90 [00:30<00:09,  2.21it/s]\u001b[A\n",
      " 77%|███████▋  | 69/90 [00:31<00:09,  2.21it/s]\u001b[A\n",
      " 78%|███████▊  | 70/90 [00:31<00:09,  2.21it/s]\u001b[A\n",
      " 79%|███████▉  | 71/90 [00:31<00:08,  2.21it/s]\u001b[A\n",
      " 80%|████████  | 72/90 [00:32<00:08,  2.20it/s]\u001b[A\n",
      " 81%|████████  | 73/90 [00:32<00:07,  2.20it/s]\u001b[A\n",
      " 82%|████████▏ | 74/90 [00:33<00:07,  2.20it/s]\u001b[A\n",
      " 83%|████████▎ | 75/90 [00:33<00:06,  2.19it/s]\u001b[A\n",
      " 84%|████████▍ | 76/90 [00:34<00:06,  2.21it/s]\u001b[A\n",
      " 86%|████████▌ | 77/90 [00:34<00:05,  2.21it/s]\u001b[A\n",
      " 87%|████████▋ | 78/90 [00:35<00:05,  2.20it/s]\u001b[A\n",
      " 88%|████████▊ | 79/90 [00:35<00:05,  2.20it/s]\u001b[A\n",
      " 89%|████████▉ | 80/90 [00:36<00:04,  2.20it/s]\u001b[A\n",
      " 90%|█████████ | 81/90 [00:36<00:04,  2.20it/s]\u001b[A\n",
      " 91%|█████████ | 82/90 [00:36<00:03,  2.20it/s]\u001b[A\n",
      " 92%|█████████▏| 83/90 [00:37<00:03,  2.20it/s]\u001b[A\n",
      " 93%|█████████▎| 84/90 [00:37<00:02,  2.20it/s]\u001b[A\n",
      " 94%|█████████▍| 85/90 [00:38<00:02,  2.19it/s]\u001b[A\n",
      " 96%|█████████▌| 86/90 [00:38<00:01,  2.20it/s]\u001b[A\n",
      " 97%|█████████▋| 87/90 [00:39<00:01,  2.20it/s]\u001b[A\n",
      " 98%|█████████▊| 88/90 [00:39<00:00,  2.20it/s]\u001b[A\n",
      " 99%|█████████▉| 89/90 [00:40<00:00,  2.21it/s]\u001b[A\n",
      "100%|██████████| 90/90 [00:40<00:00,  2.22it/s]\u001b[A\n"
     ]
    },
    {
     "name": "stdout",
     "output_type": "stream",
     "text": [
      "Train loss 0.08293589561039375 accuracy 0.9742742916739093\n"
     ]
    },
    {
     "name": "stderr",
     "output_type": "stream",
     "text": [
      "\n",
      "  0%|          | 0/21 [00:00<?, ?it/s]\u001b[A\n",
      "  5%|▍         | 1/21 [00:00<00:03,  5.86it/s]\u001b[A\n",
      " 10%|▉         | 2/21 [00:00<00:03,  5.63it/s]\u001b[A\n",
      " 14%|█▍        | 3/21 [00:00<00:03,  5.67it/s]\u001b[A\n",
      " 19%|█▉        | 4/21 [00:00<00:02,  5.80it/s]\u001b[A\n",
      " 24%|██▍       | 5/21 [00:00<00:02,  5.84it/s]\u001b[A\n",
      " 29%|██▊       | 6/21 [00:01<00:02,  5.86it/s]\u001b[A\n",
      " 33%|███▎      | 7/21 [00:01<00:02,  5.88it/s]\u001b[A\n",
      " 38%|███▊      | 8/21 [00:01<00:02,  5.97it/s]\u001b[A\n",
      " 43%|████▎     | 9/21 [00:01<00:02,  5.93it/s]\u001b[A\n",
      " 48%|████▊     | 10/21 [00:01<00:01,  5.90it/s]\u001b[A\n",
      " 52%|█████▏    | 11/21 [00:01<00:01,  5.89it/s]\u001b[A\n",
      " 57%|█████▋    | 12/21 [00:02<00:01,  5.86it/s]\u001b[A\n",
      " 62%|██████▏   | 13/21 [00:02<00:01,  5.87it/s]\u001b[A\n",
      " 67%|██████▋   | 14/21 [00:02<00:01,  5.94it/s]\u001b[A\n",
      " 71%|███████▏  | 15/21 [00:02<00:01,  5.95it/s]\u001b[A\n",
      " 76%|███████▌  | 16/21 [00:02<00:00,  5.93it/s]\u001b[A\n",
      " 81%|████████  | 17/21 [00:02<00:00,  5.88it/s]\u001b[A\n",
      " 86%|████████▌ | 18/21 [00:03<00:00,  5.89it/s]\u001b[A\n",
      " 90%|█████████ | 19/21 [00:03<00:00,  5.87it/s]\u001b[A\n",
      "100%|██████████| 21/21 [00:03<00:00,  6.09it/s]\u001b[A\n",
      " 40%|████      | 4/10 [02:52<04:20, 43.43s/it]"
     ]
    },
    {
     "name": "stdout",
     "output_type": "stream",
     "text": [
      "Val   loss 0.8284542092255184 accuracy 0.8054054054054054\n",
      "\n",
      "Epoch 5/10\n",
      "----------\n"
     ]
    },
    {
     "name": "stderr",
     "output_type": "stream",
     "text": [
      "\n",
      "  0%|          | 0/90 [00:00<?, ?it/s]\u001b[A\n",
      "  1%|          | 1/90 [00:00<00:40,  2.22it/s]\u001b[A\n",
      "  2%|▏         | 2/90 [00:00<00:39,  2.21it/s]\u001b[A\n",
      "  3%|▎         | 3/90 [00:01<00:39,  2.21it/s]\u001b[A\n",
      "  4%|▍         | 4/90 [00:01<00:38,  2.24it/s]\u001b[A\n",
      "  6%|▌         | 5/90 [00:02<00:38,  2.22it/s]\u001b[A\n",
      "  7%|▋         | 6/90 [00:02<00:37,  2.21it/s]\u001b[A\n",
      "  8%|▊         | 7/90 [00:03<00:37,  2.21it/s]\u001b[A\n",
      "  9%|▉         | 8/90 [00:03<00:36,  2.22it/s]\u001b[A\n",
      " 10%|█         | 9/90 [00:04<00:36,  2.21it/s]\u001b[A\n",
      " 11%|█         | 10/90 [00:04<00:36,  2.21it/s]\u001b[A\n",
      " 12%|█▏        | 11/90 [00:04<00:35,  2.21it/s]\u001b[A\n",
      " 13%|█▎        | 12/90 [00:05<00:35,  2.21it/s]\u001b[A\n",
      " 14%|█▍        | 13/90 [00:05<00:34,  2.22it/s]\u001b[A\n",
      " 16%|█▌        | 14/90 [00:06<00:34,  2.21it/s]\u001b[A\n",
      " 17%|█▋        | 15/90 [00:06<00:33,  2.22it/s]\u001b[A\n",
      " 18%|█▊        | 16/90 [00:07<00:33,  2.22it/s]\u001b[A\n",
      " 19%|█▉        | 17/90 [00:07<00:32,  2.22it/s]\u001b[A\n",
      " 20%|██        | 18/90 [00:08<00:32,  2.22it/s]\u001b[A\n",
      " 21%|██        | 19/90 [00:08<00:31,  2.23it/s]\u001b[A\n",
      " 22%|██▏       | 20/90 [00:09<00:31,  2.22it/s]\u001b[A\n",
      " 23%|██▎       | 21/90 [00:09<00:31,  2.22it/s]\u001b[A\n",
      " 24%|██▍       | 22/90 [00:09<00:30,  2.22it/s]\u001b[A\n",
      " 26%|██▌       | 23/90 [00:10<00:30,  2.21it/s]\u001b[A\n",
      " 27%|██▋       | 24/90 [00:10<00:29,  2.21it/s]\u001b[A\n",
      " 28%|██▊       | 25/90 [00:11<00:29,  2.22it/s]\u001b[A\n",
      " 29%|██▉       | 26/90 [00:11<00:28,  2.21it/s]\u001b[A\n",
      " 30%|███       | 27/90 [00:12<00:28,  2.22it/s]\u001b[A\n",
      " 31%|███       | 28/90 [00:12<00:28,  2.21it/s]\u001b[A\n",
      " 32%|███▏      | 29/90 [00:13<00:27,  2.22it/s]\u001b[A\n",
      " 33%|███▎      | 30/90 [00:13<00:27,  2.21it/s]\u001b[A\n",
      " 34%|███▍      | 31/90 [00:13<00:26,  2.21it/s]\u001b[A\n",
      " 36%|███▌      | 32/90 [00:14<00:26,  2.22it/s]\u001b[A\n",
      " 37%|███▋      | 33/90 [00:14<00:25,  2.22it/s]\u001b[A\n",
      " 38%|███▊      | 34/90 [00:15<00:25,  2.23it/s]\u001b[A\n",
      " 39%|███▉      | 35/90 [00:15<00:24,  2.23it/s]\u001b[A\n",
      " 40%|████      | 36/90 [00:16<00:24,  2.23it/s]\u001b[A\n",
      " 41%|████      | 37/90 [00:16<00:23,  2.22it/s]\u001b[A\n",
      " 42%|████▏     | 38/90 [00:17<00:23,  2.23it/s]\u001b[A\n",
      " 43%|████▎     | 39/90 [00:17<00:22,  2.23it/s]\u001b[A\n",
      " 44%|████▍     | 40/90 [00:18<00:22,  2.22it/s]\u001b[A\n",
      " 46%|████▌     | 41/90 [00:18<00:21,  2.23it/s]\u001b[A\n",
      " 47%|████▋     | 42/90 [00:18<00:21,  2.22it/s]\u001b[A\n",
      " 48%|████▊     | 43/90 [00:19<00:21,  2.23it/s]\u001b[A\n",
      " 49%|████▉     | 44/90 [00:19<00:20,  2.22it/s]\u001b[A\n",
      " 50%|█████     | 45/90 [00:20<00:20,  2.22it/s]\u001b[A\n",
      " 51%|█████     | 46/90 [00:20<00:19,  2.22it/s]\u001b[A\n",
      " 52%|█████▏    | 47/90 [00:21<00:19,  2.22it/s]\u001b[A\n",
      " 53%|█████▎    | 48/90 [00:21<00:18,  2.22it/s]\u001b[A\n",
      " 54%|█████▍    | 49/90 [00:22<00:18,  2.22it/s]\u001b[A\n",
      " 56%|█████▌    | 50/90 [00:22<00:18,  2.21it/s]\u001b[A\n",
      " 57%|█████▋    | 51/90 [00:22<00:17,  2.22it/s]\u001b[A\n",
      " 58%|█████▊    | 52/90 [00:23<00:17,  2.22it/s]\u001b[A\n",
      " 59%|█████▉    | 53/90 [00:23<00:16,  2.22it/s]\u001b[A\n",
      " 60%|██████    | 54/90 [00:24<00:16,  2.21it/s]\u001b[A\n",
      " 61%|██████    | 55/90 [00:24<00:15,  2.20it/s]\u001b[A\n",
      " 62%|██████▏   | 56/90 [00:25<00:15,  2.21it/s]\u001b[A\n",
      " 63%|██████▎   | 57/90 [00:25<00:14,  2.21it/s]\u001b[A\n",
      " 64%|██████▍   | 58/90 [00:26<00:14,  2.21it/s]\u001b[A\n",
      " 66%|██████▌   | 59/90 [00:26<00:13,  2.22it/s]\u001b[A\n",
      " 67%|██████▋   | 60/90 [00:27<00:13,  2.21it/s]\u001b[A\n",
      " 68%|██████▊   | 61/90 [00:27<00:13,  2.21it/s]\u001b[A\n",
      " 69%|██████▉   | 62/90 [00:27<00:12,  2.22it/s]\u001b[A\n",
      " 70%|███████   | 63/90 [00:28<00:12,  2.21it/s]\u001b[A\n",
      " 71%|███████   | 64/90 [00:28<00:11,  2.22it/s]\u001b[A\n",
      " 72%|███████▏  | 65/90 [00:29<00:11,  2.22it/s]\u001b[A\n",
      " 73%|███████▎  | 66/90 [00:29<00:10,  2.22it/s]\u001b[A\n",
      " 74%|███████▍  | 67/90 [00:30<00:10,  2.21it/s]\u001b[A\n",
      " 76%|███████▌  | 68/90 [00:30<00:09,  2.22it/s]\u001b[A\n",
      " 77%|███████▋  | 69/90 [00:31<00:09,  2.21it/s]\u001b[A\n",
      " 78%|███████▊  | 70/90 [00:31<00:09,  2.20it/s]\u001b[A\n",
      " 79%|███████▉  | 71/90 [00:32<00:08,  2.18it/s]\u001b[A\n",
      " 80%|████████  | 72/90 [00:32<00:08,  2.19it/s]\u001b[A\n",
      " 81%|████████  | 73/90 [00:32<00:07,  2.20it/s]\u001b[A\n",
      " 82%|████████▏ | 74/90 [00:33<00:07,  2.22it/s]\u001b[A\n",
      " 83%|████████▎ | 75/90 [00:33<00:06,  2.21it/s]\u001b[A\n",
      " 84%|████████▍ | 76/90 [00:34<00:06,  2.21it/s]\u001b[A\n",
      " 86%|████████▌ | 77/90 [00:34<00:05,  2.22it/s]\u001b[A\n",
      " 87%|████████▋ | 78/90 [00:35<00:05,  2.21it/s]\u001b[A\n",
      " 88%|████████▊ | 79/90 [00:35<00:04,  2.21it/s]\u001b[A\n",
      " 89%|████████▉ | 80/90 [00:36<00:04,  2.22it/s]\u001b[A\n",
      " 90%|█████████ | 81/90 [00:36<00:04,  2.21it/s]\u001b[A\n",
      " 91%|█████████ | 82/90 [00:37<00:03,  2.21it/s]\u001b[A\n",
      " 92%|█████████▏| 83/90 [00:37<00:03,  2.22it/s]\u001b[A\n",
      " 93%|█████████▎| 84/90 [00:37<00:02,  2.22it/s]\u001b[A\n",
      " 94%|█████████▍| 85/90 [00:38<00:02,  2.21it/s]\u001b[A\n",
      " 96%|█████████▌| 86/90 [00:38<00:01,  2.22it/s]\u001b[A\n",
      " 97%|█████████▋| 87/90 [00:39<00:01,  2.23it/s]\u001b[A\n",
      " 98%|█████████▊| 88/90 [00:39<00:00,  2.22it/s]\u001b[A\n",
      " 99%|█████████▉| 89/90 [00:40<00:00,  2.23it/s]\u001b[A\n",
      "100%|██████████| 90/90 [00:40<00:00,  2.22it/s]\u001b[A\n"
     ]
    },
    {
     "name": "stdout",
     "output_type": "stream",
     "text": [
      "Train loss 0.04980922260890818 accuracy 0.9845298105336346\n"
     ]
    },
    {
     "name": "stderr",
     "output_type": "stream",
     "text": [
      "\n",
      "  0%|          | 0/21 [00:00<?, ?it/s]\u001b[A\n",
      "  5%|▍         | 1/21 [00:00<00:03,  6.07it/s]\u001b[A\n",
      " 10%|▉         | 2/21 [00:00<00:03,  5.89it/s]\u001b[A\n",
      " 14%|█▍        | 3/21 [00:00<00:03,  5.80it/s]\u001b[A\n",
      " 19%|█▉        | 4/21 [00:00<00:02,  5.89it/s]\u001b[A\n",
      " 24%|██▍       | 5/21 [00:00<00:02,  5.93it/s]\u001b[A\n",
      " 29%|██▊       | 6/21 [00:01<00:02,  5.88it/s]\u001b[A\n",
      " 33%|███▎      | 7/21 [00:01<00:02,  5.89it/s]\u001b[A\n",
      " 38%|███▊      | 8/21 [00:01<00:02,  5.87it/s]\u001b[A\n",
      " 43%|████▎     | 9/21 [00:01<00:02,  5.94it/s]\u001b[A\n",
      " 48%|████▊     | 10/21 [00:01<00:01,  5.93it/s]\u001b[A\n",
      " 52%|█████▏    | 11/21 [00:01<00:01,  5.94it/s]\u001b[A\n",
      " 57%|█████▋    | 12/21 [00:02<00:01,  5.91it/s]\u001b[A\n",
      " 62%|██████▏   | 13/21 [00:02<00:01,  5.92it/s]\u001b[A\n",
      " 67%|██████▋   | 14/21 [00:02<00:01,  5.91it/s]\u001b[A\n",
      " 71%|███████▏  | 15/21 [00:02<00:01,  5.96it/s]\u001b[A\n",
      " 76%|███████▌  | 16/21 [00:02<00:00,  5.96it/s]\u001b[A\n",
      " 81%|████████  | 17/21 [00:02<00:00,  5.96it/s]\u001b[A\n",
      " 86%|████████▌ | 18/21 [00:03<00:00,  5.95it/s]\u001b[A\n",
      " 90%|█████████ | 19/21 [00:03<00:00,  5.91it/s]\u001b[A\n",
      "100%|██████████| 21/21 [00:03<00:00,  6.13it/s]\u001b[A\n",
      " 50%|█████     | 5/10 [03:36<03:38, 43.63s/it]"
     ]
    },
    {
     "name": "stdout",
     "output_type": "stream",
     "text": [
      "Val   loss 0.8407829574176243 accuracy 0.8123552123552124\n",
      "\n",
      "Epoch 6/10\n",
      "----------\n"
     ]
    },
    {
     "name": "stderr",
     "output_type": "stream",
     "text": [
      "\n",
      "  0%|          | 0/90 [00:00<?, ?it/s]\u001b[A\n",
      "  1%|          | 1/90 [00:00<00:39,  2.25it/s]\u001b[A\n",
      "  2%|▏         | 2/90 [00:00<00:39,  2.24it/s]\u001b[A\n",
      "  3%|▎         | 3/90 [00:01<00:39,  2.22it/s]\u001b[A\n",
      "  4%|▍         | 4/90 [00:01<00:38,  2.23it/s]\u001b[A\n",
      "  6%|▌         | 5/90 [00:02<00:38,  2.23it/s]\u001b[A\n",
      "  7%|▋         | 6/90 [00:02<00:37,  2.22it/s]\u001b[A\n",
      "  8%|▊         | 7/90 [00:03<00:37,  2.22it/s]\u001b[A\n",
      "  9%|▉         | 8/90 [00:03<00:36,  2.23it/s]\u001b[A\n",
      " 10%|█         | 9/90 [00:04<00:36,  2.22it/s]\u001b[A\n",
      " 11%|█         | 10/90 [00:04<00:35,  2.23it/s]\u001b[A\n",
      " 12%|█▏        | 11/90 [00:04<00:35,  2.21it/s]\u001b[A\n",
      " 13%|█▎        | 12/90 [00:05<00:35,  2.21it/s]\u001b[A\n",
      " 14%|█▍        | 13/90 [00:05<00:34,  2.22it/s]\u001b[A\n",
      " 16%|█▌        | 14/90 [00:06<00:34,  2.22it/s]\u001b[A\n",
      " 17%|█▋        | 15/90 [00:06<00:33,  2.23it/s]\u001b[A\n",
      " 18%|█▊        | 16/90 [00:07<00:33,  2.23it/s]\u001b[A\n",
      " 19%|█▉        | 17/90 [00:07<00:32,  2.23it/s]\u001b[A\n",
      " 20%|██        | 18/90 [00:08<00:32,  2.22it/s]\u001b[A\n",
      " 21%|██        | 19/90 [00:08<00:31,  2.22it/s]\u001b[A\n",
      " 22%|██▏       | 20/90 [00:08<00:31,  2.23it/s]\u001b[A\n",
      " 23%|██▎       | 21/90 [00:09<00:31,  2.22it/s]\u001b[A\n",
      " 24%|██▍       | 22/90 [00:09<00:30,  2.22it/s]\u001b[A\n",
      " 26%|██▌       | 23/90 [00:10<00:30,  2.19it/s]\u001b[A\n",
      " 27%|██▋       | 24/90 [00:10<00:29,  2.21it/s]\u001b[A\n",
      " 28%|██▊       | 25/90 [00:11<00:29,  2.21it/s]\u001b[A\n",
      " 29%|██▉       | 26/90 [00:11<00:28,  2.21it/s]\u001b[A\n",
      " 30%|███       | 27/90 [00:12<00:28,  2.22it/s]\u001b[A\n",
      " 31%|███       | 28/90 [00:12<00:28,  2.21it/s]\u001b[A\n",
      " 32%|███▏      | 29/90 [00:13<00:27,  2.22it/s]\u001b[A\n",
      " 33%|███▎      | 30/90 [00:13<00:27,  2.21it/s]\u001b[A\n",
      " 34%|███▍      | 31/90 [00:13<00:26,  2.22it/s]\u001b[A\n",
      " 36%|███▌      | 32/90 [00:14<00:26,  2.22it/s]\u001b[A\n",
      " 37%|███▋      | 33/90 [00:14<00:25,  2.22it/s]\u001b[A\n",
      " 38%|███▊      | 34/90 [00:15<00:25,  2.21it/s]\u001b[A\n",
      " 39%|███▉      | 35/90 [00:15<00:24,  2.20it/s]\u001b[A\n",
      " 40%|████      | 36/90 [00:16<00:24,  2.20it/s]\u001b[A\n",
      " 41%|████      | 37/90 [00:16<00:23,  2.21it/s]\u001b[A\n",
      " 42%|████▏     | 38/90 [00:17<00:23,  2.22it/s]\u001b[A\n",
      " 43%|████▎     | 39/90 [00:17<00:23,  2.21it/s]\u001b[A\n",
      " 44%|████▍     | 40/90 [00:18<00:22,  2.20it/s]\u001b[A\n",
      " 46%|████▌     | 41/90 [00:18<00:22,  2.22it/s]\u001b[A\n",
      " 47%|████▋     | 42/90 [00:18<00:21,  2.21it/s]\u001b[A\n",
      " 48%|████▊     | 43/90 [00:19<00:21,  2.22it/s]\u001b[A\n",
      " 49%|████▉     | 44/90 [00:19<00:20,  2.21it/s]\u001b[A\n",
      " 50%|█████     | 45/90 [00:20<00:20,  2.21it/s]\u001b[A\n",
      " 51%|█████     | 46/90 [00:20<00:19,  2.21it/s]\u001b[A\n",
      " 52%|█████▏    | 47/90 [00:21<00:19,  2.22it/s]\u001b[A\n",
      " 53%|█████▎    | 48/90 [00:21<00:18,  2.23it/s]\u001b[A\n",
      " 54%|█████▍    | 49/90 [00:22<00:18,  2.22it/s]\u001b[A\n",
      " 56%|█████▌    | 50/90 [00:22<00:17,  2.23it/s]\u001b[A\n",
      " 57%|█████▋    | 51/90 [00:22<00:17,  2.22it/s]\u001b[A\n",
      " 58%|█████▊    | 52/90 [00:23<00:17,  2.22it/s]\u001b[A\n",
      " 59%|█████▉    | 53/90 [00:23<00:16,  2.22it/s]\u001b[A\n",
      " 60%|██████    | 54/90 [00:24<00:16,  2.23it/s]\u001b[A\n",
      " 61%|██████    | 55/90 [00:24<00:15,  2.22it/s]\u001b[A\n",
      " 62%|██████▏   | 56/90 [00:25<00:15,  2.22it/s]\u001b[A\n",
      " 63%|██████▎   | 57/90 [00:25<00:14,  2.21it/s]\u001b[A\n",
      " 64%|██████▍   | 58/90 [00:26<00:14,  2.21it/s]\u001b[A\n",
      " 66%|██████▌   | 59/90 [00:26<00:13,  2.22it/s]\u001b[A\n",
      " 67%|██████▋   | 60/90 [00:27<00:13,  2.22it/s]\u001b[A\n",
      " 68%|██████▊   | 61/90 [00:27<00:13,  2.22it/s]\u001b[A\n",
      " 69%|██████▉   | 62/90 [00:27<00:12,  2.21it/s]\u001b[A\n",
      " 70%|███████   | 63/90 [00:28<00:12,  2.21it/s]\u001b[A\n",
      " 71%|███████   | 64/90 [00:28<00:11,  2.22it/s]\u001b[A\n",
      " 72%|███████▏  | 65/90 [00:29<00:11,  2.22it/s]\u001b[A\n",
      " 73%|███████▎  | 66/90 [00:29<00:10,  2.22it/s]\u001b[A\n",
      " 74%|███████▍  | 67/90 [00:30<00:10,  2.21it/s]\u001b[A\n",
      " 76%|███████▌  | 68/90 [00:30<00:09,  2.22it/s]\u001b[A\n",
      " 77%|███████▋  | 69/90 [00:31<00:09,  2.22it/s]\u001b[A\n",
      " 78%|███████▊  | 70/90 [00:31<00:09,  2.21it/s]\u001b[A\n",
      " 79%|███████▉  | 71/90 [00:32<00:08,  2.22it/s]\u001b[A\n",
      " 80%|████████  | 72/90 [00:32<00:08,  2.22it/s]\u001b[A\n",
      " 81%|████████  | 73/90 [00:32<00:07,  2.22it/s]\u001b[A\n",
      " 82%|████████▏ | 74/90 [00:33<00:07,  2.23it/s]\u001b[A\n",
      " 83%|████████▎ | 75/90 [00:33<00:06,  2.22it/s]\u001b[A\n",
      " 84%|████████▍ | 76/90 [00:34<00:06,  2.23it/s]\u001b[A\n",
      " 86%|████████▌ | 77/90 [00:34<00:05,  2.24it/s]\u001b[A\n",
      " 87%|████████▋ | 78/90 [00:35<00:05,  2.23it/s]\u001b[A\n",
      " 88%|████████▊ | 79/90 [00:35<00:04,  2.23it/s]\u001b[A\n",
      " 89%|████████▉ | 80/90 [00:36<00:04,  2.23it/s]\u001b[A\n",
      " 90%|█████████ | 81/90 [00:36<00:04,  2.23it/s]\u001b[A\n",
      " 91%|█████████ | 82/90 [00:36<00:03,  2.23it/s]\u001b[A\n",
      " 92%|█████████▏| 83/90 [00:37<00:03,  2.22it/s]\u001b[A\n",
      " 93%|█████████▎| 84/90 [00:37<00:02,  2.23it/s]\u001b[A\n",
      " 94%|█████████▍| 85/90 [00:38<00:02,  2.22it/s]\u001b[A\n",
      " 96%|█████████▌| 86/90 [00:38<00:01,  2.23it/s]\u001b[A\n",
      " 97%|█████████▋| 87/90 [00:39<00:01,  2.22it/s]\u001b[A\n",
      " 98%|█████████▊| 88/90 [00:39<00:00,  2.22it/s]\u001b[A\n",
      " 99%|█████████▉| 89/90 [00:40<00:00,  2.23it/s]\u001b[A\n",
      "100%|██████████| 90/90 [00:40<00:00,  2.22it/s]\u001b[A\n"
     ]
    },
    {
     "name": "stdout",
     "output_type": "stream",
     "text": [
      "Train loss 0.027379715092764753 accuracy 0.9928732835042587\n"
     ]
    },
    {
     "name": "stderr",
     "output_type": "stream",
     "text": [
      "\n",
      "  0%|          | 0/21 [00:00<?, ?it/s]\u001b[A\n",
      "  5%|▍         | 1/21 [00:00<00:03,  6.12it/s]\u001b[A\n",
      " 10%|▉         | 2/21 [00:00<00:03,  5.70it/s]\u001b[A\n",
      " 14%|█▍        | 3/21 [00:00<00:03,  5.76it/s]\u001b[A\n",
      " 19%|█▉        | 4/21 [00:00<00:02,  5.79it/s]\u001b[A\n",
      " 24%|██▍       | 5/21 [00:00<00:02,  5.86it/s]\u001b[A\n",
      " 29%|██▊       | 6/21 [00:01<00:02,  5.86it/s]\u001b[A\n",
      " 33%|███▎      | 7/21 [00:01<00:02,  5.91it/s]\u001b[A\n",
      " 38%|███▊      | 8/21 [00:01<00:02,  6.00it/s]\u001b[A\n",
      " 43%|████▎     | 9/21 [00:01<00:02,  5.93it/s]\u001b[A\n",
      " 48%|████▊     | 10/21 [00:01<00:01,  5.92it/s]\u001b[A\n",
      " 52%|█████▏    | 11/21 [00:01<00:01,  5.89it/s]\u001b[A\n",
      " 57%|█████▋    | 12/21 [00:02<00:01,  5.91it/s]\u001b[A\n",
      " 62%|██████▏   | 13/21 [00:02<00:01,  5.90it/s]\u001b[A\n",
      " 67%|██████▋   | 14/21 [00:02<00:01,  5.96it/s]\u001b[A\n",
      " 71%|███████▏  | 15/21 [00:02<00:01,  5.95it/s]\u001b[A\n",
      " 76%|███████▌  | 16/21 [00:02<00:00,  5.89it/s]\u001b[A\n",
      " 81%|████████  | 17/21 [00:02<00:00,  5.91it/s]\u001b[A\n",
      " 86%|████████▌ | 18/21 [00:03<00:00,  5.86it/s]\u001b[A\n",
      " 90%|█████████ | 19/21 [00:03<00:00,  5.89it/s]\u001b[A\n",
      "100%|██████████| 21/21 [00:03<00:00,  6.12it/s]\u001b[A\n"
     ]
    },
    {
     "name": "stdout",
     "output_type": "stream",
     "text": [
      "Val   loss 1.026238222916921 accuracy 0.8162162162162162\n",
      "\n"
     ]
    },
    {
     "name": "stderr",
     "output_type": "stream",
     "text": [
      "\r",
      " 60%|██████    | 6/10 [04:20<02:55, 43.92s/it]"
     ]
    },
    {
     "name": "stdout",
     "output_type": "stream",
     "text": [
      "Epoch 7/10\n",
      "----------\n"
     ]
    },
    {
     "name": "stderr",
     "output_type": "stream",
     "text": [
      "\n",
      "  0%|          | 0/90 [00:00<?, ?it/s]\u001b[A\n",
      "  1%|          | 1/90 [00:00<00:38,  2.29it/s]\u001b[A\n",
      "  2%|▏         | 2/90 [00:00<00:38,  2.30it/s]\u001b[A\n",
      "  3%|▎         | 3/90 [00:01<00:39,  2.23it/s]\u001b[A\n",
      "  4%|▍         | 4/90 [00:01<00:38,  2.25it/s]\u001b[A\n",
      "  6%|▌         | 5/90 [00:02<00:38,  2.21it/s]\u001b[A\n",
      "  7%|▋         | 6/90 [00:02<00:37,  2.23it/s]\u001b[A\n",
      "  8%|▊         | 7/90 [00:03<00:37,  2.22it/s]\u001b[A\n",
      "  9%|▉         | 8/90 [00:03<00:36,  2.22it/s]\u001b[A\n",
      " 10%|█         | 9/90 [00:04<00:36,  2.21it/s]\u001b[A\n",
      " 11%|█         | 10/90 [00:04<00:36,  2.21it/s]\u001b[A\n",
      " 12%|█▏        | 11/90 [00:04<00:35,  2.22it/s]\u001b[A\n",
      " 13%|█▎        | 12/90 [00:05<00:35,  2.21it/s]\u001b[A\n",
      " 14%|█▍        | 13/90 [00:05<00:34,  2.22it/s]\u001b[A\n",
      " 16%|█▌        | 14/90 [00:06<00:34,  2.22it/s]\u001b[A\n",
      " 17%|█▋        | 15/90 [00:06<00:33,  2.23it/s]\u001b[A\n",
      " 18%|█▊        | 16/90 [00:07<00:33,  2.22it/s]\u001b[A\n",
      " 19%|█▉        | 17/90 [00:07<00:32,  2.22it/s]\u001b[A\n",
      " 20%|██        | 18/90 [00:08<00:32,  2.24it/s]\u001b[A\n",
      " 21%|██        | 19/90 [00:08<00:31,  2.23it/s]\u001b[A\n",
      " 22%|██▏       | 20/90 [00:08<00:31,  2.23it/s]\u001b[A\n",
      " 23%|██▎       | 21/90 [00:09<00:31,  2.21it/s]\u001b[A\n",
      " 24%|██▍       | 22/90 [00:09<00:30,  2.21it/s]\u001b[A\n",
      " 26%|██▌       | 23/90 [00:10<00:30,  2.20it/s]\u001b[A\n",
      " 27%|██▋       | 24/90 [00:10<00:29,  2.22it/s]\u001b[A\n",
      " 28%|██▊       | 25/90 [00:11<00:29,  2.21it/s]\u001b[A\n",
      " 29%|██▉       | 26/90 [00:11<00:28,  2.22it/s]\u001b[A\n",
      " 30%|███       | 27/90 [00:12<00:28,  2.21it/s]\u001b[A\n",
      " 31%|███       | 28/90 [00:12<00:28,  2.21it/s]\u001b[A\n",
      " 32%|███▏      | 29/90 [00:13<00:27,  2.22it/s]\u001b[A\n",
      " 33%|███▎      | 30/90 [00:13<00:27,  2.21it/s]\u001b[A\n",
      " 34%|███▍      | 31/90 [00:13<00:26,  2.21it/s]\u001b[A\n",
      " 36%|███▌      | 32/90 [00:14<00:26,  2.21it/s]\u001b[A\n",
      " 37%|███▋      | 33/90 [00:14<00:25,  2.22it/s]\u001b[A\n",
      " 38%|███▊      | 34/90 [00:15<00:25,  2.21it/s]\u001b[A\n",
      " 39%|███▉      | 35/90 [00:15<00:24,  2.22it/s]\u001b[A\n",
      " 40%|████      | 36/90 [00:16<00:24,  2.21it/s]\u001b[A\n",
      " 41%|████      | 37/90 [00:16<00:23,  2.22it/s]\u001b[A\n",
      " 42%|████▏     | 38/90 [00:17<00:23,  2.23it/s]\u001b[A\n",
      " 43%|████▎     | 39/90 [00:17<00:22,  2.22it/s]\u001b[A\n",
      " 44%|████▍     | 40/90 [00:18<00:22,  2.21it/s]\u001b[A\n",
      " 46%|████▌     | 41/90 [00:18<00:22,  2.23it/s]\u001b[A\n",
      " 47%|████▋     | 42/90 [00:18<00:21,  2.22it/s]\u001b[A\n",
      " 48%|████▊     | 43/90 [00:19<00:21,  2.22it/s]\u001b[A\n",
      " 49%|████▉     | 44/90 [00:19<00:20,  2.21it/s]\u001b[A\n",
      " 50%|█████     | 45/90 [00:20<00:20,  2.22it/s]\u001b[A\n",
      " 51%|█████     | 46/90 [00:20<00:19,  2.21it/s]\u001b[A\n",
      " 52%|█████▏    | 47/90 [00:21<00:19,  2.21it/s]\u001b[A\n",
      " 53%|█████▎    | 48/90 [00:21<00:19,  2.20it/s]\u001b[A\n",
      " 54%|█████▍    | 49/90 [00:22<00:18,  2.20it/s]\u001b[A\n",
      " 56%|█████▌    | 50/90 [00:22<00:18,  2.20it/s]\u001b[A\n",
      " 57%|█████▋    | 51/90 [00:23<00:17,  2.20it/s]\u001b[A\n",
      " 58%|█████▊    | 52/90 [00:23<00:17,  2.20it/s]\u001b[A\n",
      " 59%|█████▉    | 53/90 [00:23<00:16,  2.21it/s]\u001b[A\n",
      " 60%|██████    | 54/90 [00:24<00:16,  2.20it/s]\u001b[A\n",
      " 61%|██████    | 55/90 [00:24<00:15,  2.19it/s]\u001b[A\n",
      " 62%|██████▏   | 56/90 [00:25<00:15,  2.20it/s]\u001b[A\n",
      " 63%|██████▎   | 57/90 [00:25<00:15,  2.20it/s]\u001b[A\n",
      " 64%|██████▍   | 58/90 [00:26<00:14,  2.20it/s]\u001b[A\n",
      " 66%|██████▌   | 59/90 [00:26<00:14,  2.19it/s]\u001b[A\n",
      " 67%|██████▋   | 60/90 [00:27<00:13,  2.19it/s]\u001b[A\n",
      " 68%|██████▊   | 61/90 [00:27<00:13,  2.20it/s]\u001b[A\n",
      " 69%|██████▉   | 62/90 [00:28<00:12,  2.20it/s]\u001b[A\n",
      " 70%|███████   | 63/90 [00:28<00:12,  2.19it/s]\u001b[A\n",
      " 71%|███████   | 64/90 [00:28<00:11,  2.19it/s]\u001b[A\n",
      " 72%|███████▏  | 65/90 [00:29<00:11,  2.20it/s]\u001b[A\n",
      " 73%|███████▎  | 66/90 [00:29<00:10,  2.19it/s]\u001b[A\n",
      " 74%|███████▍  | 67/90 [00:30<00:10,  2.19it/s]\u001b[A\n",
      " 76%|███████▌  | 68/90 [00:30<00:09,  2.20it/s]\u001b[A\n",
      " 77%|███████▋  | 69/90 [00:31<00:09,  2.20it/s]\u001b[A\n",
      " 78%|███████▊  | 70/90 [00:31<00:09,  2.20it/s]\u001b[A\n",
      " 79%|███████▉  | 71/90 [00:32<00:08,  2.20it/s]\u001b[A\n",
      " 80%|████████  | 72/90 [00:32<00:08,  2.19it/s]\u001b[A\n",
      " 81%|████████  | 73/90 [00:33<00:07,  2.19it/s]\u001b[A\n",
      " 82%|████████▏ | 74/90 [00:33<00:07,  2.20it/s]\u001b[A\n",
      " 83%|████████▎ | 75/90 [00:33<00:06,  2.19it/s]\u001b[A\n",
      " 84%|████████▍ | 76/90 [00:34<00:06,  2.20it/s]\u001b[A\n",
      " 86%|████████▌ | 77/90 [00:34<00:05,  2.21it/s]\u001b[A\n",
      " 87%|████████▋ | 78/90 [00:35<00:05,  2.21it/s]\u001b[A\n",
      " 88%|████████▊ | 79/90 [00:35<00:04,  2.20it/s]\u001b[A\n",
      " 89%|████████▉ | 80/90 [00:36<00:04,  2.21it/s]\u001b[A\n",
      " 90%|█████████ | 81/90 [00:36<00:04,  2.21it/s]\u001b[A\n",
      " 91%|█████████ | 82/90 [00:37<00:03,  2.22it/s]\u001b[A\n",
      " 92%|█████████▏| 83/90 [00:37<00:03,  2.20it/s]\u001b[A\n",
      " 93%|█████████▎| 84/90 [00:38<00:02,  2.20it/s]\u001b[A\n",
      " 94%|█████████▍| 85/90 [00:38<00:02,  2.20it/s]\u001b[A\n",
      " 96%|█████████▌| 86/90 [00:38<00:01,  2.21it/s]\u001b[A\n",
      " 97%|█████████▋| 87/90 [00:39<00:01,  2.21it/s]\u001b[A\n",
      " 98%|█████████▊| 88/90 [00:39<00:00,  2.19it/s]\u001b[A\n",
      " 99%|█████████▉| 89/90 [00:40<00:00,  2.20it/s]\u001b[A\n",
      "100%|██████████| 90/90 [00:40<00:00,  2.21it/s]\u001b[A\n"
     ]
    },
    {
     "name": "stdout",
     "output_type": "stream",
     "text": [
      "Train loss 0.010433023625066401 accuracy 0.9972188423431254\n"
     ]
    },
    {
     "name": "stderr",
     "output_type": "stream",
     "text": [
      "\n",
      "  0%|          | 0/21 [00:00<?, ?it/s]\u001b[A\n",
      "  5%|▍         | 1/21 [00:00<00:03,  6.10it/s]\u001b[A\n",
      " 10%|▉         | 2/21 [00:00<00:03,  5.90it/s]\u001b[A\n",
      " 14%|█▍        | 3/21 [00:00<00:03,  5.86it/s]\u001b[A\n",
      " 19%|█▉        | 4/21 [00:00<00:02,  5.88it/s]\u001b[A\n",
      " 24%|██▍       | 5/21 [00:00<00:02,  5.90it/s]\u001b[A\n",
      " 29%|██▊       | 6/21 [00:01<00:02,  5.87it/s]\u001b[A\n",
      " 33%|███▎      | 7/21 [00:01<00:02,  5.91it/s]\u001b[A\n",
      " 38%|███▊      | 8/21 [00:01<00:02,  5.91it/s]\u001b[A\n",
      " 43%|████▎     | 9/21 [00:01<00:02,  5.85it/s]\u001b[A\n",
      " 48%|████▊     | 10/21 [00:01<00:01,  5.94it/s]\u001b[A\n",
      " 52%|█████▏    | 11/21 [00:01<00:01,  5.91it/s]\u001b[A\n",
      " 57%|█████▋    | 12/21 [00:02<00:01,  5.93it/s]\u001b[A\n",
      " 62%|██████▏   | 13/21 [00:02<00:01,  5.88it/s]\u001b[A\n",
      " 67%|██████▋   | 14/21 [00:02<00:01,  5.87it/s]\u001b[A\n",
      " 71%|███████▏  | 15/21 [00:02<00:01,  5.86it/s]\u001b[A\n",
      " 76%|███████▌  | 16/21 [00:02<00:00,  5.90it/s]\u001b[A\n",
      " 81%|████████  | 17/21 [00:02<00:00,  5.92it/s]\u001b[A\n",
      " 86%|████████▌ | 18/21 [00:03<00:00,  5.91it/s]\u001b[A\n",
      " 90%|█████████ | 19/21 [00:03<00:00,  5.89it/s]\u001b[A\n",
      "100%|██████████| 21/21 [00:03<00:00,  6.11it/s]\u001b[A\n",
      " 70%|███████   | 7/10 [05:04<02:11, 43.99s/it]"
     ]
    },
    {
     "name": "stdout",
     "output_type": "stream",
     "text": [
      "Val   loss 1.1488909380776542 accuracy 0.8138996138996138\n",
      "\n",
      "Epoch 8/10\n",
      "----------\n"
     ]
    },
    {
     "name": "stderr",
     "output_type": "stream",
     "text": [
      "\n",
      "  0%|          | 0/90 [00:00<?, ?it/s]\u001b[A\n",
      "  1%|          | 1/90 [00:00<00:40,  2.22it/s]\u001b[A\n",
      "  2%|▏         | 2/90 [00:00<00:40,  2.20it/s]\u001b[A\n",
      "  3%|▎         | 3/90 [00:01<00:39,  2.20it/s]\u001b[A\n",
      "  4%|▍         | 4/90 [00:01<00:38,  2.22it/s]\u001b[A\n",
      "  6%|▌         | 5/90 [00:02<00:38,  2.21it/s]\u001b[A\n",
      "  7%|▋         | 6/90 [00:02<00:38,  2.20it/s]\u001b[A\n",
      "  8%|▊         | 7/90 [00:03<00:37,  2.20it/s]\u001b[A\n",
      "  9%|▉         | 8/90 [00:03<00:37,  2.20it/s]\u001b[A\n",
      " 10%|█         | 9/90 [00:04<00:37,  2.18it/s]\u001b[A\n",
      " 11%|█         | 10/90 [00:04<00:36,  2.21it/s]\u001b[A\n",
      " 12%|█▏        | 11/90 [00:05<00:35,  2.19it/s]\u001b[A\n",
      " 13%|█▎        | 12/90 [00:05<00:35,  2.20it/s]\u001b[A\n",
      " 14%|█▍        | 13/90 [00:05<00:34,  2.21it/s]\u001b[A\n",
      " 16%|█▌        | 14/90 [00:06<00:34,  2.20it/s]\u001b[A\n",
      " 17%|█▋        | 15/90 [00:06<00:33,  2.21it/s]\u001b[A\n",
      " 18%|█▊        | 16/90 [00:07<00:33,  2.20it/s]\u001b[A\n",
      " 19%|█▉        | 17/90 [00:07<00:33,  2.20it/s]\u001b[A\n",
      " 20%|██        | 18/90 [00:08<00:32,  2.20it/s]\u001b[A\n",
      " 21%|██        | 19/90 [00:08<00:32,  2.21it/s]\u001b[A\n",
      " 22%|██▏       | 20/90 [00:09<00:31,  2.19it/s]\u001b[A\n",
      " 23%|██▎       | 21/90 [00:09<00:31,  2.19it/s]\u001b[A\n",
      " 24%|██▍       | 22/90 [00:09<00:30,  2.20it/s]\u001b[A\n",
      " 26%|██▌       | 23/90 [00:10<00:30,  2.20it/s]\u001b[A\n",
      " 27%|██▋       | 24/90 [00:10<00:30,  2.20it/s]\u001b[A\n",
      " 28%|██▊       | 25/90 [00:11<00:29,  2.20it/s]\u001b[A\n",
      " 29%|██▉       | 26/90 [00:11<00:29,  2.20it/s]\u001b[A\n",
      " 30%|███       | 27/90 [00:12<00:28,  2.20it/s]\u001b[A\n",
      " 31%|███       | 28/90 [00:12<00:28,  2.19it/s]\u001b[A\n",
      " 32%|███▏      | 29/90 [00:13<00:27,  2.20it/s]\u001b[A\n",
      " 33%|███▎      | 30/90 [00:13<00:27,  2.20it/s]\u001b[A\n",
      " 34%|███▍      | 31/90 [00:14<00:26,  2.19it/s]\u001b[A\n",
      " 36%|███▌      | 32/90 [00:14<00:26,  2.20it/s]\u001b[A\n",
      " 37%|███▋      | 33/90 [00:15<00:25,  2.20it/s]\u001b[A\n",
      " 38%|███▊      | 34/90 [00:15<00:25,  2.20it/s]\u001b[A\n",
      " 39%|███▉      | 35/90 [00:15<00:24,  2.21it/s]\u001b[A\n",
      " 40%|████      | 36/90 [00:16<00:24,  2.21it/s]\u001b[A\n",
      " 41%|████      | 37/90 [00:16<00:24,  2.20it/s]\u001b[A\n",
      " 42%|████▏     | 38/90 [00:17<00:23,  2.21it/s]\u001b[A\n",
      " 43%|████▎     | 39/90 [00:17<00:23,  2.20it/s]\u001b[A\n",
      " 44%|████▍     | 40/90 [00:18<00:22,  2.19it/s]\u001b[A\n",
      " 46%|████▌     | 41/90 [00:18<00:22,  2.21it/s]\u001b[A\n",
      " 47%|████▋     | 42/90 [00:19<00:21,  2.20it/s]\u001b[A\n",
      " 48%|████▊     | 43/90 [00:19<00:21,  2.21it/s]\u001b[A\n",
      " 49%|████▉     | 44/90 [00:19<00:20,  2.20it/s]\u001b[A\n",
      " 50%|█████     | 45/90 [00:20<00:20,  2.20it/s]\u001b[A\n",
      " 51%|█████     | 46/90 [00:20<00:19,  2.20it/s]\u001b[A\n",
      " 52%|█████▏    | 47/90 [00:21<00:19,  2.21it/s]\u001b[A\n",
      " 53%|█████▎    | 48/90 [00:21<00:18,  2.21it/s]\u001b[A\n",
      " 54%|█████▍    | 49/90 [00:22<00:18,  2.21it/s]\u001b[A\n",
      " 56%|█████▌    | 50/90 [00:22<00:18,  2.21it/s]\u001b[A\n",
      " 57%|█████▋    | 51/90 [00:23<00:17,  2.21it/s]\u001b[A\n",
      " 58%|█████▊    | 52/90 [00:23<00:17,  2.21it/s]\u001b[A\n",
      " 59%|█████▉    | 53/90 [00:24<00:16,  2.22it/s]\u001b[A\n",
      " 60%|██████    | 54/90 [00:24<00:16,  2.22it/s]\u001b[A\n",
      " 61%|██████    | 55/90 [00:24<00:15,  2.21it/s]\u001b[A\n",
      " 62%|██████▏   | 56/90 [00:25<00:15,  2.22it/s]\u001b[A\n",
      " 63%|██████▎   | 57/90 [00:25<00:14,  2.21it/s]\u001b[A\n",
      " 64%|██████▍   | 58/90 [00:26<00:14,  2.20it/s]\u001b[A\n",
      " 66%|██████▌   | 59/90 [00:26<00:14,  2.20it/s]\u001b[A\n",
      " 67%|██████▋   | 60/90 [00:27<00:13,  2.20it/s]\u001b[A\n",
      " 68%|██████▊   | 61/90 [00:27<00:13,  2.19it/s]\u001b[A\n",
      " 69%|██████▉   | 62/90 [00:28<00:12,  2.20it/s]\u001b[A\n",
      " 70%|███████   | 63/90 [00:28<00:12,  2.19it/s]\u001b[A\n",
      " 71%|███████   | 64/90 [00:29<00:11,  2.19it/s]\u001b[A\n",
      " 72%|███████▏  | 65/90 [00:29<00:11,  2.21it/s]\u001b[A\n",
      " 73%|███████▎  | 66/90 [00:29<00:10,  2.22it/s]\u001b[A\n",
      " 74%|███████▍  | 67/90 [00:30<00:10,  2.21it/s]\u001b[A\n",
      " 76%|███████▌  | 68/90 [00:30<00:10,  2.20it/s]\u001b[A\n",
      " 77%|███████▋  | 69/90 [00:31<00:09,  2.20it/s]\u001b[A\n",
      " 78%|███████▊  | 70/90 [00:31<00:09,  2.19it/s]\u001b[A\n",
      " 79%|███████▉  | 71/90 [00:32<00:08,  2.19it/s]\u001b[A\n",
      " 80%|████████  | 72/90 [00:32<00:08,  2.19it/s]\u001b[A\n",
      " 81%|████████  | 73/90 [00:33<00:07,  2.20it/s]\u001b[A\n",
      " 82%|████████▏ | 74/90 [00:33<00:07,  2.20it/s]\u001b[A\n",
      " 83%|████████▎ | 75/90 [00:34<00:06,  2.20it/s]\u001b[A\n",
      " 84%|████████▍ | 76/90 [00:34<00:06,  2.20it/s]\u001b[A\n",
      " 86%|████████▌ | 77/90 [00:34<00:05,  2.19it/s]\u001b[A\n",
      " 87%|████████▋ | 78/90 [00:35<00:05,  2.19it/s]\u001b[A\n",
      " 88%|████████▊ | 79/90 [00:35<00:05,  2.18it/s]\u001b[A\n",
      " 89%|████████▉ | 80/90 [00:36<00:04,  2.19it/s]\u001b[A\n",
      " 90%|█████████ | 81/90 [00:36<00:04,  2.19it/s]\u001b[A\n",
      " 91%|█████████ | 82/90 [00:37<00:03,  2.19it/s]\u001b[A\n",
      " 92%|█████████▏| 83/90 [00:37<00:03,  2.19it/s]\u001b[A\n",
      " 93%|█████████▎| 84/90 [00:38<00:02,  2.18it/s]\u001b[A\n",
      " 94%|█████████▍| 85/90 [00:38<00:02,  2.18it/s]\u001b[A\n",
      " 96%|█████████▌| 86/90 [00:39<00:01,  2.19it/s]\u001b[A\n",
      " 97%|█████████▋| 87/90 [00:39<00:01,  2.20it/s]\u001b[A\n",
      " 98%|█████████▊| 88/90 [00:40<00:00,  2.19it/s]\u001b[A\n",
      " 99%|█████████▉| 89/90 [00:40<00:00,  2.20it/s]\u001b[A\n",
      "100%|██████████| 90/90 [00:40<00:00,  2.20it/s]\u001b[A\n"
     ]
    },
    {
     "name": "stdout",
     "output_type": "stream",
     "text": [
      "Train loss 0.006404234240795227 accuracy 0.9977403094037894\n"
     ]
    },
    {
     "name": "stderr",
     "output_type": "stream",
     "text": [
      "\n",
      "  0%|          | 0/21 [00:00<?, ?it/s]\u001b[A\n",
      "  5%|▍         | 1/21 [00:00<00:03,  5.96it/s]\u001b[A\n",
      " 10%|▉         | 2/21 [00:00<00:03,  5.65it/s]\u001b[A\n",
      " 14%|█▍        | 3/21 [00:00<00:03,  5.67it/s]\u001b[A\n",
      " 19%|█▉        | 4/21 [00:00<00:02,  5.74it/s]\u001b[A\n",
      " 24%|██▍       | 5/21 [00:00<00:02,  5.80it/s]\u001b[A\n",
      " 29%|██▊       | 6/21 [00:01<00:02,  5.81it/s]\u001b[A\n",
      " 33%|███▎      | 7/21 [00:01<00:02,  5.84it/s]\u001b[A\n",
      " 38%|███▊      | 8/21 [00:01<00:02,  5.83it/s]\u001b[A\n",
      " 43%|████▎     | 9/21 [00:01<00:02,  5.89it/s]\u001b[A\n",
      " 48%|████▊     | 10/21 [00:01<00:01,  5.90it/s]\u001b[A\n",
      " 52%|█████▏    | 11/21 [00:01<00:01,  5.86it/s]\u001b[A\n",
      " 57%|█████▋    | 12/21 [00:02<00:01,  5.88it/s]\u001b[A\n",
      " 62%|██████▏   | 13/21 [00:02<00:01,  5.84it/s]\u001b[A\n",
      " 67%|██████▋   | 14/21 [00:02<00:01,  5.84it/s]\u001b[A\n",
      " 71%|███████▏  | 15/21 [00:02<00:01,  5.90it/s]\u001b[A\n",
      " 76%|███████▌  | 16/21 [00:02<00:00,  5.90it/s]\u001b[A\n",
      " 81%|████████  | 17/21 [00:02<00:00,  5.85it/s]\u001b[A\n",
      " 86%|████████▌ | 18/21 [00:03<00:00,  5.80it/s]\u001b[A\n",
      " 90%|█████████ | 19/21 [00:03<00:00,  5.82it/s]\u001b[A\n",
      "100%|██████████| 21/21 [00:03<00:00,  6.04it/s]\u001b[A\n",
      " 80%|████████  | 8/10 [05:49<01:28, 44.11s/it]"
     ]
    },
    {
     "name": "stdout",
     "output_type": "stream",
     "text": [
      "Val   loss 1.2835234942890348 accuracy 0.8084942084942085\n",
      "\n",
      "Epoch 9/10\n",
      "----------\n"
     ]
    },
    {
     "name": "stderr",
     "output_type": "stream",
     "text": [
      "\n",
      "  0%|          | 0/90 [00:00<?, ?it/s]\u001b[A\n",
      "  1%|          | 1/90 [00:00<00:40,  2.22it/s]\u001b[A\n",
      "  2%|▏         | 2/90 [00:00<00:39,  2.21it/s]\u001b[A\n",
      "  3%|▎         | 3/90 [00:01<00:39,  2.19it/s]\u001b[A\n",
      "  4%|▍         | 4/90 [00:01<00:39,  2.19it/s]\u001b[A\n",
      "  6%|▌         | 5/90 [00:02<00:38,  2.20it/s]\u001b[A\n",
      "  7%|▋         | 6/90 [00:02<00:38,  2.19it/s]\u001b[A\n",
      "  8%|▊         | 7/90 [00:03<00:37,  2.21it/s]\u001b[A\n",
      "  9%|▉         | 8/90 [00:03<00:37,  2.21it/s]\u001b[A\n",
      " 10%|█         | 9/90 [00:04<00:36,  2.21it/s]\u001b[A\n",
      " 11%|█         | 10/90 [00:04<00:36,  2.21it/s]\u001b[A\n",
      " 12%|█▏        | 11/90 [00:04<00:35,  2.21it/s]\u001b[A\n",
      " 13%|█▎        | 12/90 [00:05<00:35,  2.22it/s]\u001b[A\n",
      " 14%|█▍        | 13/90 [00:05<00:34,  2.22it/s]\u001b[A\n",
      " 16%|█▌        | 14/90 [00:06<00:34,  2.21it/s]\u001b[A\n",
      " 17%|█▋        | 15/90 [00:06<00:33,  2.23it/s]\u001b[A\n",
      " 18%|█▊        | 16/90 [00:07<00:33,  2.23it/s]\u001b[A\n",
      " 19%|█▉        | 17/90 [00:07<00:32,  2.22it/s]\u001b[A\n",
      " 20%|██        | 18/90 [00:08<00:32,  2.22it/s]\u001b[A\n",
      " 21%|██        | 19/90 [00:08<00:31,  2.22it/s]\u001b[A\n",
      " 22%|██▏       | 20/90 [00:09<00:31,  2.22it/s]\u001b[A\n",
      " 23%|██▎       | 21/90 [00:09<00:31,  2.21it/s]\u001b[A\n",
      " 24%|██▍       | 22/90 [00:09<00:30,  2.20it/s]\u001b[A\n",
      " 26%|██▌       | 23/90 [00:10<00:30,  2.20it/s]\u001b[A\n",
      " 27%|██▋       | 24/90 [00:10<00:30,  2.20it/s]\u001b[A\n",
      " 28%|██▊       | 25/90 [00:11<00:29,  2.20it/s]\u001b[A\n",
      " 29%|██▉       | 26/90 [00:11<00:28,  2.21it/s]\u001b[A\n",
      " 30%|███       | 27/90 [00:12<00:28,  2.20it/s]\u001b[A\n",
      " 31%|███       | 28/90 [00:12<00:28,  2.20it/s]\u001b[A\n",
      " 32%|███▏      | 29/90 [00:13<00:27,  2.20it/s]\u001b[A\n",
      " 33%|███▎      | 30/90 [00:13<00:27,  2.20it/s]\u001b[A\n",
      " 34%|███▍      | 31/90 [00:14<00:26,  2.20it/s]\u001b[A\n",
      " 36%|███▌      | 32/90 [00:14<00:26,  2.20it/s]\u001b[A\n",
      " 37%|███▋      | 33/90 [00:14<00:25,  2.21it/s]\u001b[A\n",
      " 38%|███▊      | 34/90 [00:15<00:25,  2.20it/s]\u001b[A\n",
      " 39%|███▉      | 35/90 [00:15<00:25,  2.20it/s]\u001b[A\n",
      " 40%|████      | 36/90 [00:16<00:24,  2.19it/s]\u001b[A\n",
      " 41%|████      | 37/90 [00:16<00:24,  2.21it/s]\u001b[A\n",
      " 42%|████▏     | 38/90 [00:17<00:23,  2.21it/s]\u001b[A\n",
      " 43%|████▎     | 39/90 [00:17<00:23,  2.21it/s]\u001b[A\n",
      " 44%|████▍     | 40/90 [00:18<00:22,  2.20it/s]\u001b[A\n",
      " 46%|████▌     | 41/90 [00:18<00:22,  2.21it/s]\u001b[A\n",
      " 47%|████▋     | 42/90 [00:19<00:21,  2.20it/s]\u001b[A\n",
      " 48%|████▊     | 43/90 [00:19<00:21,  2.20it/s]\u001b[A\n",
      " 49%|████▉     | 44/90 [00:19<00:21,  2.19it/s]\u001b[A\n",
      " 50%|█████     | 45/90 [00:20<00:20,  2.19it/s]\u001b[A\n",
      " 51%|█████     | 46/90 [00:20<00:20,  2.19it/s]\u001b[A\n",
      " 52%|█████▏    | 47/90 [00:21<00:19,  2.18it/s]\u001b[A\n",
      " 53%|█████▎    | 48/90 [00:21<00:19,  2.19it/s]\u001b[A\n",
      " 54%|█████▍    | 49/90 [00:22<00:18,  2.19it/s]\u001b[A\n",
      " 56%|█████▌    | 50/90 [00:22<00:18,  2.19it/s]\u001b[A\n",
      " 57%|█████▋    | 51/90 [00:23<00:17,  2.19it/s]\u001b[A\n",
      " 58%|█████▊    | 52/90 [00:23<00:17,  2.19it/s]\u001b[A\n",
      " 59%|█████▉    | 53/90 [00:24<00:16,  2.19it/s]\u001b[A\n",
      " 60%|██████    | 54/90 [00:24<00:16,  2.18it/s]\u001b[A\n",
      " 61%|██████    | 55/90 [00:24<00:16,  2.18it/s]\u001b[A\n",
      " 62%|██████▏   | 56/90 [00:25<00:15,  2.19it/s]\u001b[A\n",
      " 63%|██████▎   | 57/90 [00:25<00:15,  2.19it/s]\u001b[A\n",
      " 64%|██████▍   | 58/90 [00:26<00:14,  2.18it/s]\u001b[A\n",
      " 66%|██████▌   | 59/90 [00:26<00:14,  2.19it/s]\u001b[A\n",
      " 67%|██████▋   | 60/90 [00:27<00:13,  2.19it/s]\u001b[A\n",
      " 68%|██████▊   | 61/90 [00:27<00:13,  2.18it/s]\u001b[A\n",
      " 69%|██████▉   | 62/90 [00:28<00:12,  2.19it/s]\u001b[A\n",
      " 70%|███████   | 63/90 [00:28<00:12,  2.18it/s]\u001b[A\n",
      " 71%|███████   | 64/90 [00:29<00:11,  2.18it/s]\u001b[A\n",
      " 72%|███████▏  | 65/90 [00:29<00:11,  2.18it/s]\u001b[A\n",
      " 73%|███████▎  | 66/90 [00:30<00:10,  2.18it/s]\u001b[A\n",
      " 74%|███████▍  | 67/90 [00:30<00:10,  2.19it/s]\u001b[A\n",
      " 76%|███████▌  | 68/90 [00:30<00:10,  2.19it/s]\u001b[A\n",
      " 77%|███████▋  | 69/90 [00:31<00:09,  2.18it/s]\u001b[A\n",
      " 78%|███████▊  | 70/90 [00:31<00:09,  2.18it/s]\u001b[A\n",
      " 79%|███████▉  | 71/90 [00:32<00:08,  2.19it/s]\u001b[A\n",
      " 80%|████████  | 72/90 [00:32<00:08,  2.19it/s]\u001b[A\n",
      " 81%|████████  | 73/90 [00:33<00:07,  2.19it/s]\u001b[A\n",
      " 82%|████████▏ | 74/90 [00:33<00:07,  2.19it/s]\u001b[A\n",
      " 83%|████████▎ | 75/90 [00:34<00:06,  2.19it/s]\u001b[A\n",
      " 84%|████████▍ | 76/90 [00:34<00:06,  2.20it/s]\u001b[A\n",
      " 86%|████████▌ | 77/90 [00:35<00:05,  2.20it/s]\u001b[A\n",
      " 87%|████████▋ | 78/90 [00:35<00:05,  2.20it/s]\u001b[A\n",
      " 88%|████████▊ | 79/90 [00:35<00:05,  2.19it/s]\u001b[A\n",
      " 89%|████████▉ | 80/90 [00:36<00:04,  2.19it/s]\u001b[A\n",
      " 90%|█████████ | 81/90 [00:36<00:04,  2.19it/s]\u001b[A\n",
      " 91%|█████████ | 82/90 [00:37<00:03,  2.19it/s]\u001b[A\n",
      " 92%|█████████▏| 83/90 [00:37<00:03,  2.19it/s]\u001b[A\n",
      " 93%|█████████▎| 84/90 [00:38<00:02,  2.19it/s]\u001b[A\n",
      " 94%|█████████▍| 85/90 [00:38<00:02,  2.18it/s]\u001b[A\n",
      " 96%|█████████▌| 86/90 [00:39<00:01,  2.20it/s]\u001b[A\n",
      " 97%|█████████▋| 87/90 [00:39<00:01,  2.19it/s]\u001b[A\n",
      " 98%|█████████▊| 88/90 [00:40<00:00,  2.19it/s]\u001b[A\n",
      " 99%|█████████▉| 89/90 [00:40<00:00,  2.20it/s]\u001b[A\n",
      "100%|██████████| 90/90 [00:40<00:00,  2.20it/s]\u001b[A\n"
     ]
    },
    {
     "name": "stdout",
     "output_type": "stream",
     "text": [
      "Train loss 0.007248519952635333 accuracy 0.998435598818008\n"
     ]
    },
    {
     "name": "stderr",
     "output_type": "stream",
     "text": [
      "\n",
      "  0%|          | 0/21 [00:00<?, ?it/s]\u001b[A\n",
      "  5%|▍         | 1/21 [00:00<00:03,  5.98it/s]\u001b[A\n",
      " 10%|▉         | 2/21 [00:00<00:03,  5.83it/s]\u001b[A\n",
      " 14%|█▍        | 3/21 [00:00<00:03,  5.74it/s]\u001b[A\n",
      " 19%|█▉        | 4/21 [00:00<00:02,  5.75it/s]\u001b[A\n",
      " 24%|██▍       | 5/21 [00:00<00:02,  5.81it/s]\u001b[A\n",
      " 29%|██▊       | 6/21 [00:01<00:02,  5.84it/s]\u001b[A\n",
      " 33%|███▎      | 7/21 [00:01<00:02,  5.88it/s]\u001b[A\n",
      " 38%|███▊      | 8/21 [00:01<00:02,  5.87it/s]\u001b[A\n",
      " 43%|████▎     | 9/21 [00:01<00:02,  5.90it/s]\u001b[A\n",
      " 48%|████▊     | 10/21 [00:01<00:01,  5.90it/s]\u001b[A\n",
      " 52%|█████▏    | 11/21 [00:01<00:01,  5.91it/s]\u001b[A\n",
      " 57%|█████▋    | 12/21 [00:02<00:01,  5.91it/s]\u001b[A\n",
      " 62%|██████▏   | 13/21 [00:02<00:01,  5.87it/s]\u001b[A\n",
      " 67%|██████▋   | 14/21 [00:02<00:01,  5.87it/s]\u001b[A\n",
      " 71%|███████▏  | 15/21 [00:02<00:01,  5.85it/s]\u001b[A\n",
      " 76%|███████▌  | 16/21 [00:02<00:00,  5.89it/s]\u001b[A\n",
      " 81%|████████  | 17/21 [00:02<00:00,  5.86it/s]\u001b[A\n",
      " 86%|████████▌ | 18/21 [00:03<00:00,  5.84it/s]\u001b[A\n",
      " 90%|█████████ | 19/21 [00:03<00:00,  5.85it/s]\u001b[A\n",
      "100%|██████████| 21/21 [00:03<00:00,  6.06it/s]\u001b[A\n",
      " 90%|█████████ | 9/10 [06:33<00:44, 44.20s/it]"
     ]
    },
    {
     "name": "stdout",
     "output_type": "stream",
     "text": [
      "Val   loss 1.2654847900072734 accuracy 0.8123552123552124\n",
      "\n",
      "Epoch 10/10\n",
      "----------\n"
     ]
    },
    {
     "name": "stderr",
     "output_type": "stream",
     "text": [
      "\n",
      "  0%|          | 0/90 [00:00<?, ?it/s]\u001b[A\n",
      "  1%|          | 1/90 [00:00<00:39,  2.23it/s]\u001b[A\n",
      "  2%|▏         | 2/90 [00:00<00:39,  2.21it/s]\u001b[A\n",
      "  3%|▎         | 3/90 [00:01<00:39,  2.19it/s]\u001b[A\n",
      "  4%|▍         | 4/90 [00:01<00:38,  2.21it/s]\u001b[A\n",
      "  6%|▌         | 5/90 [00:02<00:38,  2.19it/s]\u001b[A\n",
      "  7%|▋         | 6/90 [00:02<00:38,  2.19it/s]\u001b[A\n",
      "  8%|▊         | 7/90 [00:03<00:37,  2.19it/s]\u001b[A\n",
      "  9%|▉         | 8/90 [00:03<00:37,  2.19it/s]\u001b[A\n",
      " 10%|█         | 9/90 [00:04<00:36,  2.20it/s]\u001b[A\n",
      " 11%|█         | 10/90 [00:04<00:36,  2.19it/s]\u001b[A\n",
      " 12%|█▏        | 11/90 [00:05<00:36,  2.18it/s]\u001b[A\n",
      " 13%|█▎        | 12/90 [00:05<00:35,  2.19it/s]\u001b[A\n",
      " 14%|█▍        | 13/90 [00:05<00:35,  2.19it/s]\u001b[A\n",
      " 16%|█▌        | 14/90 [00:06<00:34,  2.20it/s]\u001b[A\n",
      " 17%|█▋        | 15/90 [00:06<00:34,  2.20it/s]\u001b[A\n",
      " 18%|█▊        | 16/90 [00:07<00:33,  2.19it/s]\u001b[A\n",
      " 19%|█▉        | 17/90 [00:07<00:33,  2.20it/s]\u001b[A\n",
      " 20%|██        | 18/90 [00:08<00:32,  2.21it/s]\u001b[A\n",
      " 21%|██        | 19/90 [00:08<00:32,  2.20it/s]\u001b[A\n",
      " 22%|██▏       | 20/90 [00:09<00:31,  2.20it/s]\u001b[A\n",
      " 23%|██▎       | 21/90 [00:09<00:31,  2.20it/s]\u001b[A\n",
      " 24%|██▍       | 22/90 [00:10<00:30,  2.20it/s]\u001b[A\n",
      " 26%|██▌       | 23/90 [00:10<00:30,  2.19it/s]\u001b[A\n",
      " 27%|██▋       | 24/90 [00:10<00:30,  2.19it/s]\u001b[A\n",
      " 28%|██▊       | 25/90 [00:11<00:29,  2.19it/s]\u001b[A\n",
      " 29%|██▉       | 26/90 [00:11<00:29,  2.19it/s]\u001b[A\n",
      " 30%|███       | 27/90 [00:12<00:28,  2.19it/s]\u001b[A\n",
      " 31%|███       | 28/90 [00:12<00:28,  2.19it/s]\u001b[A\n",
      " 32%|███▏      | 29/90 [00:13<00:27,  2.19it/s]\u001b[A\n",
      " 33%|███▎      | 30/90 [00:13<00:27,  2.19it/s]\u001b[A\n",
      " 34%|███▍      | 31/90 [00:14<00:26,  2.19it/s]\u001b[A\n",
      " 36%|███▌      | 32/90 [00:14<00:26,  2.18it/s]\u001b[A\n",
      " 37%|███▋      | 33/90 [00:15<00:26,  2.19it/s]\u001b[A\n",
      " 38%|███▊      | 34/90 [00:15<00:25,  2.18it/s]\u001b[A\n",
      " 39%|███▉      | 35/90 [00:15<00:25,  2.19it/s]\u001b[A\n",
      " 40%|████      | 36/90 [00:16<00:24,  2.19it/s]\u001b[A\n",
      " 41%|████      | 37/90 [00:16<00:24,  2.19it/s]\u001b[A\n",
      " 42%|████▏     | 38/90 [00:17<00:23,  2.20it/s]\u001b[A\n",
      " 43%|████▎     | 39/90 [00:17<00:23,  2.20it/s]\u001b[A\n",
      " 44%|████▍     | 40/90 [00:18<00:22,  2.19it/s]\u001b[A\n",
      " 46%|████▌     | 41/90 [00:18<00:22,  2.20it/s]\u001b[A\n",
      " 47%|████▋     | 42/90 [00:19<00:21,  2.19it/s]\u001b[A\n",
      " 48%|████▊     | 43/90 [00:19<00:21,  2.18it/s]\u001b[A\n",
      " 49%|████▉     | 44/90 [00:20<00:21,  2.19it/s]\u001b[A\n",
      " 50%|█████     | 45/90 [00:20<00:20,  2.19it/s]\u001b[A\n",
      " 51%|█████     | 46/90 [00:20<00:20,  2.18it/s]\u001b[A\n",
      " 52%|█████▏    | 47/90 [00:21<00:19,  2.18it/s]\u001b[A\n",
      " 53%|█████▎    | 48/90 [00:21<00:19,  2.19it/s]\u001b[A\n",
      " 54%|█████▍    | 49/90 [00:22<00:18,  2.19it/s]\u001b[A\n",
      " 56%|█████▌    | 50/90 [00:22<00:18,  2.19it/s]\u001b[A\n",
      " 57%|█████▋    | 51/90 [00:23<00:17,  2.20it/s]\u001b[A\n",
      " 58%|█████▊    | 52/90 [00:23<00:17,  2.20it/s]\u001b[A\n",
      " 59%|█████▉    | 53/90 [00:24<00:16,  2.21it/s]\u001b[A\n",
      " 60%|██████    | 54/90 [00:24<00:16,  2.22it/s]\u001b[A\n",
      " 61%|██████    | 55/90 [00:25<00:15,  2.19it/s]\u001b[A\n",
      " 62%|██████▏   | 56/90 [00:25<00:15,  2.20it/s]\u001b[A\n",
      " 63%|██████▎   | 57/90 [00:25<00:15,  2.19it/s]\u001b[A\n",
      " 64%|██████▍   | 58/90 [00:26<00:14,  2.18it/s]\u001b[A\n",
      " 66%|██████▌   | 59/90 [00:26<00:14,  2.19it/s]\u001b[A\n",
      " 67%|██████▋   | 60/90 [00:27<00:13,  2.19it/s]\u001b[A\n",
      " 68%|██████▊   | 61/90 [00:27<00:13,  2.20it/s]\u001b[A\n",
      " 69%|██████▉   | 62/90 [00:28<00:12,  2.20it/s]\u001b[A\n",
      " 70%|███████   | 63/90 [00:28<00:12,  2.19it/s]\u001b[A\n",
      " 71%|███████   | 64/90 [00:29<00:11,  2.18it/s]\u001b[A\n",
      " 72%|███████▏  | 65/90 [00:29<00:11,  2.19it/s]\u001b[A\n",
      " 73%|███████▎  | 66/90 [00:30<00:10,  2.19it/s]\u001b[A\n",
      " 74%|███████▍  | 67/90 [00:30<00:10,  2.20it/s]\u001b[A\n",
      " 76%|███████▌  | 68/90 [00:31<00:10,  2.19it/s]\u001b[A\n",
      " 77%|███████▋  | 69/90 [00:31<00:09,  2.19it/s]\u001b[A\n",
      " 78%|███████▊  | 70/90 [00:31<00:09,  2.18it/s]\u001b[A\n",
      " 79%|███████▉  | 71/90 [00:32<00:08,  2.18it/s]\u001b[A\n",
      " 80%|████████  | 72/90 [00:32<00:08,  2.18it/s]\u001b[A\n",
      " 81%|████████  | 73/90 [00:33<00:07,  2.19it/s]\u001b[A\n",
      " 82%|████████▏ | 74/90 [00:33<00:07,  2.19it/s]\u001b[A\n",
      " 83%|████████▎ | 75/90 [00:34<00:06,  2.19it/s]\u001b[A\n",
      " 84%|████████▍ | 76/90 [00:34<00:06,  2.19it/s]\u001b[A\n",
      " 86%|████████▌ | 77/90 [00:35<00:05,  2.20it/s]\u001b[A\n",
      " 87%|████████▋ | 78/90 [00:35<00:05,  2.20it/s]\u001b[A\n",
      " 88%|████████▊ | 79/90 [00:36<00:05,  2.19it/s]\u001b[A\n",
      " 89%|████████▉ | 80/90 [00:36<00:04,  2.20it/s]\u001b[A\n",
      " 90%|█████████ | 81/90 [00:36<00:04,  2.19it/s]\u001b[A\n",
      " 91%|█████████ | 82/90 [00:37<00:03,  2.18it/s]\u001b[A\n",
      " 92%|█████████▏| 83/90 [00:37<00:03,  2.19it/s]\u001b[A\n",
      " 93%|█████████▎| 84/90 [00:38<00:02,  2.19it/s]\u001b[A\n",
      " 94%|█████████▍| 85/90 [00:38<00:02,  2.19it/s]\u001b[A\n",
      " 96%|█████████▌| 86/90 [00:39<00:01,  2.20it/s]\u001b[A\n",
      " 97%|█████████▋| 87/90 [00:39<00:01,  2.19it/s]\u001b[A\n",
      " 98%|█████████▊| 88/90 [00:40<00:00,  2.19it/s]\u001b[A\n",
      " 99%|█████████▉| 89/90 [00:40<00:00,  2.20it/s]\u001b[A\n",
      "100%|██████████| 90/90 [00:41<00:00,  2.19it/s]\u001b[A\n"
     ]
    },
    {
     "name": "stdout",
     "output_type": "stream",
     "text": [
      "Train loss 0.0033717242533586817 accuracy 0.9989570658786721\n"
     ]
    },
    {
     "name": "stderr",
     "output_type": "stream",
     "text": [
      "\n",
      "  0%|          | 0/21 [00:00<?, ?it/s]\u001b[A\n",
      "  5%|▍         | 1/21 [00:00<00:03,  5.96it/s]\u001b[A\n",
      " 10%|▉         | 2/21 [00:00<00:03,  5.83it/s]\u001b[A\n",
      " 14%|█▍        | 3/21 [00:00<00:03,  5.75it/s]\u001b[A\n",
      " 19%|█▉        | 4/21 [00:00<00:02,  5.76it/s]\u001b[A\n",
      " 24%|██▍       | 5/21 [00:00<00:02,  5.82it/s]\u001b[A\n",
      " 29%|██▊       | 6/21 [00:01<00:02,  5.88it/s]\u001b[A\n",
      " 33%|███▎      | 7/21 [00:01<00:02,  5.87it/s]\u001b[A\n",
      " 38%|███▊      | 8/21 [00:01<00:02,  5.83it/s]\u001b[A\n",
      " 43%|████▎     | 9/21 [00:01<00:02,  5.82it/s]\u001b[A\n",
      " 48%|████▊     | 10/21 [00:01<00:01,  5.80it/s]\u001b[A\n",
      " 52%|█████▏    | 11/21 [00:01<00:01,  5.81it/s]\u001b[A\n",
      " 57%|█████▋    | 12/21 [00:02<00:01,  5.83it/s]\u001b[A\n",
      " 62%|██████▏   | 13/21 [00:02<00:01,  5.89it/s]\u001b[A\n",
      " 67%|██████▋   | 14/21 [00:02<00:01,  5.83it/s]\u001b[A\n",
      " 71%|███████▏  | 15/21 [00:02<00:01,  5.79it/s]\u001b[A\n",
      " 76%|███████▌  | 16/21 [00:02<00:00,  5.80it/s]\u001b[A\n",
      " 81%|████████  | 17/21 [00:02<00:00,  5.83it/s]\u001b[A\n",
      " 86%|████████▌ | 18/21 [00:03<00:00,  5.84it/s]\u001b[A\n",
      " 90%|█████████ | 19/21 [00:03<00:00,  5.84it/s]\u001b[A\n",
      "100%|██████████| 21/21 [00:03<00:00,  6.05it/s]\u001b[A\n",
      "100%|██████████| 10/10 [07:18<00:00, 43.81s/it]"
     ]
    },
    {
     "name": "stdout",
     "output_type": "stream",
     "text": [
      "Val   loss 1.2612640403565907 accuracy 0.8131274131274131\n",
      "\n",
      "CPU times: user 7min 13s, sys: 6.17 s, total: 7min 19s\n",
      "Wall time: 7min 18s\n"
     ]
    },
    {
     "name": "stderr",
     "output_type": "stream",
     "text": [
      "\n"
     ]
    }
   ],
   "source": [
    "%%time\n",
    "\n",
    "history = defaultdict(list)\n",
    "best_accuracy = 0\n",
    "\n",
    "for epoch in tqdm(range(EPOCHS)):\n",
    "    \n",
    "    # Show details \n",
    "    print(f\"Epoch {epoch + 1}/{EPOCHS}\")\n",
    "    print(\"-\" * 10)\n",
    "    \n",
    "    train_acc, train_loss = train_epoch(\n",
    "        model,\n",
    "        train_data_loader,\n",
    "        loss_fn,\n",
    "        optimizer,\n",
    "        device,\n",
    "        scheduler,\n",
    "        len(df_train)\n",
    "    )\n",
    "    \n",
    "    print(f\"Train loss {train_loss} accuracy {train_acc}\")\n",
    "    \n",
    "    # Get model performance (accuracy and loss)\n",
    "    val_acc, val_loss = eval_model(\n",
    "        model,\n",
    "        val_data_loader,\n",
    "        loss_fn,\n",
    "        device,\n",
    "        len(df_val)\n",
    "    )\n",
    "    \n",
    "    print(f\"Val   loss {val_loss} accuracy {val_acc}\")\n",
    "    print()\n",
    "    \n",
    "    history['train_acc'].append(train_acc)\n",
    "    history['train_loss'].append(train_loss)\n",
    "    history['val_acc'].append(val_acc)\n",
    "    history['val_loss'].append(val_loss)\n",
    "    \n",
    "    # If we beat prev performance\n",
    "    if val_acc > best_accuracy:\n",
    "        torch.save(model.state_dict(), 'best_model_state.bin')\n",
    "        best_accuracy = val_acc"
   ]
  },
  {
   "cell_type": "code",
   "execution_count": 61,
   "metadata": {},
   "outputs": [
    {
     "data": {
      "text/plain": [
       "device(type='cuda')"
      ]
     },
     "execution_count": 61,
     "metadata": {},
     "output_type": "execute_result"
    }
   ],
   "source": [
    "device"
   ]
  },
  {
   "cell_type": "markdown",
   "metadata": {
    "id": "h197cMl1Hve2",
    "papermill": {
     "duration": 0.058532,
     "end_time": "2020-12-24T11:16:59.433904",
     "exception": false,
     "start_time": "2020-12-24T11:16:59.375372",
     "status": "completed"
    },
    "tags": []
   },
   "source": [
    "The above took a lot of time but it's finally working. Now, we can plot the training and validation accuracy."
   ]
  },
  {
   "cell_type": "code",
   "execution_count": 62,
   "metadata": {
    "execution": {
     "iopub.execute_input": "2020-12-24T11:16:59.555899Z",
     "iopub.status.busy": "2020-12-24T11:16:59.555051Z",
     "iopub.status.idle": "2020-12-24T11:16:59.902389Z",
     "shell.execute_reply": "2020-12-24T11:16:59.902868Z"
    },
    "id": "mkOsxRIcHgKt",
    "outputId": "11116244-c94e-43de-f9c5-58dff0c7cc75",
    "papermill": {
     "duration": 0.41203,
     "end_time": "2020-12-24T11:16:59.903017",
     "exception": false,
     "start_time": "2020-12-24T11:16:59.490987",
     "status": "completed"
    },
    "tags": []
   },
   "outputs": [
    {
     "data": {
      "image/png": "[encoded data removed]",
      "text/plain": [
       "<Figure size 864x576 with 1 Axes>"
      ]
     },
     "metadata": {
      "image/png": {
       "height": 506,
       "width": 732
      }
     },
     "output_type": "display_data"
    }
   ],
   "source": [
    "# Plot training and validation accuracy\n",
    "plt.plot(history['train_acc'], label='train accuracy')\n",
    "plt.plot(history['val_acc'], label='validation accuracy')\n",
    "\n",
    "# Graph chars\n",
    "plt.title('Training history')\n",
    "plt.ylabel('Accuracy')\n",
    "plt.xlabel('Epoch')\n",
    "plt.legend()\n",
    "plt.ylim([0, 1]);"
   ]
  },
  {
   "cell_type": "markdown",
   "metadata": {
    "id": "XJ-hTsMQITml",
    "papermill": {
     "duration": 0.059469,
     "end_time": "2020-12-24T11:17:00.022231",
     "exception": false,
     "start_time": "2020-12-24T11:16:59.962762",
     "status": "completed"
    },
    "tags": []
   },
   "source": [
    "### Model Evaluation"
   ]
  },
  {
   "cell_type": "code",
   "execution_count": 63,
   "metadata": {
    "execution": {
     "iopub.execute_input": "2020-12-24T11:17:00.171616Z",
     "iopub.status.busy": "2020-12-24T11:17:00.170790Z",
     "iopub.status.idle": "2020-12-24T11:17:08.785019Z",
     "shell.execute_reply": "2020-12-24T11:17:08.784048Z"
    },
    "id": "q53eNoW2IS7C",
    "outputId": "62b82769-6859-49b8-89c3-3fad47b76763",
    "papermill": {
     "duration": 8.703442,
     "end_time": "2020-12-24T11:17:08.785131",
     "exception": false,
     "start_time": "2020-12-24T11:17:00.081689",
     "status": "completed"
    },
    "tags": []
   },
   "outputs": [
    {
     "name": "stderr",
     "output_type": "stream",
     "text": [
      "100%|██████████| 3/3 [00:00<00:00,  8.39it/s]\n"
     ]
    },
    {
     "data": {
      "text/plain": [
       "0.8333333333333333"
      ]
     },
     "execution_count": 63,
     "metadata": {},
     "output_type": "execute_result"
    }
   ],
   "source": [
    "test_acc, _ = eval_model(\n",
    "  model,\n",
    "  test_data_loader,\n",
    "  loss_fn,\n",
    "  device,\n",
    "  len(df_test)\n",
    ")\n",
    "\n",
    "test_acc.item()"
   ]
  },
  {
   "cell_type": "markdown",
   "metadata": {
    "id": "3kjQ5tI8IbIl",
    "papermill": {
     "duration": 0.059565,
     "end_time": "2020-12-24T11:17:08.904723",
     "exception": false,
     "start_time": "2020-12-24T11:17:08.845158",
     "status": "completed"
    },
    "tags": []
   },
   "source": [
    "Define a helper function to get predictions from our models. This is similar to the evaluation function, except that we’re storing the text of the reviews and the predicted probabilities"
   ]
  },
  {
   "cell_type": "code",
   "execution_count": 64,
   "metadata": {
    "execution": {
     "iopub.execute_input": "2020-12-24T11:17:09.037013Z",
     "iopub.status.busy": "2020-12-24T11:17:09.035178Z",
     "iopub.status.idle": "2020-12-24T11:17:09.037685Z",
     "shell.execute_reply": "2020-12-24T11:17:09.038159Z"
    },
    "id": "C2gJhrUHIfsm",
    "papermill": {
     "duration": 0.073527,
     "end_time": "2020-12-24T11:17:09.038280",
     "exception": false,
     "start_time": "2020-12-24T11:17:08.964753",
     "status": "completed"
    },
    "tags": []
   },
   "outputs": [],
   "source": [
    "def get_predictions(model, data_loader):\n",
    "    model = model.eval()\n",
    "\n",
    "    review_texts = []\n",
    "    predictions = []\n",
    "    prediction_probs = []\n",
    "    real_values = []\n",
    "\n",
    "    with torch.no_grad():\n",
    "        for d in data_loader:\n",
    "            texts = d[\"review_text\"]\n",
    "            input_ids = d[\"input_ids\"].to(device)\n",
    "            attention_mask = d[\"attention_mask\"].to(device)\n",
    "            targets = d[\"targets\"].to(device)\n",
    "\n",
    "            # Get outouts\n",
    "            outputs = model(\n",
    "                input_ids=input_ids,\n",
    "                attention_mask=attention_mask\n",
    "            )\n",
    "            _, preds = torch.max(outputs, dim=1)\n",
    "\n",
    "            review_texts.extend(texts)\n",
    "            predictions.extend(preds)\n",
    "            prediction_probs.extend(outputs)\n",
    "            real_values.extend(targets)\n",
    "\n",
    "    predictions = torch.stack(predictions).cpu()\n",
    "    prediction_probs = torch.stack(prediction_probs).cpu()\n",
    "    real_values = torch.stack(real_values).cpu()\n",
    "\n",
    "    return review_texts, predictions, prediction_probs, real_values"
   ]
  },
  {
   "cell_type": "code",
   "execution_count": 65,
   "metadata": {
    "execution": {
     "iopub.execute_input": "2020-12-24T11:17:09.165445Z",
     "iopub.status.busy": "2020-12-24T11:17:09.164573Z",
     "iopub.status.idle": "2020-12-24T11:17:16.368363Z",
     "shell.execute_reply": "2020-12-24T11:17:16.367785Z"
    },
    "id": "18mV-rdaIy-T",
    "papermill": {
     "duration": 7.269693,
     "end_time": "2020-12-24T11:17:16.368471",
     "exception": false,
     "start_time": "2020-12-24T11:17:09.098778",
     "status": "completed"
    },
    "tags": []
   },
   "outputs": [],
   "source": [
    "y_review_texts, y_pred, y_pred_probs, y_test = get_predictions(\n",
    "    model,\n",
    "    test_data_loader\n",
    ")"
   ]
  },
  {
   "cell_type": "code",
   "execution_count": 66,
   "metadata": {
    "execution": {
     "iopub.execute_input": "2020-12-24T11:17:16.496096Z",
     "iopub.status.busy": "2020-12-24T11:17:16.495482Z",
     "iopub.status.idle": "2020-12-24T11:17:16.508020Z",
     "shell.execute_reply": "2020-12-24T11:17:16.508635Z"
    },
    "id": "1uvXvTrQVcK6",
    "outputId": "2f139229-c8e1-4b2d-ffd8-63af9520fc0a",
    "papermill": {
     "duration": 0.078262,
     "end_time": "2020-12-24T11:17:16.508789",
     "exception": false,
     "start_time": "2020-12-24T11:17:16.430527",
     "status": "completed"
    },
    "tags": []
   },
   "outputs": [
    {
     "name": "stdout",
     "output_type": "stream",
     "text": [
      "              precision    recall  f1-score   support\n",
      "\n",
      "    negative       0.86      0.88      0.87        91\n",
      "    positive       0.78      0.75      0.77        53\n",
      "\n",
      "    accuracy                           0.83       144\n",
      "   macro avg       0.82      0.82      0.82       144\n",
      "weighted avg       0.83      0.83      0.83       144\n",
      "\n"
     ]
    }
   ],
   "source": [
    "print(classification_report(y_test, y_pred, target_names=class_names))"
   ]
  },
  {
   "cell_type": "code",
   "execution_count": 67,
   "metadata": {
    "execution": {
     "iopub.execute_input": "2020-12-24T11:17:16.640928Z",
     "iopub.status.busy": "2020-12-24T11:17:16.640058Z",
     "iopub.status.idle": "2020-12-24T11:17:16.983718Z",
     "shell.execute_reply": "2020-12-24T11:17:16.983243Z"
    },
    "id": "YWVfnVW3VgL-",
    "outputId": "ffc9aecb-4868-4e3c-d3b4-e374372ec3f1",
    "papermill": {
     "duration": 0.412556,
     "end_time": "2020-12-24T11:17:16.983828",
     "exception": false,
     "start_time": "2020-12-24T11:17:16.571272",
     "status": "completed"
    },
    "tags": []
   },
   "outputs": [
    {
     "data": {
      "image/png": "[encoded data removed]",
      "text/plain": [
       "<Figure size 864x576 with 2 Axes>"
      ]
     },
     "metadata": {
      "image/png": {
       "height": 521,
       "width": 716
      }
     },
     "output_type": "display_data"
    }
   ],
   "source": [
    "def show_confusion_matrix(confusion_matrix):\n",
    "    hmap = sns.heatmap(confusion_matrix, annot=True, fmt=\"d\", cmap=\"Blues\")\n",
    "    hmap.yaxis.set_ticklabels(hmap.yaxis.get_ticklabels(), rotation=0, ha='right')\n",
    "    hmap.xaxis.set_ticklabels(hmap.xaxis.get_ticklabels(), rotation=30, ha='right')\n",
    "    plt.ylabel('True sentiment')\n",
    "    plt.xlabel('Predicted sentiment');\n",
    "\n",
    "cm = confusion_matrix(y_test, y_pred)\n",
    "df_cm = pd.DataFrame(cm, index=class_names, columns=class_names)\n",
    "show_confusion_matrix(df_cm)"
   ]
  },
  {
   "cell_type": "markdown",
   "metadata": {
    "id": "jp2juwgkIyiB",
    "papermill": {
     "duration": 0.063626,
     "end_time": "2020-12-24T11:17:17.111353",
     "exception": false,
     "start_time": "2020-12-24T11:17:17.047727",
     "status": "completed"
    },
    "tags": []
   },
   "source": [
    "This confirms that our model is having difficulty classifying neutral reviews. It mistakes those for negative and positive at a roughly equal frequency.\n",
    "\n",
    "That’s a good overview of the performance of our model."
   ]
  },
  {
   "cell_type": "markdown",
   "metadata": {
    "id": "z6AQl1YoEzV8",
    "papermill": {
     "duration": 0.066433,
     "end_time": "2020-12-24T11:17:17.244113",
     "exception": false,
     "start_time": "2020-12-24T11:17:17.177680",
     "status": "completed"
    },
    "tags": []
   },
   "source": [
    "## Predicting on raw text"
   ]
  },
  {
   "cell_type": "code",
   "execution_count": 68,
   "metadata": {
    "execution": {
     "iopub.execute_input": "2020-12-24T11:17:17.376488Z",
     "iopub.status.busy": "2020-12-24T11:17:17.375848Z",
     "iopub.status.idle": "2020-12-24T11:17:17.379917Z",
     "shell.execute_reply": "2020-12-24T11:17:17.379450Z"
    },
    "id": "S4CWFF0MEzV9",
    "papermill": {
     "duration": 0.07191,
     "end_time": "2020-12-24T11:17:17.380032",
     "exception": false,
     "start_time": "2020-12-24T11:17:17.308122",
     "status": "completed"
    },
    "tags": []
   },
   "outputs": [],
   "source": [
    "review_text = \"I love completing my todos! Best app ever!!!\""
   ]
  },
  {
   "cell_type": "code",
   "execution_count": 69,
   "metadata": {
    "execution": {
     "iopub.execute_input": "2020-12-24T11:17:17.513457Z",
     "iopub.status.busy": "2020-12-24T11:17:17.512703Z",
     "iopub.status.idle": "2020-12-24T11:17:17.515669Z",
     "shell.execute_reply": "2020-12-24T11:17:17.515167Z"
    },
    "id": "TOelFhlsSiK2",
    "papermill": {
     "duration": 0.072027,
     "end_time": "2020-12-24T11:17:17.515764",
     "exception": false,
     "start_time": "2020-12-24T11:17:17.443737",
     "status": "completed"
    },
    "tags": []
   },
   "outputs": [],
   "source": [
    "encoded_review = tokenizer.encode_plus(\n",
    "    review_text,\n",
    "    max_length=MAX_LEN,\n",
    "    add_special_tokens=True,\n",
    "    return_token_type_ids=False,\n",
    "    pad_to_max_length=True,\n",
    "    return_attention_mask=True,\n",
    "    return_tensors='pt',\n",
    ")"
   ]
  },
  {
   "cell_type": "code",
   "execution_count": 70,
   "metadata": {
    "execution": {
     "iopub.execute_input": "2020-12-24T11:17:17.650116Z",
     "iopub.status.busy": "2020-12-24T11:17:17.649279Z",
     "iopub.status.idle": "2020-12-24T11:17:17.676102Z",
     "shell.execute_reply": "2020-12-24T11:17:17.676733Z"
    },
    "id": "3LZm3Ag0WGpi",
    "outputId": "adc38462-7a4a-4554-c856-f8af32c3c8c2",
    "papermill": {
     "duration": 0.096707,
     "end_time": "2020-12-24T11:17:17.676874",
     "exception": false,
     "start_time": "2020-12-24T11:17:17.580167",
     "status": "completed"
    },
    "tags": []
   },
   "outputs": [
    {
     "name": "stdout",
     "output_type": "stream",
     "text": [
      "Review text: I love completing my todos! Best app ever!!!\n",
      "Sentiment  : positive\n"
     ]
    }
   ],
   "source": [
    "input_ids = encoded_review['input_ids'].to(device)\n",
    "attention_mask = encoded_review['attention_mask'].to(device)\n",
    "\n",
    "output = model(input_ids, attention_mask)\n",
    "_, prediction = torch.max(output, dim=1)\n",
    "\n",
    "print(f'Review text: {review_text}')\n",
    "print(f'Sentiment  : {class_names[prediction]}')"
   ]
  },
  {
   "cell_type": "code",
   "execution_count": null,
   "metadata": {
    "papermill": {
     "duration": 0.063904,
     "end_time": "2020-12-24T11:17:17.805311",
     "exception": false,
     "start_time": "2020-12-24T11:17:17.741407",
     "status": "completed"
    },
    "tags": []
   },
   "outputs": [],
   "source": []
  }
 ],
 "metadata": {
  "kernelspec": {
   "display_name": "Python 3",
   "language": "python",
   "name": "python3"
  },
  "language_info": {
   "codemirror_mode": {
    "name": "ipython",
    "version": 3
   },
   "file_extension": ".py",
   "mimetype": "text/x-python",
   "name": "python",
   "nbconvert_exporter": "python",
   "pygments_lexer": "ipython3",
   "version": "3.6.9"
  },
  "papermill": {
   "duration": 2188.44731,
   "end_time": "2020-12-24T11:17:19.363434",
   "environment_variables": {},
   "exception": null,
   "input_path": "__notebook__.ipynb",
   "output_path": "__notebook__.ipynb",
   "parameters": {},
   "start_time": "2020-12-24T10:40:50.916124",
   "version": "2.1.0"
  },
  "widgets": {
   "application/vnd.jupyter.widget-state+json": {
    "state": {
     "08f0442d11a640d0a262286e1ab0544c": {
      "model_module": "@jupyter-widgets/base",
      "model_module_version": "1.2.0",
      "model_name": "LayoutModel",
      "state": {
       "_model_module": "@jupyter-widgets/base",
       "_model_module_version": "1.2.0",
       "_model_name": "LayoutModel",
       "_view_count": null,
       "_view_module": "@jupyter-widgets/base",
       "_view_module_version": "1.2.0",
       "_view_name": "LayoutView",
       "align_content": null,
       "align_items": null,
       "align_self": null,
       "border": null,
       "bottom": null,
       "display": null,
       "flex": null,
       "flex_flow": null,
       "grid_area": null,
       "grid_auto_columns": null,
       "grid_auto_flow": null,
       "grid_auto_rows": null,
       "grid_column": null,
       "grid_gap": null,
       "grid_row": null,
       "grid_template_areas": null,
       "grid_template_columns": null,
       "grid_template_rows": null,
       "height": null,
       "justify_content": null,
       "justify_items": null,
       "left": null,
       "margin": null,
       "max_height": null,
       "max_width": null,
       "min_height": null,
       "min_width": null,
       "object_fit": null,
       "object_position": null,
       "order": null,
       "overflow": null,
       "overflow_x": null,
       "overflow_y": null,
       "padding": null,
       "right": null,
       "top": null,
       "visibility": null,
       "width": null
      }
     },
     "136c089115ea48a485b7102f8b79e4d4": {
      "model_module": "@jupyter-widgets/base",
      "model_module_version": "1.2.0",
      "model_name": "LayoutModel",
      "state": {
       "_model_module": "@jupyter-widgets/base",
       "_model_module_version": "1.2.0",
       "_model_name": "LayoutModel",
       "_view_count": null,
       "_view_module": "@jupyter-widgets/base",
       "_view_module_version": "1.2.0",
       "_view_name": "LayoutView",
       "align_content": null,
       "align_items": null,
       "align_self": null,
       "border": null,
       "bottom": null,
       "display": null,
       "flex": null,
       "flex_flow": null,
       "grid_area": null,
       "grid_auto_columns": null,
       "grid_auto_flow": null,
       "grid_auto_rows": null,
       "grid_column": null,
       "grid_gap": null,
       "grid_row": null,
       "grid_template_areas": null,
       "grid_template_columns": null,
       "grid_template_rows": null,
       "height": null,
       "justify_content": null,
       "justify_items": null,
       "left": null,
       "margin": null,
       "max_height": null,
       "max_width": null,
       "min_height": null,
       "min_width": null,
       "object_fit": null,
       "object_position": null,
       "order": null,
       "overflow": null,
       "overflow_x": null,
       "overflow_y": null,
       "padding": null,
       "right": null,
       "top": null,
       "visibility": null,
       "width": null
      }
     },
     "26bff225ca694e0b96a6a20a2bc78a33": {
      "model_module": "@jupyter-widgets/controls",
      "model_module_version": "1.5.0",
      "model_name": "HBoxModel",
      "state": {
       "_dom_classes": [],
       "_model_module": "@jupyter-widgets/controls",
       "_model_module_version": "1.5.0",
       "_model_name": "HBoxModel",
       "_view_count": null,
       "_view_module": "@jupyter-widgets/controls",
       "_view_module_version": "1.5.0",
       "_view_name": "HBoxView",
       "box_style": "",
       "children": [
        "IPY_MODEL_cfcc631e934144ef880a256bc179d9c0",
        "IPY_MODEL_88b2767f8bff408dac3d8133c8586872"
       ],
       "layout": "IPY_MODEL_a3602909474f4e889ad9f79c855c2c64"
      }
     },
     "3a32cc1b309e48e5877f305ddd26d9c8": {
      "model_module": "@jupyter-widgets/controls",
      "model_module_version": "1.5.0",
      "model_name": "DescriptionStyleModel",
      "state": {
       "_model_module": "@jupyter-widgets/controls",
       "_model_module_version": "1.5.0",
       "_model_name": "DescriptionStyleModel",
       "_view_count": null,
       "_view_module": "@jupyter-widgets/base",
       "_view_module_version": "1.2.0",
       "_view_name": "StyleView",
       "description_width": ""
      }
     },
     "4e7df96b0d3c4d35a95e705bba790448": {
      "model_module": "@jupyter-widgets/controls",
      "model_module_version": "1.5.0",
      "model_name": "HTMLModel",
      "state": {
       "_dom_classes": [],
       "_model_module": "@jupyter-widgets/controls",
       "_model_module_version": "1.5.0",
       "_model_name": "HTMLModel",
       "_view_count": null,
       "_view_module": "@jupyter-widgets/controls",
       "_view_module_version": "1.5.0",
       "_view_name": "HTMLView",
       "description": "",
       "description_tooltip": null,
       "layout": "IPY_MODEL_d592372f47f64e78b9df8f6819efab25",
       "placeholder": "​",
       "style": "IPY_MODEL_3a32cc1b309e48e5877f305ddd26d9c8",
       "value": " 213k/213k [00:00&lt;00:00, 2.31MB/s]"
      }
     },
     "5cb45c06befe4a7293bf177e86213111": {
      "model_module": "@jupyter-widgets/controls",
      "model_module_version": "1.5.0",
      "model_name": "FloatProgressModel",
      "state": {
       "_dom_classes": [],
       "_model_module": "@jupyter-widgets/controls",
       "_model_module_version": "1.5.0",
       "_model_name": "FloatProgressModel",
       "_view_count": null,
       "_view_module": "@jupyter-widgets/controls",
       "_view_module_version": "1.5.0",
       "_view_name": "ProgressView",
       "bar_style": "success",
       "description": "Downloading: 100%",
       "description_tooltip": null,
       "layout": "IPY_MODEL_86cb43a9807a4229b9bc1b4981b07b85",
       "max": 213450,
       "min": 0,
       "orientation": "horizontal",
       "style": "IPY_MODEL_b184057776914fa3baea283972784e1c",
       "value": 213450
      }
     },
     "5dcfec28a3514beb98d7386a20fae56c": {
      "model_module": "@jupyter-widgets/base",
      "model_module_version": "1.2.0",
      "model_name": "LayoutModel",
      "state": {
       "_model_module": "@jupyter-widgets/base",
       "_model_module_version": "1.2.0",
       "_model_name": "LayoutModel",
       "_view_count": null,
       "_view_module": "@jupyter-widgets/base",
       "_view_module_version": "1.2.0",
       "_view_name": "LayoutView",
       "align_content": null,
       "align_items": null,
       "align_self": null,
       "border": null,
       "bottom": null,
       "display": null,
       "flex": null,
       "flex_flow": null,
       "grid_area": null,
       "grid_auto_columns": null,
       "grid_auto_flow": null,
       "grid_auto_rows": null,
       "grid_column": null,
       "grid_gap": null,
       "grid_row": null,
       "grid_template_areas": null,
       "grid_template_columns": null,
       "grid_template_rows": null,
       "height": null,
       "justify_content": null,
       "justify_items": null,
       "left": null,
       "margin": null,
       "max_height": null,
       "max_width": null,
       "min_height": null,
       "min_width": null,
       "object_fit": null,
       "object_position": null,
       "order": null,
       "overflow": null,
       "overflow_x": null,
       "overflow_y": null,
       "padding": null,
       "right": null,
       "top": null,
       "visibility": null,
       "width": null
      }
     },
     "61a89a84ba7b42ffba4f6ea52dbd03c5": {
      "model_module": "@jupyter-widgets/controls",
      "model_module_version": "1.5.0",
      "model_name": "FloatProgressModel",
      "state": {
       "_dom_classes": [],
       "_model_module": "@jupyter-widgets/controls",
       "_model_module_version": "1.5.0",
       "_model_name": "FloatProgressModel",
       "_view_count": null,
       "_view_module": "@jupyter-widgets/controls",
       "_view_module_version": "1.5.0",
       "_view_name": "ProgressView",
       "bar_style": "success",
       "description": "Downloading: 100%",
       "description_tooltip": null,
       "layout": "IPY_MODEL_657268cbab724fc18d29c6d82fd6f3c4",
       "max": 433,
       "min": 0,
       "orientation": "horizontal",
       "style": "IPY_MODEL_9b48aef7746b4c0abd9cc87e9f3ae5f9",
       "value": 433
      }
     },
     "657268cbab724fc18d29c6d82fd6f3c4": {
      "model_module": "@jupyter-widgets/base",
      "model_module_version": "1.2.0",
      "model_name": "LayoutModel",
      "state": {
       "_model_module": "@jupyter-widgets/base",
       "_model_module_version": "1.2.0",
       "_model_name": "LayoutModel",
       "_view_count": null,
       "_view_module": "@jupyter-widgets/base",
       "_view_module_version": "1.2.0",
       "_view_name": "LayoutView",
       "align_content": null,
       "align_items": null,
       "align_self": null,
       "border": null,
       "bottom": null,
       "display": null,
       "flex": null,
       "flex_flow": null,
       "grid_area": null,
       "grid_auto_columns": null,
       "grid_auto_flow": null,
       "grid_auto_rows": null,
       "grid_column": null,
       "grid_gap": null,
       "grid_row": null,
       "grid_template_areas": null,
       "grid_template_columns": null,
       "grid_template_rows": null,
       "height": null,
       "justify_content": null,
       "justify_items": null,
       "left": null,
       "margin": null,
       "max_height": null,
       "max_width": null,
       "min_height": null,
       "min_width": null,
       "object_fit": null,
       "object_position": null,
       "order": null,
       "overflow": null,
       "overflow_x": null,
       "overflow_y": null,
       "padding": null,
       "right": null,
       "top": null,
       "visibility": null,
       "width": null
      }
     },
     "83803ecf7a534141abc1104f0a050e52": {
      "model_module": "@jupyter-widgets/controls",
      "model_module_version": "1.5.0",
      "model_name": "ProgressStyleModel",
      "state": {
       "_model_module": "@jupyter-widgets/controls",
       "_model_module_version": "1.5.0",
       "_model_name": "ProgressStyleModel",
       "_view_count": null,
       "_view_module": "@jupyter-widgets/base",
       "_view_module_version": "1.2.0",
       "_view_name": "StyleView",
       "bar_color": null,
       "description_width": "initial"
      }
     },
     "86cb43a9807a4229b9bc1b4981b07b85": {
      "model_module": "@jupyter-widgets/base",
      "model_module_version": "1.2.0",
      "model_name": "LayoutModel",
      "state": {
       "_model_module": "@jupyter-widgets/base",
       "_model_module_version": "1.2.0",
       "_model_name": "LayoutModel",
       "_view_count": null,
       "_view_module": "@jupyter-widgets/base",
       "_view_module_version": "1.2.0",
       "_view_name": "LayoutView",
       "align_content": null,
       "align_items": null,
       "align_self": null,
       "border": null,
       "bottom": null,
       "display": null,
       "flex": null,
       "flex_flow": null,
       "grid_area": null,
       "grid_auto_columns": null,
       "grid_auto_flow": null,
       "grid_auto_rows": null,
       "grid_column": null,
       "grid_gap": null,
       "grid_row": null,
       "grid_template_areas": null,
       "grid_template_columns": null,
       "grid_template_rows": null,
       "height": null,
       "justify_content": null,
       "justify_items": null,
       "left": null,
       "margin": null,
       "max_height": null,
       "max_width": null,
       "min_height": null,
       "min_width": null,
       "object_fit": null,
       "object_position": null,
       "order": null,
       "overflow": null,
       "overflow_x": null,
       "overflow_y": null,
       "padding": null,
       "right": null,
       "top": null,
       "visibility": null,
       "width": null
      }
     },
     "88b2767f8bff408dac3d8133c8586872": {
      "model_module": "@jupyter-widgets/controls",
      "model_module_version": "1.5.0",
      "model_name": "HTMLModel",
      "state": {
       "_dom_classes": [],
       "_model_module": "@jupyter-widgets/controls",
       "_model_module_version": "1.5.0",
       "_model_name": "HTMLModel",
       "_view_count": null,
       "_view_module": "@jupyter-widgets/controls",
       "_view_module_version": "1.5.0",
       "_view_name": "HTMLView",
       "description": "",
       "description_tooltip": null,
       "layout": "IPY_MODEL_136c089115ea48a485b7102f8b79e4d4",
       "placeholder": "​",
       "style": "IPY_MODEL_a5823196b78b4a558f214d10b3adc5be",
       "value": " 436M/436M [00:14&lt;00:00, 29.5MB/s]"
      }
     },
     "9577e8d665dc4581923a15ade4dcec25": {
      "model_module": "@jupyter-widgets/base",
      "model_module_version": "1.2.0",
      "model_name": "LayoutModel",
      "state": {
       "_model_module": "@jupyter-widgets/base",
       "_model_module_version": "1.2.0",
       "_model_name": "LayoutModel",
       "_view_count": null,
       "_view_module": "@jupyter-widgets/base",
       "_view_module_version": "1.2.0",
       "_view_name": "LayoutView",
       "align_content": null,
       "align_items": null,
       "align_self": null,
       "border": null,
       "bottom": null,
       "display": null,
       "flex": null,
       "flex_flow": null,
       "grid_area": null,
       "grid_auto_columns": null,
       "grid_auto_flow": null,
       "grid_auto_rows": null,
       "grid_column": null,
       "grid_gap": null,
       "grid_row": null,
       "grid_template_areas": null,
       "grid_template_columns": null,
       "grid_template_rows": null,
       "height": null,
       "justify_content": null,
       "justify_items": null,
       "left": null,
       "margin": null,
       "max_height": null,
       "max_width": null,
       "min_height": null,
       "min_width": null,
       "object_fit": null,
       "object_position": null,
       "order": null,
       "overflow": null,
       "overflow_x": null,
       "overflow_y": null,
       "padding": null,
       "right": null,
       "top": null,
       "visibility": null,
       "width": null
      }
     },
     "9972a0d65c074159a443ea3d83ea04c4": {
      "model_module": "@jupyter-widgets/controls",
      "model_module_version": "1.5.0",
      "model_name": "HTMLModel",
      "state": {
       "_dom_classes": [],
       "_model_module": "@jupyter-widgets/controls",
       "_model_module_version": "1.5.0",
       "_model_name": "HTMLModel",
       "_view_count": null,
       "_view_module": "@jupyter-widgets/controls",
       "_view_module_version": "1.5.0",
       "_view_name": "HTMLView",
       "description": "",
       "description_tooltip": null,
       "layout": "IPY_MODEL_08f0442d11a640d0a262286e1ab0544c",
       "placeholder": "​",
       "style": "IPY_MODEL_bc0244292d004eb5934c87e4c9562087",
       "value": " 433/433 [00:15&lt;00:00, 28.3B/s]"
      }
     },
     "9b48aef7746b4c0abd9cc87e9f3ae5f9": {
      "model_module": "@jupyter-widgets/controls",
      "model_module_version": "1.5.0",
      "model_name": "ProgressStyleModel",
      "state": {
       "_model_module": "@jupyter-widgets/controls",
       "_model_module_version": "1.5.0",
       "_model_name": "ProgressStyleModel",
       "_view_count": null,
       "_view_module": "@jupyter-widgets/base",
       "_view_module_version": "1.2.0",
       "_view_name": "StyleView",
       "bar_color": null,
       "description_width": "initial"
      }
     },
     "a3602909474f4e889ad9f79c855c2c64": {
      "model_module": "@jupyter-widgets/base",
      "model_module_version": "1.2.0",
      "model_name": "LayoutModel",
      "state": {
       "_model_module": "@jupyter-widgets/base",
       "_model_module_version": "1.2.0",
       "_model_name": "LayoutModel",
       "_view_count": null,
       "_view_module": "@jupyter-widgets/base",
       "_view_module_version": "1.2.0",
       "_view_name": "LayoutView",
       "align_content": null,
       "align_items": null,
       "align_self": null,
       "border": null,
       "bottom": null,
       "display": null,
       "flex": null,
       "flex_flow": null,
       "grid_area": null,
       "grid_auto_columns": null,
       "grid_auto_flow": null,
       "grid_auto_rows": null,
       "grid_column": null,
       "grid_gap": null,
       "grid_row": null,
       "grid_template_areas": null,
       "grid_template_columns": null,
       "grid_template_rows": null,
       "height": null,
       "justify_content": null,
       "justify_items": null,
       "left": null,
       "margin": null,
       "max_height": null,
       "max_width": null,
       "min_height": null,
       "min_width": null,
       "object_fit": null,
       "object_position": null,
       "order": null,
       "overflow": null,
       "overflow_x": null,
       "overflow_y": null,
       "padding": null,
       "right": null,
       "top": null,
       "visibility": null,
       "width": null
      }
     },
     "a5823196b78b4a558f214d10b3adc5be": {
      "model_module": "@jupyter-widgets/controls",
      "model_module_version": "1.5.0",
      "model_name": "DescriptionStyleModel",
      "state": {
       "_model_module": "@jupyter-widgets/controls",
       "_model_module_version": "1.5.0",
       "_model_name": "DescriptionStyleModel",
       "_view_count": null,
       "_view_module": "@jupyter-widgets/base",
       "_view_module_version": "1.2.0",
       "_view_name": "StyleView",
       "description_width": ""
      }
     },
     "b184057776914fa3baea283972784e1c": {
      "model_module": "@jupyter-widgets/controls",
      "model_module_version": "1.5.0",
      "model_name": "ProgressStyleModel",
      "state": {
       "_model_module": "@jupyter-widgets/controls",
       "_model_module_version": "1.5.0",
       "_model_name": "ProgressStyleModel",
       "_view_count": null,
       "_view_module": "@jupyter-widgets/base",
       "_view_module_version": "1.2.0",
       "_view_name": "StyleView",
       "bar_color": null,
       "description_width": "initial"
      }
     },
     "b4d1100434934077ae12c057e8035c34": {
      "model_module": "@jupyter-widgets/controls",
      "model_module_version": "1.5.0",
      "model_name": "HBoxModel",
      "state": {
       "_dom_classes": [],
       "_model_module": "@jupyter-widgets/controls",
       "_model_module_version": "1.5.0",
       "_model_name": "HBoxModel",
       "_view_count": null,
       "_view_module": "@jupyter-widgets/controls",
       "_view_module_version": "1.5.0",
       "_view_name": "HBoxView",
       "box_style": "",
       "children": [
        "IPY_MODEL_61a89a84ba7b42ffba4f6ea52dbd03c5",
        "IPY_MODEL_9972a0d65c074159a443ea3d83ea04c4"
       ],
       "layout": "IPY_MODEL_9577e8d665dc4581923a15ade4dcec25"
      }
     },
     "bc0244292d004eb5934c87e4c9562087": {
      "model_module": "@jupyter-widgets/controls",
      "model_module_version": "1.5.0",
      "model_name": "DescriptionStyleModel",
      "state": {
       "_model_module": "@jupyter-widgets/controls",
       "_model_module_version": "1.5.0",
       "_model_name": "DescriptionStyleModel",
       "_view_count": null,
       "_view_module": "@jupyter-widgets/base",
       "_view_module_version": "1.2.0",
       "_view_name": "StyleView",
       "description_width": ""
      }
     },
     "cfcc631e934144ef880a256bc179d9c0": {
      "model_module": "@jupyter-widgets/controls",
      "model_module_version": "1.5.0",
      "model_name": "FloatProgressModel",
      "state": {
       "_dom_classes": [],
       "_model_module": "@jupyter-widgets/controls",
       "_model_module_version": "1.5.0",
       "_model_name": "FloatProgressModel",
       "_view_count": null,
       "_view_module": "@jupyter-widgets/controls",
       "_view_module_version": "1.5.0",
       "_view_name": "ProgressView",
       "bar_style": "success",
       "description": "Downloading: 100%",
       "description_tooltip": null,
       "layout": "IPY_MODEL_5dcfec28a3514beb98d7386a20fae56c",
       "max": 435779157,
       "min": 0,
       "orientation": "horizontal",
       "style": "IPY_MODEL_83803ecf7a534141abc1104f0a050e52",
       "value": 435779157
      }
     },
     "d592372f47f64e78b9df8f6819efab25": {
      "model_module": "@jupyter-widgets/base",
      "model_module_version": "1.2.0",
      "model_name": "LayoutModel",
      "state": {
       "_model_module": "@jupyter-widgets/base",
       "_model_module_version": "1.2.0",
       "_model_name": "LayoutModel",
       "_view_count": null,
       "_view_module": "@jupyter-widgets/base",
       "_view_module_version": "1.2.0",
       "_view_name": "LayoutView",
       "align_content": null,
       "align_items": null,
       "align_self": null,
       "border": null,
       "bottom": null,
       "display": null,
       "flex": null,
       "flex_flow": null,
       "grid_area": null,
       "grid_auto_columns": null,
       "grid_auto_flow": null,
       "grid_auto_rows": null,
       "grid_column": null,
       "grid_gap": null,
       "grid_row": null,
       "grid_template_areas": null,
       "grid_template_columns": null,
       "grid_template_rows": null,
       "height": null,
       "justify_content": null,
       "justify_items": null,
       "left": null,
       "margin": null,
       "max_height": null,
       "max_width": null,
       "min_height": null,
       "min_width": null,
       "object_fit": null,
       "object_position": null,
       "order": null,
       "overflow": null,
       "overflow_x": null,
       "overflow_y": null,
       "padding": null,
       "right": null,
       "top": null,
       "visibility": null,
       "width": null
      }
     },
     "d7e7a54ebd8f4a6197f8a03f28bbe6ba": {
      "model_module": "@jupyter-widgets/controls",
      "model_module_version": "1.5.0",
      "model_name": "HBoxModel",
      "state": {
       "_dom_classes": [],
       "_model_module": "@jupyter-widgets/controls",
       "_model_module_version": "1.5.0",
       "_model_name": "HBoxModel",
       "_view_count": null,
       "_view_module": "@jupyter-widgets/controls",
       "_view_module_version": "1.5.0",
       "_view_name": "HBoxView",
       "box_style": "",
       "children": [
        "IPY_MODEL_5cb45c06befe4a7293bf177e86213111",
        "IPY_MODEL_4e7df96b0d3c4d35a95e705bba790448"
       ],
       "layout": "IPY_MODEL_e6b25afebd5e4b3fb2b495370a20e86f"
      }
     },
     "e6b25afebd5e4b3fb2b495370a20e86f": {
      "model_module": "@jupyter-widgets/base",
      "model_module_version": "1.2.0",
      "model_name": "LayoutModel",
      "state": {
       "_model_module": "@jupyter-widgets/base",
       "_model_module_version": "1.2.0",
       "_model_name": "LayoutModel",
       "_view_count": null,
       "_view_module": "@jupyter-widgets/base",
       "_view_module_version": "1.2.0",
       "_view_name": "LayoutView",
       "align_content": null,
       "align_items": null,
       "align_self": null,
       "border": null,
       "bottom": null,
       "display": null,
       "flex": null,
       "flex_flow": null,
       "grid_area": null,
       "grid_auto_columns": null,
       "grid_auto_flow": null,
       "grid_auto_rows": null,
       "grid_column": null,
       "grid_gap": null,
       "grid_row": null,
       "grid_template_areas": null,
       "grid_template_columns": null,
       "grid_template_rows": null,
       "height": null,
       "justify_content": null,
       "justify_items": null,
       "left": null,
       "margin": null,
       "max_height": null,
       "max_width": null,
       "min_height": null,
       "min_width": null,
       "object_fit": null,
       "object_position": null,
       "order": null,
       "overflow": null,
       "overflow_x": null,
       "overflow_y": null,
       "padding": null,
       "right": null,
       "top": null,
       "visibility": null,
       "width": null
      }
     }
    },
    "version_major": 2,
    "version_minor": 0
   }
  }
 },
 "nbformat": 4,
 "nbformat_minor": 4
}
